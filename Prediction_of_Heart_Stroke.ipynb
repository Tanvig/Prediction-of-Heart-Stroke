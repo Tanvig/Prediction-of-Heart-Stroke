{
  "nbformat": 4,
  "nbformat_minor": 0,
  "metadata": {
    "colab": {
      "provenance": []
    },
    "kernelspec": {
      "name": "python3",
      "display_name": "Python 3"
    },
    "language_info": {
      "name": "python"
    }
  },
  "cells": [
    {
      "cell_type": "markdown",
      "source": [
        "# **Prediction of Heart Stroke**\n",
        "\n",
        "---\n",
        "In this analysis, we will explore the factors that influence stroke occurrences and employ machine learning techniques to predict stroke risks.\n",
        "\n",
        "The dataset is taken from: https://www.kaggle.com/datasets/fedesoriano/stroke-prediction-dataset  \n",
        "\n",
        "Important questions?\n",
        "*   What attributes are important for predicting a stroke?\n",
        "*   Is Logistic Regression a good model for predicting a stroke from this dataset?\n",
        "\n"
      ],
      "metadata": {
        "id": "sCEbcxTHJsu2"
      }
    },
    {
      "cell_type": "markdown",
      "source": [
        "## **Importing necessary libraries**"
      ],
      "metadata": {
        "id": "6NuW7K5yKMEO"
      }
    },
    {
      "cell_type": "code",
      "execution_count": 121,
      "metadata": {
        "id": "6LuOoWAZP4Ig"
      },
      "outputs": [],
      "source": [
        "import numpy as np\n",
        "import pandas as pd\n",
        "import missingno as msno\n",
        "import matplotlib\n",
        "import matplotlib.pyplot as plt\n",
        "import seaborn as sns\n",
        "import plotly.express as px\n",
        "from scipy.stats import chi2_contingency, ttest_ind\n",
        "from sklearn.preprocessing import (LabelEncoder, OneHotEncoder)\n",
        "from sklearn.model_selection import train_test_split\n",
        "from sklearn.metrics import confusion_matrix\n",
        "from imblearn.over_sampling import SMOTE\n",
        "from imblearn.datasets import make_imbalance\n",
        "from sklearn.linear_model import LogisticRegression\n",
        "from sklearn.metrics import classification_report, accuracy_score"
      ]
    },
    {
      "cell_type": "markdown",
      "source": [
        "## **Reading and exploring the dataset**"
      ],
      "metadata": {
        "id": "m9JVmW3KKWWU"
      }
    },
    {
      "cell_type": "code",
      "source": [
        "data = pd.read_csv(\"healthcare-dataset-stroke-data.csv\")\n",
        "data.head()"
      ],
      "metadata": {
        "colab": {
          "base_uri": "https://localhost:8080/",
          "height": 206
        },
        "id": "eK0_ruyJsfz1",
        "outputId": "969ff310-4c22-4ed0-dc4c-38d5a8570e7f"
      },
      "execution_count": 74,
      "outputs": [
        {
          "output_type": "execute_result",
          "data": {
            "text/plain": [
              "      id  gender   age  hypertension  heart_disease ever_married  \\\n",
              "0   9046    Male  67.0             0              1          Yes   \n",
              "1  51676  Female  61.0             0              0          Yes   \n",
              "2  31112    Male  80.0             0              1          Yes   \n",
              "3  60182  Female  49.0             0              0          Yes   \n",
              "4   1665  Female  79.0             1              0          Yes   \n",
              "\n",
              "       work_type Residence_type  avg_glucose_level   bmi   smoking_status  \\\n",
              "0        Private          Urban             228.69  36.6  formerly smoked   \n",
              "1  Self-employed          Rural             202.21   NaN     never smoked   \n",
              "2        Private          Rural             105.92  32.5     never smoked   \n",
              "3        Private          Urban             171.23  34.4           smokes   \n",
              "4  Self-employed          Rural             174.12  24.0     never smoked   \n",
              "\n",
              "   stroke  \n",
              "0       1  \n",
              "1       1  \n",
              "2       1  \n",
              "3       1  \n",
              "4       1  "
            ],
            "text/html": [
              "\n",
              "  <div id=\"df-44ad23a1-3199-40f6-9bfe-1601d644441b\" class=\"colab-df-container\">\n",
              "    <div>\n",
              "<style scoped>\n",
              "    .dataframe tbody tr th:only-of-type {\n",
              "        vertical-align: middle;\n",
              "    }\n",
              "\n",
              "    .dataframe tbody tr th {\n",
              "        vertical-align: top;\n",
              "    }\n",
              "\n",
              "    .dataframe thead th {\n",
              "        text-align: right;\n",
              "    }\n",
              "</style>\n",
              "<table border=\"1\" class=\"dataframe\">\n",
              "  <thead>\n",
              "    <tr style=\"text-align: right;\">\n",
              "      <th></th>\n",
              "      <th>id</th>\n",
              "      <th>gender</th>\n",
              "      <th>age</th>\n",
              "      <th>hypertension</th>\n",
              "      <th>heart_disease</th>\n",
              "      <th>ever_married</th>\n",
              "      <th>work_type</th>\n",
              "      <th>Residence_type</th>\n",
              "      <th>avg_glucose_level</th>\n",
              "      <th>bmi</th>\n",
              "      <th>smoking_status</th>\n",
              "      <th>stroke</th>\n",
              "    </tr>\n",
              "  </thead>\n",
              "  <tbody>\n",
              "    <tr>\n",
              "      <th>0</th>\n",
              "      <td>9046</td>\n",
              "      <td>Male</td>\n",
              "      <td>67.0</td>\n",
              "      <td>0</td>\n",
              "      <td>1</td>\n",
              "      <td>Yes</td>\n",
              "      <td>Private</td>\n",
              "      <td>Urban</td>\n",
              "      <td>228.69</td>\n",
              "      <td>36.6</td>\n",
              "      <td>formerly smoked</td>\n",
              "      <td>1</td>\n",
              "    </tr>\n",
              "    <tr>\n",
              "      <th>1</th>\n",
              "      <td>51676</td>\n",
              "      <td>Female</td>\n",
              "      <td>61.0</td>\n",
              "      <td>0</td>\n",
              "      <td>0</td>\n",
              "      <td>Yes</td>\n",
              "      <td>Self-employed</td>\n",
              "      <td>Rural</td>\n",
              "      <td>202.21</td>\n",
              "      <td>NaN</td>\n",
              "      <td>never smoked</td>\n",
              "      <td>1</td>\n",
              "    </tr>\n",
              "    <tr>\n",
              "      <th>2</th>\n",
              "      <td>31112</td>\n",
              "      <td>Male</td>\n",
              "      <td>80.0</td>\n",
              "      <td>0</td>\n",
              "      <td>1</td>\n",
              "      <td>Yes</td>\n",
              "      <td>Private</td>\n",
              "      <td>Rural</td>\n",
              "      <td>105.92</td>\n",
              "      <td>32.5</td>\n",
              "      <td>never smoked</td>\n",
              "      <td>1</td>\n",
              "    </tr>\n",
              "    <tr>\n",
              "      <th>3</th>\n",
              "      <td>60182</td>\n",
              "      <td>Female</td>\n",
              "      <td>49.0</td>\n",
              "      <td>0</td>\n",
              "      <td>0</td>\n",
              "      <td>Yes</td>\n",
              "      <td>Private</td>\n",
              "      <td>Urban</td>\n",
              "      <td>171.23</td>\n",
              "      <td>34.4</td>\n",
              "      <td>smokes</td>\n",
              "      <td>1</td>\n",
              "    </tr>\n",
              "    <tr>\n",
              "      <th>4</th>\n",
              "      <td>1665</td>\n",
              "      <td>Female</td>\n",
              "      <td>79.0</td>\n",
              "      <td>1</td>\n",
              "      <td>0</td>\n",
              "      <td>Yes</td>\n",
              "      <td>Self-employed</td>\n",
              "      <td>Rural</td>\n",
              "      <td>174.12</td>\n",
              "      <td>24.0</td>\n",
              "      <td>never smoked</td>\n",
              "      <td>1</td>\n",
              "    </tr>\n",
              "  </tbody>\n",
              "</table>\n",
              "</div>\n",
              "    <div class=\"colab-df-buttons\">\n",
              "\n",
              "  <div class=\"colab-df-container\">\n",
              "    <button class=\"colab-df-convert\" onclick=\"convertToInteractive('df-44ad23a1-3199-40f6-9bfe-1601d644441b')\"\n",
              "            title=\"Convert this dataframe to an interactive table.\"\n",
              "            style=\"display:none;\">\n",
              "\n",
              "  <svg xmlns=\"http://www.w3.org/2000/svg\" height=\"24px\" viewBox=\"0 -960 960 960\">\n",
              "    <path d=\"M120-120v-720h720v720H120Zm60-500h600v-160H180v160Zm220 220h160v-160H400v160Zm0 220h160v-160H400v160ZM180-400h160v-160H180v160Zm440 0h160v-160H620v160ZM180-180h160v-160H180v160Zm440 0h160v-160H620v160Z\"/>\n",
              "  </svg>\n",
              "    </button>\n",
              "\n",
              "  <style>\n",
              "    .colab-df-container {\n",
              "      display:flex;\n",
              "      gap: 12px;\n",
              "    }\n",
              "\n",
              "    .colab-df-convert {\n",
              "      background-color: #E8F0FE;\n",
              "      border: none;\n",
              "      border-radius: 50%;\n",
              "      cursor: pointer;\n",
              "      display: none;\n",
              "      fill: #1967D2;\n",
              "      height: 32px;\n",
              "      padding: 0 0 0 0;\n",
              "      width: 32px;\n",
              "    }\n",
              "\n",
              "    .colab-df-convert:hover {\n",
              "      background-color: #E2EBFA;\n",
              "      box-shadow: 0px 1px 2px rgba(60, 64, 67, 0.3), 0px 1px 3px 1px rgba(60, 64, 67, 0.15);\n",
              "      fill: #174EA6;\n",
              "    }\n",
              "\n",
              "    .colab-df-buttons div {\n",
              "      margin-bottom: 4px;\n",
              "    }\n",
              "\n",
              "    [theme=dark] .colab-df-convert {\n",
              "      background-color: #3B4455;\n",
              "      fill: #D2E3FC;\n",
              "    }\n",
              "\n",
              "    [theme=dark] .colab-df-convert:hover {\n",
              "      background-color: #434B5C;\n",
              "      box-shadow: 0px 1px 3px 1px rgba(0, 0, 0, 0.15);\n",
              "      filter: drop-shadow(0px 1px 2px rgba(0, 0, 0, 0.3));\n",
              "      fill: #FFFFFF;\n",
              "    }\n",
              "  </style>\n",
              "\n",
              "    <script>\n",
              "      const buttonEl =\n",
              "        document.querySelector('#df-44ad23a1-3199-40f6-9bfe-1601d644441b button.colab-df-convert');\n",
              "      buttonEl.style.display =\n",
              "        google.colab.kernel.accessAllowed ? 'block' : 'none';\n",
              "\n",
              "      async function convertToInteractive(key) {\n",
              "        const element = document.querySelector('#df-44ad23a1-3199-40f6-9bfe-1601d644441b');\n",
              "        const dataTable =\n",
              "          await google.colab.kernel.invokeFunction('convertToInteractive',\n",
              "                                                    [key], {});\n",
              "        if (!dataTable) return;\n",
              "\n",
              "        const docLinkHtml = 'Like what you see? Visit the ' +\n",
              "          '<a target=\"_blank\" href=https://colab.research.google.com/notebooks/data_table.ipynb>data table notebook</a>'\n",
              "          + ' to learn more about interactive tables.';\n",
              "        element.innerHTML = '';\n",
              "        dataTable['output_type'] = 'display_data';\n",
              "        await google.colab.output.renderOutput(dataTable, element);\n",
              "        const docLink = document.createElement('div');\n",
              "        docLink.innerHTML = docLinkHtml;\n",
              "        element.appendChild(docLink);\n",
              "      }\n",
              "    </script>\n",
              "  </div>\n",
              "\n",
              "\n",
              "<div id=\"df-726a12f8-c5a2-48b9-afe8-91c4544efc1e\">\n",
              "  <button class=\"colab-df-quickchart\" onclick=\"quickchart('df-726a12f8-c5a2-48b9-afe8-91c4544efc1e')\"\n",
              "            title=\"Suggest charts\"\n",
              "            style=\"display:none;\">\n",
              "\n",
              "<svg xmlns=\"http://www.w3.org/2000/svg\" height=\"24px\"viewBox=\"0 0 24 24\"\n",
              "     width=\"24px\">\n",
              "    <g>\n",
              "        <path d=\"M19 3H5c-1.1 0-2 .9-2 2v14c0 1.1.9 2 2 2h14c1.1 0 2-.9 2-2V5c0-1.1-.9-2-2-2zM9 17H7v-7h2v7zm4 0h-2V7h2v10zm4 0h-2v-4h2v4z\"/>\n",
              "    </g>\n",
              "</svg>\n",
              "  </button>\n",
              "\n",
              "<style>\n",
              "  .colab-df-quickchart {\n",
              "      --bg-color: #E8F0FE;\n",
              "      --fill-color: #1967D2;\n",
              "      --hover-bg-color: #E2EBFA;\n",
              "      --hover-fill-color: #174EA6;\n",
              "      --disabled-fill-color: #AAA;\n",
              "      --disabled-bg-color: #DDD;\n",
              "  }\n",
              "\n",
              "  [theme=dark] .colab-df-quickchart {\n",
              "      --bg-color: #3B4455;\n",
              "      --fill-color: #D2E3FC;\n",
              "      --hover-bg-color: #434B5C;\n",
              "      --hover-fill-color: #FFFFFF;\n",
              "      --disabled-bg-color: #3B4455;\n",
              "      --disabled-fill-color: #666;\n",
              "  }\n",
              "\n",
              "  .colab-df-quickchart {\n",
              "    background-color: var(--bg-color);\n",
              "    border: none;\n",
              "    border-radius: 50%;\n",
              "    cursor: pointer;\n",
              "    display: none;\n",
              "    fill: var(--fill-color);\n",
              "    height: 32px;\n",
              "    padding: 0;\n",
              "    width: 32px;\n",
              "  }\n",
              "\n",
              "  .colab-df-quickchart:hover {\n",
              "    background-color: var(--hover-bg-color);\n",
              "    box-shadow: 0 1px 2px rgba(60, 64, 67, 0.3), 0 1px 3px 1px rgba(60, 64, 67, 0.15);\n",
              "    fill: var(--button-hover-fill-color);\n",
              "  }\n",
              "\n",
              "  .colab-df-quickchart-complete:disabled,\n",
              "  .colab-df-quickchart-complete:disabled:hover {\n",
              "    background-color: var(--disabled-bg-color);\n",
              "    fill: var(--disabled-fill-color);\n",
              "    box-shadow: none;\n",
              "  }\n",
              "\n",
              "  .colab-df-spinner {\n",
              "    border: 2px solid var(--fill-color);\n",
              "    border-color: transparent;\n",
              "    border-bottom-color: var(--fill-color);\n",
              "    animation:\n",
              "      spin 1s steps(1) infinite;\n",
              "  }\n",
              "\n",
              "  @keyframes spin {\n",
              "    0% {\n",
              "      border-color: transparent;\n",
              "      border-bottom-color: var(--fill-color);\n",
              "      border-left-color: var(--fill-color);\n",
              "    }\n",
              "    20% {\n",
              "      border-color: transparent;\n",
              "      border-left-color: var(--fill-color);\n",
              "      border-top-color: var(--fill-color);\n",
              "    }\n",
              "    30% {\n",
              "      border-color: transparent;\n",
              "      border-left-color: var(--fill-color);\n",
              "      border-top-color: var(--fill-color);\n",
              "      border-right-color: var(--fill-color);\n",
              "    }\n",
              "    40% {\n",
              "      border-color: transparent;\n",
              "      border-right-color: var(--fill-color);\n",
              "      border-top-color: var(--fill-color);\n",
              "    }\n",
              "    60% {\n",
              "      border-color: transparent;\n",
              "      border-right-color: var(--fill-color);\n",
              "    }\n",
              "    80% {\n",
              "      border-color: transparent;\n",
              "      border-right-color: var(--fill-color);\n",
              "      border-bottom-color: var(--fill-color);\n",
              "    }\n",
              "    90% {\n",
              "      border-color: transparent;\n",
              "      border-bottom-color: var(--fill-color);\n",
              "    }\n",
              "  }\n",
              "</style>\n",
              "\n",
              "  <script>\n",
              "    async function quickchart(key) {\n",
              "      const quickchartButtonEl =\n",
              "        document.querySelector('#' + key + ' button');\n",
              "      quickchartButtonEl.disabled = true;  // To prevent multiple clicks.\n",
              "      quickchartButtonEl.classList.add('colab-df-spinner');\n",
              "      try {\n",
              "        const charts = await google.colab.kernel.invokeFunction(\n",
              "            'suggestCharts', [key], {});\n",
              "      } catch (error) {\n",
              "        console.error('Error during call to suggestCharts:', error);\n",
              "      }\n",
              "      quickchartButtonEl.classList.remove('colab-df-spinner');\n",
              "      quickchartButtonEl.classList.add('colab-df-quickchart-complete');\n",
              "    }\n",
              "    (() => {\n",
              "      let quickchartButtonEl =\n",
              "        document.querySelector('#df-726a12f8-c5a2-48b9-afe8-91c4544efc1e button');\n",
              "      quickchartButtonEl.style.display =\n",
              "        google.colab.kernel.accessAllowed ? 'block' : 'none';\n",
              "    })();\n",
              "  </script>\n",
              "</div>\n",
              "    </div>\n",
              "  </div>\n"
            ]
          },
          "metadata": {},
          "execution_count": 74
        }
      ]
    },
    {
      "cell_type": "code",
      "source": [
        "df = data.copy()"
      ],
      "metadata": {
        "id": "84taSTINcGV5"
      },
      "execution_count": 88,
      "outputs": []
    },
    {
      "cell_type": "markdown",
      "source": [
        "Since the 'id' variable is not required for further analysis, we are dropping that column."
      ],
      "metadata": {
        "id": "r4ddCYb-LKYo"
      }
    },
    {
      "cell_type": "code",
      "source": [
        "df.drop('id', axis=1, inplace=True)"
      ],
      "metadata": {
        "id": "1CF0oktmt3U9"
      },
      "execution_count": 89,
      "outputs": []
    },
    {
      "cell_type": "markdown",
      "source": [
        "We can observe below that all the data columns contain 5110 observations except the 'bmi' column. We should handle these missing values later on."
      ],
      "metadata": {
        "id": "WNnLeu4WLgve"
      }
    },
    {
      "cell_type": "code",
      "source": [
        "df.info()"
      ],
      "metadata": {
        "colab": {
          "base_uri": "https://localhost:8080/"
        },
        "id": "jPbHHMm4tUuL",
        "outputId": "94e6a695-cf3d-492f-c372-5b6dfa2415e0"
      },
      "execution_count": 5,
      "outputs": [
        {
          "output_type": "stream",
          "name": "stdout",
          "text": [
            "<class 'pandas.core.frame.DataFrame'>\n",
            "RangeIndex: 5110 entries, 0 to 5109\n",
            "Data columns (total 11 columns):\n",
            " #   Column             Non-Null Count  Dtype  \n",
            "---  ------             --------------  -----  \n",
            " 0   gender             5110 non-null   object \n",
            " 1   age                5110 non-null   float64\n",
            " 2   hypertension       5110 non-null   int64  \n",
            " 3   heart_disease      5110 non-null   int64  \n",
            " 4   ever_married       5110 non-null   object \n",
            " 5   work_type          5110 non-null   object \n",
            " 6   Residence_type     5110 non-null   object \n",
            " 7   avg_glucose_level  5110 non-null   float64\n",
            " 8   bmi                4909 non-null   float64\n",
            " 9   smoking_status     5110 non-null   object \n",
            " 10  stroke             5110 non-null   int64  \n",
            "dtypes: float64(3), int64(3), object(5)\n",
            "memory usage: 439.3+ KB\n"
          ]
        }
      ]
    },
    {
      "cell_type": "markdown",
      "source": [
        "The below heatmap also shows that the 'bmi' variable has some missing data."
      ],
      "metadata": {
        "id": "gd_Cn1TVL4Kf"
      }
    },
    {
      "cell_type": "code",
      "source": [
        "plt.figure(figsize=(8, 6))\n",
        "sns.heatmap(df.isnull(), cmap='cividis', cbar=False)\n",
        "plt.title('Heatmap for the Missing Data')\n",
        "plt.show()\n",
        "df.isnull().sum()"
      ],
      "metadata": {
        "colab": {
          "base_uri": "https://localhost:8080/",
          "height": 871
        },
        "id": "XAZFh-42mhu9",
        "outputId": "be0d4db7-c858-43b8-9f44-f067588f3f30"
      },
      "execution_count": 6,
      "outputs": [
        {
          "output_type": "display_data",
          "data": {
            "text/plain": [
              "<Figure size 800x600 with 1 Axes>"
            ],
            "image/png": "[encoded data removed]"
          },
          "metadata": {}
        },
        {
          "output_type": "execute_result",
          "data": {
            "text/plain": [
              "gender                 0\n",
              "age                    0\n",
              "hypertension           0\n",
              "heart_disease          0\n",
              "ever_married           0\n",
              "work_type              0\n",
              "Residence_type         0\n",
              "avg_glucose_level      0\n",
              "bmi                  201\n",
              "smoking_status         0\n",
              "stroke                 0\n",
              "dtype: int64"
            ]
          },
          "metadata": {},
          "execution_count": 6
        }
      ]
    },
    {
      "cell_type": "markdown",
      "source": [
        "We will use the describe method to look at the summary of descriptive statistics for our data, for both the numeric and non-numeric data. For instance, the non-numeric columns such as gender, ever_married, work_type, Residence_type and smoking_status will show the number of unique categories in each."
      ],
      "metadata": {
        "id": "MW764YjhMYvc"
      }
    },
    {
      "cell_type": "code",
      "source": [
        "df.describe()"
      ],
      "metadata": {
        "colab": {
          "base_uri": "https://localhost:8080/",
          "height": 300
        },
        "id": "rwr25C8bt0Hn",
        "outputId": "a2549ab0-7331-4ac9-e053-4f0c0b82642e"
      },
      "execution_count": 7,
      "outputs": [
        {
          "output_type": "execute_result",
          "data": {
            "text/plain": [
              "               age  hypertension  heart_disease  avg_glucose_level  \\\n",
              "count  5110.000000   5110.000000    5110.000000        5110.000000   \n",
              "mean     43.226614      0.097456       0.054012         106.147677   \n",
              "std      22.612647      0.296607       0.226063          45.283560   \n",
              "min       0.080000      0.000000       0.000000          55.120000   \n",
              "25%      25.000000      0.000000       0.000000          77.245000   \n",
              "50%      45.000000      0.000000       0.000000          91.885000   \n",
              "75%      61.000000      0.000000       0.000000         114.090000   \n",
              "max      82.000000      1.000000       1.000000         271.740000   \n",
              "\n",
              "               bmi       stroke  \n",
              "count  4909.000000  5110.000000  \n",
              "mean     28.893237     0.048728  \n",
              "std       7.854067     0.215320  \n",
              "min      10.300000     0.000000  \n",
              "25%      23.500000     0.000000  \n",
              "50%      28.100000     0.000000  \n",
              "75%      33.100000     0.000000  \n",
              "max      97.600000     1.000000  "
            ],
            "text/html": [
              "\n",
              "  <div id=\"df-df2b6779-1bf9-4221-a7e7-0c98352125bd\" class=\"colab-df-container\">\n",
              "    <div>\n",
              "<style scoped>\n",
              "    .dataframe tbody tr th:only-of-type {\n",
              "        vertical-align: middle;\n",
              "    }\n",
              "\n",
              "    .dataframe tbody tr th {\n",
              "        vertical-align: top;\n",
              "    }\n",
              "\n",
              "    .dataframe thead th {\n",
              "        text-align: right;\n",
              "    }\n",
              "</style>\n",
              "<table border=\"1\" class=\"dataframe\">\n",
              "  <thead>\n",
              "    <tr style=\"text-align: right;\">\n",
              "      <th></th>\n",
              "      <th>age</th>\n",
              "      <th>hypertension</th>\n",
              "      <th>heart_disease</th>\n",
              "      <th>avg_glucose_level</th>\n",
              "      <th>bmi</th>\n",
              "      <th>stroke</th>\n",
              "    </tr>\n",
              "  </thead>\n",
              "  <tbody>\n",
              "    <tr>\n",
              "      <th>count</th>\n",
              "      <td>5110.000000</td>\n",
              "      <td>5110.000000</td>\n",
              "      <td>5110.000000</td>\n",
              "      <td>5110.000000</td>\n",
              "      <td>4909.000000</td>\n",
              "      <td>5110.000000</td>\n",
              "    </tr>\n",
              "    <tr>\n",
              "      <th>mean</th>\n",
              "      <td>43.226614</td>\n",
              "      <td>0.097456</td>\n",
              "      <td>0.054012</td>\n",
              "      <td>106.147677</td>\n",
              "      <td>28.893237</td>\n",
              "      <td>0.048728</td>\n",
              "    </tr>\n",
              "    <tr>\n",
              "      <th>std</th>\n",
              "      <td>22.612647</td>\n",
              "      <td>0.296607</td>\n",
              "      <td>0.226063</td>\n",
              "      <td>45.283560</td>\n",
              "      <td>7.854067</td>\n",
              "      <td>0.215320</td>\n",
              "    </tr>\n",
              "    <tr>\n",
              "      <th>min</th>\n",
              "      <td>0.080000</td>\n",
              "      <td>0.000000</td>\n",
              "      <td>0.000000</td>\n",
              "      <td>55.120000</td>\n",
              "      <td>10.300000</td>\n",
              "      <td>0.000000</td>\n",
              "    </tr>\n",
              "    <tr>\n",
              "      <th>25%</th>\n",
              "      <td>25.000000</td>\n",
              "      <td>0.000000</td>\n",
              "      <td>0.000000</td>\n",
              "      <td>77.245000</td>\n",
              "      <td>23.500000</td>\n",
              "      <td>0.000000</td>\n",
              "    </tr>\n",
              "    <tr>\n",
              "      <th>50%</th>\n",
              "      <td>45.000000</td>\n",
              "      <td>0.000000</td>\n",
              "      <td>0.000000</td>\n",
              "      <td>91.885000</td>\n",
              "      <td>28.100000</td>\n",
              "      <td>0.000000</td>\n",
              "    </tr>\n",
              "    <tr>\n",
              "      <th>75%</th>\n",
              "      <td>61.000000</td>\n",
              "      <td>0.000000</td>\n",
              "      <td>0.000000</td>\n",
              "      <td>114.090000</td>\n",
              "      <td>33.100000</td>\n",
              "      <td>0.000000</td>\n",
              "    </tr>\n",
              "    <tr>\n",
              "      <th>max</th>\n",
              "      <td>82.000000</td>\n",
              "      <td>1.000000</td>\n",
              "      <td>1.000000</td>\n",
              "      <td>271.740000</td>\n",
              "      <td>97.600000</td>\n",
              "      <td>1.000000</td>\n",
              "    </tr>\n",
              "  </tbody>\n",
              "</table>\n",
              "</div>\n",
              "    <div class=\"colab-df-buttons\">\n",
              "\n",
              "  <div class=\"colab-df-container\">\n",
              "    <button class=\"colab-df-convert\" onclick=\"convertToInteractive('df-df2b6779-1bf9-4221-a7e7-0c98352125bd')\"\n",
              "            title=\"Convert this dataframe to an interactive table.\"\n",
              "            style=\"display:none;\">\n",
              "\n",
              "  <svg xmlns=\"http://www.w3.org/2000/svg\" height=\"24px\" viewBox=\"0 -960 960 960\">\n",
              "    <path d=\"M120-120v-720h720v720H120Zm60-500h600v-160H180v160Zm220 220h160v-160H400v160Zm0 220h160v-160H400v160ZM180-400h160v-160H180v160Zm440 0h160v-160H620v160ZM180-180h160v-160H180v160Zm440 0h160v-160H620v160Z\"/>\n",
              "  </svg>\n",
              "    </button>\n",
              "\n",
              "  <style>\n",
              "    .colab-df-container {\n",
              "      display:flex;\n",
              "      gap: 12px;\n",
              "    }\n",
              "\n",
              "    .colab-df-convert {\n",
              "      background-color: #E8F0FE;\n",
              "      border: none;\n",
              "      border-radius: 50%;\n",
              "      cursor: pointer;\n",
              "      display: none;\n",
              "      fill: #1967D2;\n",
              "      height: 32px;\n",
              "      padding: 0 0 0 0;\n",
              "      width: 32px;\n",
              "    }\n",
              "\n",
              "    .colab-df-convert:hover {\n",
              "      background-color: #E2EBFA;\n",
              "      box-shadow: 0px 1px 2px rgba(60, 64, 67, 0.3), 0px 1px 3px 1px rgba(60, 64, 67, 0.15);\n",
              "      fill: #174EA6;\n",
              "    }\n",
              "\n",
              "    .colab-df-buttons div {\n",
              "      margin-bottom: 4px;\n",
              "    }\n",
              "\n",
              "    [theme=dark] .colab-df-convert {\n",
              "      background-color: #3B4455;\n",
              "      fill: #D2E3FC;\n",
              "    }\n",
              "\n",
              "    [theme=dark] .colab-df-convert:hover {\n",
              "      background-color: #434B5C;\n",
              "      box-shadow: 0px 1px 3px 1px rgba(0, 0, 0, 0.15);\n",
              "      filter: drop-shadow(0px 1px 2px rgba(0, 0, 0, 0.3));\n",
              "      fill: #FFFFFF;\n",
              "    }\n",
              "  </style>\n",
              "\n",
              "    <script>\n",
              "      const buttonEl =\n",
              "        document.querySelector('#df-df2b6779-1bf9-4221-a7e7-0c98352125bd button.colab-df-convert');\n",
              "      buttonEl.style.display =\n",
              "        google.colab.kernel.accessAllowed ? 'block' : 'none';\n",
              "\n",
              "      async function convertToInteractive(key) {\n",
              "        const element = document.querySelector('#df-df2b6779-1bf9-4221-a7e7-0c98352125bd');\n",
              "        const dataTable =\n",
              "          await google.colab.kernel.invokeFunction('convertToInteractive',\n",
              "                                                    [key], {});\n",
              "        if (!dataTable) return;\n",
              "\n",
              "        const docLinkHtml = 'Like what you see? Visit the ' +\n",
              "          '<a target=\"_blank\" href=https://colab.research.google.com/notebooks/data_table.ipynb>data table notebook</a>'\n",
              "          + ' to learn more about interactive tables.';\n",
              "        element.innerHTML = '';\n",
              "        dataTable['output_type'] = 'display_data';\n",
              "        await google.colab.output.renderOutput(dataTable, element);\n",
              "        const docLink = document.createElement('div');\n",
              "        docLink.innerHTML = docLinkHtml;\n",
              "        element.appendChild(docLink);\n",
              "      }\n",
              "    </script>\n",
              "  </div>\n",
              "\n",
              "\n",
              "<div id=\"df-1b53356d-2066-417d-9f28-fcdd380d9685\">\n",
              "  <button class=\"colab-df-quickchart\" onclick=\"quickchart('df-1b53356d-2066-417d-9f28-fcdd380d9685')\"\n",
              "            title=\"Suggest charts\"\n",
              "            style=\"display:none;\">\n",
              "\n",
              "<svg xmlns=\"http://www.w3.org/2000/svg\" height=\"24px\"viewBox=\"0 0 24 24\"\n",
              "     width=\"24px\">\n",
              "    <g>\n",
              "        <path d=\"M19 3H5c-1.1 0-2 .9-2 2v14c0 1.1.9 2 2 2h14c1.1 0 2-.9 2-2V5c0-1.1-.9-2-2-2zM9 17H7v-7h2v7zm4 0h-2V7h2v10zm4 0h-2v-4h2v4z\"/>\n",
              "    </g>\n",
              "</svg>\n",
              "  </button>\n",
              "\n",
              "<style>\n",
              "  .colab-df-quickchart {\n",
              "      --bg-color: #E8F0FE;\n",
              "      --fill-color: #1967D2;\n",
              "      --hover-bg-color: #E2EBFA;\n",
              "      --hover-fill-color: #174EA6;\n",
              "      --disabled-fill-color: #AAA;\n",
              "      --disabled-bg-color: #DDD;\n",
              "  }\n",
              "\n",
              "  [theme=dark] .colab-df-quickchart {\n",
              "      --bg-color: #3B4455;\n",
              "      --fill-color: #D2E3FC;\n",
              "      --hover-bg-color: #434B5C;\n",
              "      --hover-fill-color: #FFFFFF;\n",
              "      --disabled-bg-color: #3B4455;\n",
              "      --disabled-fill-color: #666;\n",
              "  }\n",
              "\n",
              "  .colab-df-quickchart {\n",
              "    background-color: var(--bg-color);\n",
              "    border: none;\n",
              "    border-radius: 50%;\n",
              "    cursor: pointer;\n",
              "    display: none;\n",
              "    fill: var(--fill-color);\n",
              "    height: 32px;\n",
              "    padding: 0;\n",
              "    width: 32px;\n",
              "  }\n",
              "\n",
              "  .colab-df-quickchart:hover {\n",
              "    background-color: var(--hover-bg-color);\n",
              "    box-shadow: 0 1px 2px rgba(60, 64, 67, 0.3), 0 1px 3px 1px rgba(60, 64, 67, 0.15);\n",
              "    fill: var(--button-hover-fill-color);\n",
              "  }\n",
              "\n",
              "  .colab-df-quickchart-complete:disabled,\n",
              "  .colab-df-quickchart-complete:disabled:hover {\n",
              "    background-color: var(--disabled-bg-color);\n",
              "    fill: var(--disabled-fill-color);\n",
              "    box-shadow: none;\n",
              "  }\n",
              "\n",
              "  .colab-df-spinner {\n",
              "    border: 2px solid var(--fill-color);\n",
              "    border-color: transparent;\n",
              "    border-bottom-color: var(--fill-color);\n",
              "    animation:\n",
              "      spin 1s steps(1) infinite;\n",
              "  }\n",
              "\n",
              "  @keyframes spin {\n",
              "    0% {\n",
              "      border-color: transparent;\n",
              "      border-bottom-color: var(--fill-color);\n",
              "      border-left-color: var(--fill-color);\n",
              "    }\n",
              "    20% {\n",
              "      border-color: transparent;\n",
              "      border-left-color: var(--fill-color);\n",
              "      border-top-color: var(--fill-color);\n",
              "    }\n",
              "    30% {\n",
              "      border-color: transparent;\n",
              "      border-left-color: var(--fill-color);\n",
              "      border-top-color: var(--fill-color);\n",
              "      border-right-color: var(--fill-color);\n",
              "    }\n",
              "    40% {\n",
              "      border-color: transparent;\n",
              "      border-right-color: var(--fill-color);\n",
              "      border-top-color: var(--fill-color);\n",
              "    }\n",
              "    60% {\n",
              "      border-color: transparent;\n",
              "      border-right-color: var(--fill-color);\n",
              "    }\n",
              "    80% {\n",
              "      border-color: transparent;\n",
              "      border-right-color: var(--fill-color);\n",
              "      border-bottom-color: var(--fill-color);\n",
              "    }\n",
              "    90% {\n",
              "      border-color: transparent;\n",
              "      border-bottom-color: var(--fill-color);\n",
              "    }\n",
              "  }\n",
              "</style>\n",
              "\n",
              "  <script>\n",
              "    async function quickchart(key) {\n",
              "      const quickchartButtonEl =\n",
              "        document.querySelector('#' + key + ' button');\n",
              "      quickchartButtonEl.disabled = true;  // To prevent multiple clicks.\n",
              "      quickchartButtonEl.classList.add('colab-df-spinner');\n",
              "      try {\n",
              "        const charts = await google.colab.kernel.invokeFunction(\n",
              "            'suggestCharts', [key], {});\n",
              "      } catch (error) {\n",
              "        console.error('Error during call to suggestCharts:', error);\n",
              "      }\n",
              "      quickchartButtonEl.classList.remove('colab-df-spinner');\n",
              "      quickchartButtonEl.classList.add('colab-df-quickchart-complete');\n",
              "    }\n",
              "    (() => {\n",
              "      let quickchartButtonEl =\n",
              "        document.querySelector('#df-1b53356d-2066-417d-9f28-fcdd380d9685 button');\n",
              "      quickchartButtonEl.style.display =\n",
              "        google.colab.kernel.accessAllowed ? 'block' : 'none';\n",
              "    })();\n",
              "  </script>\n",
              "</div>\n",
              "    </div>\n",
              "  </div>\n"
            ]
          },
          "metadata": {},
          "execution_count": 7
        }
      ]
    },
    {
      "cell_type": "code",
      "source": [
        "df.describe(include='object')"
      ],
      "metadata": {
        "colab": {
          "base_uri": "https://localhost:8080/",
          "height": 175
        },
        "id": "AJNehWj9uXXj",
        "outputId": "cd520f9e-b3ff-4823-9ade-622ee2299ac2"
      },
      "execution_count": 8,
      "outputs": [
        {
          "output_type": "execute_result",
          "data": {
            "text/plain": [
              "        gender ever_married work_type Residence_type smoking_status\n",
              "count     5110         5110      5110           5110           5110\n",
              "unique       3            2         5              2              4\n",
              "top     Female          Yes   Private          Urban   never smoked\n",
              "freq      2994         3353      2925           2596           1892"
            ],
            "text/html": [
              "\n",
              "  <div id=\"df-0d3795d8-34ac-4791-8d7c-ebfc415008cd\" class=\"colab-df-container\">\n",
              "    <div>\n",
              "<style scoped>\n",
              "    .dataframe tbody tr th:only-of-type {\n",
              "        vertical-align: middle;\n",
              "    }\n",
              "\n",
              "    .dataframe tbody tr th {\n",
              "        vertical-align: top;\n",
              "    }\n",
              "\n",
              "    .dataframe thead th {\n",
              "        text-align: right;\n",
              "    }\n",
              "</style>\n",
              "<table border=\"1\" class=\"dataframe\">\n",
              "  <thead>\n",
              "    <tr style=\"text-align: right;\">\n",
              "      <th></th>\n",
              "      <th>gender</th>\n",
              "      <th>ever_married</th>\n",
              "      <th>work_type</th>\n",
              "      <th>Residence_type</th>\n",
              "      <th>smoking_status</th>\n",
              "    </tr>\n",
              "  </thead>\n",
              "  <tbody>\n",
              "    <tr>\n",
              "      <th>count</th>\n",
              "      <td>5110</td>\n",
              "      <td>5110</td>\n",
              "      <td>5110</td>\n",
              "      <td>5110</td>\n",
              "      <td>5110</td>\n",
              "    </tr>\n",
              "    <tr>\n",
              "      <th>unique</th>\n",
              "      <td>3</td>\n",
              "      <td>2</td>\n",
              "      <td>5</td>\n",
              "      <td>2</td>\n",
              "      <td>4</td>\n",
              "    </tr>\n",
              "    <tr>\n",
              "      <th>top</th>\n",
              "      <td>Female</td>\n",
              "      <td>Yes</td>\n",
              "      <td>Private</td>\n",
              "      <td>Urban</td>\n",
              "      <td>never smoked</td>\n",
              "    </tr>\n",
              "    <tr>\n",
              "      <th>freq</th>\n",
              "      <td>2994</td>\n",
              "      <td>3353</td>\n",
              "      <td>2925</td>\n",
              "      <td>2596</td>\n",
              "      <td>1892</td>\n",
              "    </tr>\n",
              "  </tbody>\n",
              "</table>\n",
              "</div>\n",
              "    <div class=\"colab-df-buttons\">\n",
              "\n",
              "  <div class=\"colab-df-container\">\n",
              "    <button class=\"colab-df-convert\" onclick=\"convertToInteractive('df-0d3795d8-34ac-4791-8d7c-ebfc415008cd')\"\n",
              "            title=\"Convert this dataframe to an interactive table.\"\n",
              "            style=\"display:none;\">\n",
              "\n",
              "  <svg xmlns=\"http://www.w3.org/2000/svg\" height=\"24px\" viewBox=\"0 -960 960 960\">\n",
              "    <path d=\"M120-120v-720h720v720H120Zm60-500h600v-160H180v160Zm220 220h160v-160H400v160Zm0 220h160v-160H400v160ZM180-400h160v-160H180v160Zm440 0h160v-160H620v160ZM180-180h160v-160H180v160Zm440 0h160v-160H620v160Z\"/>\n",
              "  </svg>\n",
              "    </button>\n",
              "\n",
              "  <style>\n",
              "    .colab-df-container {\n",
              "      display:flex;\n",
              "      gap: 12px;\n",
              "    }\n",
              "\n",
              "    .colab-df-convert {\n",
              "      background-color: #E8F0FE;\n",
              "      border: none;\n",
              "      border-radius: 50%;\n",
              "      cursor: pointer;\n",
              "      display: none;\n",
              "      fill: #1967D2;\n",
              "      height: 32px;\n",
              "      padding: 0 0 0 0;\n",
              "      width: 32px;\n",
              "    }\n",
              "\n",
              "    .colab-df-convert:hover {\n",
              "      background-color: #E2EBFA;\n",
              "      box-shadow: 0px 1px 2px rgba(60, 64, 67, 0.3), 0px 1px 3px 1px rgba(60, 64, 67, 0.15);\n",
              "      fill: #174EA6;\n",
              "    }\n",
              "\n",
              "    .colab-df-buttons div {\n",
              "      margin-bottom: 4px;\n",
              "    }\n",
              "\n",
              "    [theme=dark] .colab-df-convert {\n",
              "      background-color: #3B4455;\n",
              "      fill: #D2E3FC;\n",
              "    }\n",
              "\n",
              "    [theme=dark] .colab-df-convert:hover {\n",
              "      background-color: #434B5C;\n",
              "      box-shadow: 0px 1px 3px 1px rgba(0, 0, 0, 0.15);\n",
              "      filter: drop-shadow(0px 1px 2px rgba(0, 0, 0, 0.3));\n",
              "      fill: #FFFFFF;\n",
              "    }\n",
              "  </style>\n",
              "\n",
              "    <script>\n",
              "      const buttonEl =\n",
              "        document.querySelector('#df-0d3795d8-34ac-4791-8d7c-ebfc415008cd button.colab-df-convert');\n",
              "      buttonEl.style.display =\n",
              "        google.colab.kernel.accessAllowed ? 'block' : 'none';\n",
              "\n",
              "      async function convertToInteractive(key) {\n",
              "        const element = document.querySelector('#df-0d3795d8-34ac-4791-8d7c-ebfc415008cd');\n",
              "        const dataTable =\n",
              "          await google.colab.kernel.invokeFunction('convertToInteractive',\n",
              "                                                    [key], {});\n",
              "        if (!dataTable) return;\n",
              "\n",
              "        const docLinkHtml = 'Like what you see? Visit the ' +\n",
              "          '<a target=\"_blank\" href=https://colab.research.google.com/notebooks/data_table.ipynb>data table notebook</a>'\n",
              "          + ' to learn more about interactive tables.';\n",
              "        element.innerHTML = '';\n",
              "        dataTable['output_type'] = 'display_data';\n",
              "        await google.colab.output.renderOutput(dataTable, element);\n",
              "        const docLink = document.createElement('div');\n",
              "        docLink.innerHTML = docLinkHtml;\n",
              "        element.appendChild(docLink);\n",
              "      }\n",
              "    </script>\n",
              "  </div>\n",
              "\n",
              "\n",
              "<div id=\"df-2ec9f751-a61a-44cd-8d90-429fcf5bed38\">\n",
              "  <button class=\"colab-df-quickchart\" onclick=\"quickchart('df-2ec9f751-a61a-44cd-8d90-429fcf5bed38')\"\n",
              "            title=\"Suggest charts\"\n",
              "            style=\"display:none;\">\n",
              "\n",
              "<svg xmlns=\"http://www.w3.org/2000/svg\" height=\"24px\"viewBox=\"0 0 24 24\"\n",
              "     width=\"24px\">\n",
              "    <g>\n",
              "        <path d=\"M19 3H5c-1.1 0-2 .9-2 2v14c0 1.1.9 2 2 2h14c1.1 0 2-.9 2-2V5c0-1.1-.9-2-2-2zM9 17H7v-7h2v7zm4 0h-2V7h2v10zm4 0h-2v-4h2v4z\"/>\n",
              "    </g>\n",
              "</svg>\n",
              "  </button>\n",
              "\n",
              "<style>\n",
              "  .colab-df-quickchart {\n",
              "      --bg-color: #E8F0FE;\n",
              "      --fill-color: #1967D2;\n",
              "      --hover-bg-color: #E2EBFA;\n",
              "      --hover-fill-color: #174EA6;\n",
              "      --disabled-fill-color: #AAA;\n",
              "      --disabled-bg-color: #DDD;\n",
              "  }\n",
              "\n",
              "  [theme=dark] .colab-df-quickchart {\n",
              "      --bg-color: #3B4455;\n",
              "      --fill-color: #D2E3FC;\n",
              "      --hover-bg-color: #434B5C;\n",
              "      --hover-fill-color: #FFFFFF;\n",
              "      --disabled-bg-color: #3B4455;\n",
              "      --disabled-fill-color: #666;\n",
              "  }\n",
              "\n",
              "  .colab-df-quickchart {\n",
              "    background-color: var(--bg-color);\n",
              "    border: none;\n",
              "    border-radius: 50%;\n",
              "    cursor: pointer;\n",
              "    display: none;\n",
              "    fill: var(--fill-color);\n",
              "    height: 32px;\n",
              "    padding: 0;\n",
              "    width: 32px;\n",
              "  }\n",
              "\n",
              "  .colab-df-quickchart:hover {\n",
              "    background-color: var(--hover-bg-color);\n",
              "    box-shadow: 0 1px 2px rgba(60, 64, 67, 0.3), 0 1px 3px 1px rgba(60, 64, 67, 0.15);\n",
              "    fill: var(--button-hover-fill-color);\n",
              "  }\n",
              "\n",
              "  .colab-df-quickchart-complete:disabled,\n",
              "  .colab-df-quickchart-complete:disabled:hover {\n",
              "    background-color: var(--disabled-bg-color);\n",
              "    fill: var(--disabled-fill-color);\n",
              "    box-shadow: none;\n",
              "  }\n",
              "\n",
              "  .colab-df-spinner {\n",
              "    border: 2px solid var(--fill-color);\n",
              "    border-color: transparent;\n",
              "    border-bottom-color: var(--fill-color);\n",
              "    animation:\n",
              "      spin 1s steps(1) infinite;\n",
              "  }\n",
              "\n",
              "  @keyframes spin {\n",
              "    0% {\n",
              "      border-color: transparent;\n",
              "      border-bottom-color: var(--fill-color);\n",
              "      border-left-color: var(--fill-color);\n",
              "    }\n",
              "    20% {\n",
              "      border-color: transparent;\n",
              "      border-left-color: var(--fill-color);\n",
              "      border-top-color: var(--fill-color);\n",
              "    }\n",
              "    30% {\n",
              "      border-color: transparent;\n",
              "      border-left-color: var(--fill-color);\n",
              "      border-top-color: var(--fill-color);\n",
              "      border-right-color: var(--fill-color);\n",
              "    }\n",
              "    40% {\n",
              "      border-color: transparent;\n",
              "      border-right-color: var(--fill-color);\n",
              "      border-top-color: var(--fill-color);\n",
              "    }\n",
              "    60% {\n",
              "      border-color: transparent;\n",
              "      border-right-color: var(--fill-color);\n",
              "    }\n",
              "    80% {\n",
              "      border-color: transparent;\n",
              "      border-right-color: var(--fill-color);\n",
              "      border-bottom-color: var(--fill-color);\n",
              "    }\n",
              "    90% {\n",
              "      border-color: transparent;\n",
              "      border-bottom-color: var(--fill-color);\n",
              "    }\n",
              "  }\n",
              "</style>\n",
              "\n",
              "  <script>\n",
              "    async function quickchart(key) {\n",
              "      const quickchartButtonEl =\n",
              "        document.querySelector('#' + key + ' button');\n",
              "      quickchartButtonEl.disabled = true;  // To prevent multiple clicks.\n",
              "      quickchartButtonEl.classList.add('colab-df-spinner');\n",
              "      try {\n",
              "        const charts = await google.colab.kernel.invokeFunction(\n",
              "            'suggestCharts', [key], {});\n",
              "      } catch (error) {\n",
              "        console.error('Error during call to suggestCharts:', error);\n",
              "      }\n",
              "      quickchartButtonEl.classList.remove('colab-df-spinner');\n",
              "      quickchartButtonEl.classList.add('colab-df-quickchart-complete');\n",
              "    }\n",
              "    (() => {\n",
              "      let quickchartButtonEl =\n",
              "        document.querySelector('#df-2ec9f751-a61a-44cd-8d90-429fcf5bed38 button');\n",
              "      quickchartButtonEl.style.display =\n",
              "        google.colab.kernel.accessAllowed ? 'block' : 'none';\n",
              "    })();\n",
              "  </script>\n",
              "</div>\n",
              "    </div>\n",
              "  </div>\n"
            ]
          },
          "metadata": {},
          "execution_count": 8
        }
      ]
    },
    {
      "cell_type": "markdown",
      "source": [
        "We can also check if there are any duplicate rows in our data."
      ],
      "metadata": {
        "id": "vHSrs3KYN9ZI"
      }
    },
    {
      "cell_type": "code",
      "source": [
        "df.duplicated().sum()"
      ],
      "metadata": {
        "colab": {
          "base_uri": "https://localhost:8080/"
        },
        "id": "J7HXY2l69w3I",
        "outputId": "95ac2c86-0a06-4780-8547-51e936db5c31"
      },
      "execution_count": 5,
      "outputs": [
        {
          "output_type": "execute_result",
          "data": {
            "text/plain": [
              "0"
            ]
          },
          "metadata": {},
          "execution_count": 5
        }
      ]
    },
    {
      "cell_type": "markdown",
      "source": [
        "## **Exploratory Data Analysis (EDA)**"
      ],
      "metadata": {
        "id": "qLqpFMYIOdTt"
      }
    },
    {
      "cell_type": "code",
      "source": [
        "stroke_counts = df['stroke'].value_counts()\n",
        "\n",
        "plt.figure(figsize=(8, 6))\n",
        "plt.pie(stroke_counts, labels=['No Stroke', 'Stroke'], autopct='%1.1f%%', colors=['darkturquoise', 'gold'])\n",
        "plt.title('Distribution of Stroke and Healthy Individuals')\n",
        "plt.show()"
      ],
      "metadata": {
        "colab": {
          "base_uri": "https://localhost:8080/",
          "height": 521
        },
        "id": "wRqS4FKFAOem",
        "outputId": "8d3d947f-a2b0-416d-f6db-a49e1550a661"
      },
      "execution_count": 9,
      "outputs": [
        {
          "output_type": "display_data",
          "data": {
            "text/plain": [
              "<Figure size 800x600 with 1 Axes>"
            ],
            "image/png": "[encoded data removed]"
          },
          "metadata": {}
        }
      ]
    },
    {
      "cell_type": "markdown",
      "source": [
        "In the above pie chart, the distribution of the 'No Stroke' and 'Stroke' data can be seen. The dataset class is highly imbalanced as the 'No Stroke' cases are in large numbers."
      ],
      "metadata": {
        "id": "92ONlGFNO3e-"
      }
    },
    {
      "cell_type": "markdown",
      "source": [
        "### **EDA - Gender**"
      ],
      "metadata": {
        "id": "OoOXXlA4P7pA"
      }
    },
    {
      "cell_type": "code",
      "source": [
        "plt.figure(figsize=(10, 5))\n",
        "ax = df.groupby(['gender', 'stroke']).size().unstack().plot(kind='bar', stacked=True, color=['mediumaquamarine', 'gold'])\n",
        "\n",
        "for p in ax.patches:\n",
        "    width, height = p.get_width(), p.get_height()\n",
        "    x, y = p.get_xy()\n",
        "    ax.text(x + width / 2, y + height / 2, f'{int(height)}', ha='center', va='center')\n",
        "\n",
        "plt.title('Distribution of Gender by Stroke Status')\n",
        "plt.xlabel('Gender')\n",
        "plt.ylabel('Count')\n",
        "plt.legend(title='Stroke Status', labels=['No Stroke', 'Stroke'])\n",
        "plt.show()"
      ],
      "metadata": {
        "colab": {
          "base_uri": "https://localhost:8080/",
          "height": 526
        },
        "id": "GsHrCnLNTwHT",
        "outputId": "3bab528e-6b5d-4ef3-f785-6ecab8ae21ec"
      },
      "execution_count": 43,
      "outputs": [
        {
          "output_type": "display_data",
          "data": {
            "text/plain": [
              "<Figure size 1000x500 with 0 Axes>"
            ]
          },
          "metadata": {}
        },
        {
          "output_type": "display_data",
          "data": {
            "text/plain": [
              "<Figure size 640x480 with 1 Axes>"
            ],
            "image/png": "[encoded data removed]"
          },
          "metadata": {}
        }
      ]
    },
    {
      "cell_type": "markdown",
      "source": [
        "The above bar plot shows the distribution of the gender column in the dataset. The 'Female' category has the majority representation, followed by 'Male' and 1 in 'Other'. Later on, we will handle the 'Other' category since it is unknown."
      ],
      "metadata": {
        "id": "igHqHR5nQXmV"
      }
    },
    {
      "cell_type": "code",
      "source": [
        "gender_stroke_counts = df.groupby(['gender', 'stroke']).size().unstack()\n",
        "gender_stroke_percentage = (gender_stroke_counts[1] / (gender_stroke_counts[0] + gender_stroke_counts[1])) * 100\n",
        "\n",
        "fig = px.pie(names=gender_stroke_percentage.index, values=gender_stroke_percentage.values,\n",
        "             title=\"Percentage of Stroke Cases by Gender\",\n",
        "             color_discrete_sequence=['steelblue', 'plum'])\n",
        "\n",
        "fig.update_traces(textinfo=\"percent+label\")\n",
        "fig.show()"
      ],
      "metadata": {
        "colab": {
          "base_uri": "https://localhost:8080/",
          "height": 542
        },
        "id": "KqrRD3_MPXWB",
        "outputId": "228c16bf-cb74-4a22-b565-6a27118dd7c0"
      },
      "execution_count": 6,
      "outputs": [
        {
          "output_type": "display_data",
          "data": {
            "text/html": [
              "<html>\n",
              "<head><meta charset=\"utf-8\" /></head>\n",
              "<body>\n",
              "    <div>            <script src=\"https://cdnjs.cloudflare.com/ajax/libs/mathjax/2.7.5/MathJax.js?config=TeX-AMS-MML_SVG\"></script><script type=\"text/javascript\">if (window.MathJax && window.MathJax.Hub && window.MathJax.Hub.Config) {window.MathJax.Hub.Config({SVG: {font: \"STIX-Web\"}});}</script>                <script type=\"text/javascript\">window.PlotlyConfig = {MathJaxConfig: 'local'};</script>\n",
              "        <script charset=\"utf-8\" src=\"https://cdn.plot.ly/plotly-2.24.1.min.js\"></script>                <div id=\"9663f1ee-628c-4b18-b390-012dc916a4f1\" class=\"plotly-graph-div\" style=\"height:525px; width:100%;\"></div>            <script type=\"text/javascript\">                                    window.PLOTLYENV=window.PLOTLYENV || {};                                    if (document.getElementById(\"9663f1ee-628c-4b18-b390-012dc916a4f1\")) {                    Plotly.newPlot(                        \"9663f1ee-628c-4b18-b390-012dc916a4f1\",                        [{\"domain\":{\"x\":[0.0,1.0],\"y\":[0.0,1.0]},\"hovertemplate\":\"label=%{label}\\u003cbr\\u003evalue=%{value}\\u003cextra\\u003e\\u003c\\u002fextra\\u003e\",\"labels\":[\"Female\",\"Male\",\"Other\"],\"legendgroup\":\"\",\"name\":\"\",\"showlegend\":true,\"values\":[4.709418837675351,5.106382978723404,null],\"type\":\"pie\",\"textinfo\":\"percent+label\"}],                        {\"template\":{\"data\":{\"histogram2dcontour\":[{\"type\":\"histogram2dcontour\",\"colorbar\":{\"outlinewidth\":0,\"ticks\":\"\"},\"colorscale\":[[0.0,\"#0d0887\"],[0.1111111111111111,\"#46039f\"],[0.2222222222222222,\"#7201a8\"],[0.3333333333333333,\"#9c179e\"],[0.4444444444444444,\"#bd3786\"],[0.5555555555555556,\"#d8576b\"],[0.6666666666666666,\"#ed7953\"],[0.7777777777777778,\"#fb9f3a\"],[0.8888888888888888,\"#fdca26\"],[1.0,\"#f0f921\"]]}],\"choropleth\":[{\"type\":\"choropleth\",\"colorbar\":{\"outlinewidth\":0,\"ticks\":\"\"}}],\"histogram2d\":[{\"type\":\"histogram2d\",\"colorbar\":{\"outlinewidth\":0,\"ticks\":\"\"},\"colorscale\":[[0.0,\"#0d0887\"],[0.1111111111111111,\"#46039f\"],[0.2222222222222222,\"#7201a8\"],[0.3333333333333333,\"#9c179e\"],[0.4444444444444444,\"#bd3786\"],[0.5555555555555556,\"#d8576b\"],[0.6666666666666666,\"#ed7953\"],[0.7777777777777778,\"#fb9f3a\"],[0.8888888888888888,\"#fdca26\"],[1.0,\"#f0f921\"]]}],\"heatmap\":[{\"type\":\"heatmap\",\"colorbar\":{\"outlinewidth\":0,\"ticks\":\"\"},\"colorscale\":[[0.0,\"#0d0887\"],[0.1111111111111111,\"#46039f\"],[0.2222222222222222,\"#7201a8\"],[0.3333333333333333,\"#9c179e\"],[0.4444444444444444,\"#bd3786\"],[0.5555555555555556,\"#d8576b\"],[0.6666666666666666,\"#ed7953\"],[0.7777777777777778,\"#fb9f3a\"],[0.8888888888888888,\"#fdca26\"],[1.0,\"#f0f921\"]]}],\"heatmapgl\":[{\"type\":\"heatmapgl\",\"colorbar\":{\"outlinewidth\":0,\"ticks\":\"\"},\"colorscale\":[[0.0,\"#0d0887\"],[0.1111111111111111,\"#46039f\"],[0.2222222222222222,\"#7201a8\"],[0.3333333333333333,\"#9c179e\"],[0.4444444444444444,\"#bd3786\"],[0.5555555555555556,\"#d8576b\"],[0.6666666666666666,\"#ed7953\"],[0.7777777777777778,\"#fb9f3a\"],[0.8888888888888888,\"#fdca26\"],[1.0,\"#f0f921\"]]}],\"contourcarpet\":[{\"type\":\"contourcarpet\",\"colorbar\":{\"outlinewidth\":0,\"ticks\":\"\"}}],\"contour\":[{\"type\":\"contour\",\"colorbar\":{\"outlinewidth\":0,\"ticks\":\"\"},\"colorscale\":[[0.0,\"#0d0887\"],[0.1111111111111111,\"#46039f\"],[0.2222222222222222,\"#7201a8\"],[0.3333333333333333,\"#9c179e\"],[0.4444444444444444,\"#bd3786\"],[0.5555555555555556,\"#d8576b\"],[0.6666666666666666,\"#ed7953\"],[0.7777777777777778,\"#fb9f3a\"],[0.8888888888888888,\"#fdca26\"],[1.0,\"#f0f921\"]]}],\"surface\":[{\"type\":\"surface\",\"colorbar\":{\"outlinewidth\":0,\"ticks\":\"\"},\"colorscale\":[[0.0,\"#0d0887\"],[0.1111111111111111,\"#46039f\"],[0.2222222222222222,\"#7201a8\"],[0.3333333333333333,\"#9c179e\"],[0.4444444444444444,\"#bd3786\"],[0.5555555555555556,\"#d8576b\"],[0.6666666666666666,\"#ed7953\"],[0.7777777777777778,\"#fb9f3a\"],[0.8888888888888888,\"#fdca26\"],[1.0,\"#f0f921\"]]}],\"mesh3d\":[{\"type\":\"mesh3d\",\"colorbar\":{\"outlinewidth\":0,\"ticks\":\"\"}}],\"scatter\":[{\"fillpattern\":{\"fillmode\":\"overlay\",\"size\":10,\"solidity\":0.2},\"type\":\"scatter\"}],\"parcoords\":[{\"type\":\"parcoords\",\"line\":{\"colorbar\":{\"outlinewidth\":0,\"ticks\":\"\"}}}],\"scatterpolargl\":[{\"type\":\"scatterpolargl\",\"marker\":{\"colorbar\":{\"outlinewidth\":0,\"ticks\":\"\"}}}],\"bar\":[{\"error_x\":{\"color\":\"#2a3f5f\"},\"error_y\":{\"color\":\"#2a3f5f\"},\"marker\":{\"line\":{\"color\":\"#E5ECF6\",\"width\":0.5},\"pattern\":{\"fillmode\":\"overlay\",\"size\":10,\"solidity\":0.2}},\"type\":\"bar\"}],\"scattergeo\":[{\"type\":\"scattergeo\",\"marker\":{\"colorbar\":{\"outlinewidth\":0,\"ticks\":\"\"}}}],\"scatterpolar\":[{\"type\":\"scatterpolar\",\"marker\":{\"colorbar\":{\"outlinewidth\":0,\"ticks\":\"\"}}}],\"histogram\":[{\"marker\":{\"pattern\":{\"fillmode\":\"overlay\",\"size\":10,\"solidity\":0.2}},\"type\":\"histogram\"}],\"scattergl\":[{\"type\":\"scattergl\",\"marker\":{\"colorbar\":{\"outlinewidth\":0,\"ticks\":\"\"}}}],\"scatter3d\":[{\"type\":\"scatter3d\",\"line\":{\"colorbar\":{\"outlinewidth\":0,\"ticks\":\"\"}},\"marker\":{\"colorbar\":{\"outlinewidth\":0,\"ticks\":\"\"}}}],\"scattermapbox\":[{\"type\":\"scattermapbox\",\"marker\":{\"colorbar\":{\"outlinewidth\":0,\"ticks\":\"\"}}}],\"scatterternary\":[{\"type\":\"scatterternary\",\"marker\":{\"colorbar\":{\"outlinewidth\":0,\"ticks\":\"\"}}}],\"scattercarpet\":[{\"type\":\"scattercarpet\",\"marker\":{\"colorbar\":{\"outlinewidth\":0,\"ticks\":\"\"}}}],\"carpet\":[{\"aaxis\":{\"endlinecolor\":\"#2a3f5f\",\"gridcolor\":\"white\",\"linecolor\":\"white\",\"minorgridcolor\":\"white\",\"startlinecolor\":\"#2a3f5f\"},\"baxis\":{\"endlinecolor\":\"#2a3f5f\",\"gridcolor\":\"white\",\"linecolor\":\"white\",\"minorgridcolor\":\"white\",\"startlinecolor\":\"#2a3f5f\"},\"type\":\"carpet\"}],\"table\":[{\"cells\":{\"fill\":{\"color\":\"#EBF0F8\"},\"line\":{\"color\":\"white\"}},\"header\":{\"fill\":{\"color\":\"#C8D4E3\"},\"line\":{\"color\":\"white\"}},\"type\":\"table\"}],\"barpolar\":[{\"marker\":{\"line\":{\"color\":\"#E5ECF6\",\"width\":0.5},\"pattern\":{\"fillmode\":\"overlay\",\"size\":10,\"solidity\":0.2}},\"type\":\"barpolar\"}],\"pie\":[{\"automargin\":true,\"type\":\"pie\"}]},\"layout\":{\"autotypenumbers\":\"strict\",\"colorway\":[\"#636efa\",\"#EF553B\",\"#00cc96\",\"#ab63fa\",\"#FFA15A\",\"#19d3f3\",\"#FF6692\",\"#B6E880\",\"#FF97FF\",\"#FECB52\"],\"font\":{\"color\":\"#2a3f5f\"},\"hovermode\":\"closest\",\"hoverlabel\":{\"align\":\"left\"},\"paper_bgcolor\":\"white\",\"plot_bgcolor\":\"#E5ECF6\",\"polar\":{\"bgcolor\":\"#E5ECF6\",\"angularaxis\":{\"gridcolor\":\"white\",\"linecolor\":\"white\",\"ticks\":\"\"},\"radialaxis\":{\"gridcolor\":\"white\",\"linecolor\":\"white\",\"ticks\":\"\"}},\"ternary\":{\"bgcolor\":\"#E5ECF6\",\"aaxis\":{\"gridcolor\":\"white\",\"linecolor\":\"white\",\"ticks\":\"\"},\"baxis\":{\"gridcolor\":\"white\",\"linecolor\":\"white\",\"ticks\":\"\"},\"caxis\":{\"gridcolor\":\"white\",\"linecolor\":\"white\",\"ticks\":\"\"}},\"coloraxis\":{\"colorbar\":{\"outlinewidth\":0,\"ticks\":\"\"}},\"colorscale\":{\"sequential\":[[0.0,\"#0d0887\"],[0.1111111111111111,\"#46039f\"],[0.2222222222222222,\"#7201a8\"],[0.3333333333333333,\"#9c179e\"],[0.4444444444444444,\"#bd3786\"],[0.5555555555555556,\"#d8576b\"],[0.6666666666666666,\"#ed7953\"],[0.7777777777777778,\"#fb9f3a\"],[0.8888888888888888,\"#fdca26\"],[1.0,\"#f0f921\"]],\"sequentialminus\":[[0.0,\"#0d0887\"],[0.1111111111111111,\"#46039f\"],[0.2222222222222222,\"#7201a8\"],[0.3333333333333333,\"#9c179e\"],[0.4444444444444444,\"#bd3786\"],[0.5555555555555556,\"#d8576b\"],[0.6666666666666666,\"#ed7953\"],[0.7777777777777778,\"#fb9f3a\"],[0.8888888888888888,\"#fdca26\"],[1.0,\"#f0f921\"]],\"diverging\":[[0,\"#8e0152\"],[0.1,\"#c51b7d\"],[0.2,\"#de77ae\"],[0.3,\"#f1b6da\"],[0.4,\"#fde0ef\"],[0.5,\"#f7f7f7\"],[0.6,\"#e6f5d0\"],[0.7,\"#b8e186\"],[0.8,\"#7fbc41\"],[0.9,\"#4d9221\"],[1,\"#276419\"]]},\"xaxis\":{\"gridcolor\":\"white\",\"linecolor\":\"white\",\"ticks\":\"\",\"title\":{\"standoff\":15},\"zerolinecolor\":\"white\",\"automargin\":true,\"zerolinewidth\":2},\"yaxis\":{\"gridcolor\":\"white\",\"linecolor\":\"white\",\"ticks\":\"\",\"title\":{\"standoff\":15},\"zerolinecolor\":\"white\",\"automargin\":true,\"zerolinewidth\":2},\"scene\":{\"xaxis\":{\"backgroundcolor\":\"#E5ECF6\",\"gridcolor\":\"white\",\"linecolor\":\"white\",\"showbackground\":true,\"ticks\":\"\",\"zerolinecolor\":\"white\",\"gridwidth\":2},\"yaxis\":{\"backgroundcolor\":\"#E5ECF6\",\"gridcolor\":\"white\",\"linecolor\":\"white\",\"showbackground\":true,\"ticks\":\"\",\"zerolinecolor\":\"white\",\"gridwidth\":2},\"zaxis\":{\"backgroundcolor\":\"#E5ECF6\",\"gridcolor\":\"white\",\"linecolor\":\"white\",\"showbackground\":true,\"ticks\":\"\",\"zerolinecolor\":\"white\",\"gridwidth\":2}},\"shapedefaults\":{\"line\":{\"color\":\"#2a3f5f\"}},\"annotationdefaults\":{\"arrowcolor\":\"#2a3f5f\",\"arrowhead\":0,\"arrowwidth\":1},\"geo\":{\"bgcolor\":\"white\",\"landcolor\":\"#E5ECF6\",\"subunitcolor\":\"white\",\"showland\":true,\"showlakes\":true,\"lakecolor\":\"white\"},\"title\":{\"x\":0.05},\"mapbox\":{\"style\":\"light\"}}},\"legend\":{\"tracegroupgap\":0},\"title\":{\"text\":\"Percentage of Stroke Cases by Gender\"},\"piecolorway\":[\"steelblue\",\"plum\"]},                        {\"responsive\": true}                    ).then(function(){\n",
              "                            \n",
              "var gd = document.getElementById('9663f1ee-628c-4b18-b390-012dc916a4f1');\n",
              "var x = new MutationObserver(function (mutations, observer) {{\n",
              "        var display = window.getComputedStyle(gd).display;\n",
              "        if (!display || display === 'none') {{\n",
              "            console.log([gd, 'removed!']);\n",
              "            Plotly.purge(gd);\n",
              "            observer.disconnect();\n",
              "        }}\n",
              "}});\n",
              "\n",
              "// Listen for the removal of the full notebook cells\n",
              "var notebookContainer = gd.closest('#notebook-container');\n",
              "if (notebookContainer) {{\n",
              "    x.observe(notebookContainer, {childList: true});\n",
              "}}\n",
              "\n",
              "// Listen for the clearing of the current output cell\n",
              "var outputEl = gd.closest('.output');\n",
              "if (outputEl) {{\n",
              "    x.observe(outputEl, {childList: true});\n",
              "}}\n",
              "\n",
              "                        })                };                            </script>        </div>\n",
              "</body>\n",
              "</html>"
            ]
          },
          "metadata": {}
        }
      ]
    },
    {
      "cell_type": "markdown",
      "source": [
        "The above pie chart shows the distribution of the stroke cases across the gender categories. It is evident that though the male representation is low in the dataset, they have higher chances of having a stroke."
      ],
      "metadata": {
        "id": "qfDK3zlsp2zM"
      }
    },
    {
      "cell_type": "markdown",
      "source": [
        "### **EDA - Age**\n",
        "\n",
        "Since Age is a continuous variable, we will create different bins for different age groups."
      ],
      "metadata": {
        "id": "Fk3dq0Jqqdcn"
      }
    },
    {
      "cell_type": "code",
      "source": [
        "# Creating bins for age groups\n",
        "bins = [0, 20, 40, 60, 80, 100]\n",
        "\n",
        "# Creating labels for age group bins\n",
        "labels = ['0-20', '21-40', '41-60', '61-80', '81-100']\n",
        "\n",
        "plt.figure(figsize=(10, 6))\n",
        "ax = df.groupby(pd.cut(df['age'], bins=bins, labels=labels, right=False))['stroke'].value_counts().unstack().plot(kind='bar', stacked=True, color=['skyblue', 'lightcoral'])\n",
        "\n",
        "for p in ax.patches:\n",
        "    width, height = p.get_width(), p.get_height()\n",
        "    x, y = p.get_xy()\n",
        "    ax.text(x + width / 2, y + height / 2, f'{int(height)}', ha='center', va='center')\n",
        "\n",
        "plt.title('Distribution of Stroke Across Age Groups')\n",
        "plt.xlabel('Age Group')\n",
        "plt.ylabel('Count')\n",
        "plt.legend(title='Stroke Status', labels=['No Stroke', 'Stroke'])\n",
        "plt.show()"
      ],
      "metadata": {
        "colab": {
          "base_uri": "https://localhost:8080/",
          "height": 525
        },
        "id": "V8eCVSxeVJSU",
        "outputId": "1e159c88-320d-4a2d-e054-8dbdcca467b9"
      },
      "execution_count": 16,
      "outputs": [
        {
          "output_type": "display_data",
          "data": {
            "text/plain": [
              "<Figure size 1000x600 with 0 Axes>"
            ]
          },
          "metadata": {}
        },
        {
          "output_type": "display_data",
          "data": {
            "text/plain": [
              "<Figure size 640x480 with 1 Axes>"
            ],
            "image/png": "[encoded data removed]"
          },
          "metadata": {}
        }
      ]
    },
    {
      "cell_type": "markdown",
      "source": [
        "The above plot shows that stroke probability increases with the age. There are a lot of stroke cases in the older population (60+ of age)."
      ],
      "metadata": {
        "id": "2toIyDF7ZB2v"
      }
    },
    {
      "cell_type": "markdown",
      "source": [
        "### **EDA - Hypertension**"
      ],
      "metadata": {
        "id": "_R7k5QpaZTd9"
      }
    },
    {
      "cell_type": "code",
      "source": [
        "hypertension_stroke_counts = df.groupby(['hypertension', 'stroke']).size().unstack()\n",
        "\n",
        "hypertension_stroke_counts.plot(kind='bar', color=['skyblue', 'lightcoral'], width=0.8, figsize=(8, 6))\n",
        "\n",
        "plt.title('Distribution of Hypertension by Stroke Status')\n",
        "plt.xlabel('Hypertension Status')\n",
        "plt.ylabel('Count')\n",
        "plt.xticks(rotation=0)\n",
        "plt.legend(title='Stroke Status', labels=['No Stroke', 'Stroke'])\n",
        "\n",
        "plt.show()\n"
      ],
      "metadata": {
        "colab": {
          "base_uri": "https://localhost:8080/",
          "height": 564
        },
        "id": "RMxKggsaW_IQ",
        "outputId": "89fdc2ac-4797-4cca-e45e-ef72a8a0bb57"
      },
      "execution_count": 6,
      "outputs": [
        {
          "output_type": "display_data",
          "data": {
            "text/plain": [
              "<Figure size 800x600 with 1 Axes>"
            ],
            "image/png": "[encoded data removed]"
          },
          "metadata": {}
        }
      ]
    },
    {
      "cell_type": "markdown",
      "source": [
        "The 'No' hypertension category has majority representation in the data. The people with hypertension represent almost 10% of the population. The plot also shows the distribution of the stroke status within the hypertension variable.\n",
        "\n",
        "The below graph demonstrates the percentage of people with or without hypertension who have a stroke."
      ],
      "metadata": {
        "id": "MtuTBsuFZsLd"
      }
    },
    {
      "cell_type": "code",
      "source": [
        "# Calculating stroke rates with and without hypertension\n",
        "stroke_rate_with_hypertension = (df[df['hypertension'] == 1]['stroke'].mean()) * 100\n",
        "stroke_rate_without_hypertension = (df[df['hypertension'] == 0]['stroke'].mean()) * 100\n",
        "\n",
        "hypertension_labels = ['With Hypertension', 'Without Hypertension']\n",
        "stroke_rates = [stroke_rate_with_hypertension, stroke_rate_without_hypertension]\n",
        "\n",
        "fig, ax = plt.subplots(figsize=(8, 6))\n",
        "bars = ax.bar(hypertension_labels, stroke_rates, color=['skyblue', 'lightcoral'])\n",
        "\n",
        "for bar in bars:\n",
        "    yval = bar.get_height()\n",
        "    plt.text(bar.get_x() + bar.get_width() / 2, yval / 2, f'{yval:.2f}%', ha='center', va='center', color='black')\n",
        "\n",
        "plt.title('Hypertension vs Stroke Rate')\n",
        "plt.xlabel('Hypertension Status')\n",
        "plt.ylabel('Stroke Rate (%)')\n",
        "\n",
        "plt.show()"
      ],
      "metadata": {
        "colab": {
          "base_uri": "https://localhost:8080/",
          "height": 564
        },
        "id": "Y30O-0wyZ-pf",
        "outputId": "5231989b-03f6-4cbc-da0f-81acc99ac917"
      },
      "execution_count": 8,
      "outputs": [
        {
          "output_type": "display_data",
          "data": {
            "text/plain": [
              "<Figure size 800x600 with 1 Axes>"
            ],
            "image/png": "[encoded data removed]"
          },
          "metadata": {}
        }
      ]
    },
    {
      "cell_type": "markdown",
      "source": [
        "### **EDA - Heart Disease**"
      ],
      "metadata": {
        "id": "GCdOtBxXcR3P"
      }
    },
    {
      "cell_type": "code",
      "source": [
        "# Creating a contingency table\n",
        "contingency_table = pd.crosstab(df['heart_disease'], df['stroke'])\n",
        "\n",
        "fig, ax = plt.subplots()\n",
        "bars = contingency_table.plot(kind='bar', stacked=True, ax=ax, color=['bisque', 'skyblue'])\n",
        "\n",
        "plt.title('Distribution of Stroke Cases by Heart Disease')\n",
        "plt.xlabel('Heart Disease Status')\n",
        "plt.ylabel('Count')\n",
        "plt.legend(title='Stroke Status', labels=['No Stroke', 'Stroke'])\n",
        "\n",
        "for bar in bars.patches:\n",
        "    x_pos = bar.get_x() + bar.get_width() / 2\n",
        "    y_pos = bar.get_y() + bar.get_height() / 2\n",
        "    value = int(bar.get_height())\n",
        "    ax.text(x_pos, y_pos, f'{value}', ha='center', va='center', color='black')\n",
        "\n",
        "plt.show()\n"
      ],
      "metadata": {
        "colab": {
          "base_uri": "https://localhost:8080/",
          "height": 467
        },
        "id": "GNN9OCjGWCxC",
        "outputId": "ed290103-5079-4f53-af87-eaa22bbf8340"
      },
      "execution_count": 17,
      "outputs": [
        {
          "output_type": "display_data",
          "data": {
            "text/plain": [
              "<Figure size 640x480 with 1 Axes>"
            ],
            "image/png": "[encoded data removed]"
          },
          "metadata": {}
        }
      ]
    },
    {
      "cell_type": "markdown",
      "source": [
        "The above stacked plot shows the distribution of stroke status across the heart disease category. The 'No' heart disease category has majority representation. Here, 4.17% of the people with no heart disease have a stroke and 17% of the people with heart disease have a stroke."
      ],
      "metadata": {
        "id": "kQPjQ5zHcYBd"
      }
    },
    {
      "cell_type": "markdown",
      "source": [
        "### **EDA - Marital Status**"
      ],
      "metadata": {
        "id": "bHY0BLuHlYw7"
      }
    },
    {
      "cell_type": "code",
      "source": [
        "# Creating a contingency table for marital status and stroke\n",
        "contingency_table = pd.crosstab(df['ever_married'], df['stroke'])\n",
        "\n",
        "stroke_rate = (contingency_table[1] / (contingency_table[0] + contingency_table[1])) * 100\n",
        "\n",
        "fig, ax = plt.subplots()\n",
        "ax.pie(stroke_rate, labels=stroke_rate.index, autopct='%1.1f%%', colors=['lightcoral', 'steelblue'])\n",
        "\n",
        "plt.title('Stroke Rate by Marital Status')\n",
        "\n",
        "plt.show()\n"
      ],
      "metadata": {
        "colab": {
          "base_uri": "https://localhost:8080/",
          "height": 428
        },
        "id": "bWL21q07YyKf",
        "outputId": "e3439cfb-e5c8-44b6-c3b3-4def92b27d9e"
      },
      "execution_count": 18,
      "outputs": [
        {
          "output_type": "display_data",
          "data": {
            "text/plain": [
              "<Figure size 640x480 with 1 Axes>"
            ],
            "image/png": "[encoded data removed]"
          },
          "metadata": {}
        }
      ]
    },
    {
      "cell_type": "markdown",
      "source": [
        "The above pie chart shows that people who are married have a relatively higher chances of having a stroke."
      ],
      "metadata": {
        "id": "Blw2H6pOlgGz"
      }
    },
    {
      "cell_type": "markdown",
      "source": [
        "### **EDA - Work Type**"
      ],
      "metadata": {
        "id": "QrX_fVWelxuD"
      }
    },
    {
      "cell_type": "code",
      "source": [
        "plt.figure(figsize=(10, 6))\n",
        "sns.countplot(data=df, x='work_type', palette='Set2')\n",
        "\n",
        "for p in ax.patches:\n",
        "    width, height = p.get_width(), p.get_height()\n",
        "    x, y = p.get_xy()\n",
        "    ax.text(x + width / 2, y + height / 2, f'{int(height)}', ha='center', va='center')\n",
        "\n",
        "plt.title('Distribution of Work Types')\n",
        "plt.xlabel('Work Type')\n",
        "plt.ylabel('Count')\n",
        "plt.show()\n"
      ],
      "metadata": {
        "colab": {
          "base_uri": "https://localhost:8080/",
          "height": 564
        },
        "id": "RTWHmxifo6W7",
        "outputId": "fcc41c42-5646-42d3-8368-da6dfe617989"
      },
      "execution_count": 23,
      "outputs": [
        {
          "output_type": "display_data",
          "data": {
            "text/plain": [
              "<Figure size 1000x600 with 1 Axes>"
            ],
            "image/png": "[encoded data removed]"
          },
          "metadata": {}
        }
      ]
    },
    {
      "cell_type": "markdown",
      "source": [
        "The private job type has the highest representation in our dataset, followed by self-employed and govt jobs. Children also have a decent representation in the dataset."
      ],
      "metadata": {
        "id": "tdA1pOFEpEIJ"
      }
    },
    {
      "cell_type": "code",
      "source": [
        "work_stroke_rates = df.groupby(\"work_type\")[\"stroke\"].mean().reset_index()\n",
        "colors = ['lightseagreen']\n",
        "\n",
        "fig = px.bar(work_stroke_rates, x=\"work_type\", y=\"stroke\",\n",
        "             title=\"Stroke Rate by Work Type\",\n",
        "             labels={\"work_type\": \"Work Type\", \"stroke\": \"Stroke Rate\"},\n",
        "             color_discrete_sequence=colors)\n",
        "\n",
        "fig.update_layout(xaxis_title=\"Work Type\", yaxis_title=\"Stroke Rate\")\n",
        "fig.show()\n",
        "\n"
      ],
      "metadata": {
        "colab": {
          "base_uri": "https://localhost:8080/",
          "height": 542
        },
        "id": "RFXJVf2LZX0-",
        "outputId": "ccf80bdf-0c3c-45ab-c6c2-f1d1dd7d4abc"
      },
      "execution_count": 21,
      "outputs": [
        {
          "output_type": "display_data",
          "data": {
            "text/html": [
              "<html>\n",
              "<head><meta charset=\"utf-8\" /></head>\n",
              "<body>\n",
              "    <div>            <script src=\"https://cdnjs.cloudflare.com/ajax/libs/mathjax/2.7.5/MathJax.js?config=TeX-AMS-MML_SVG\"></script><script type=\"text/javascript\">if (window.MathJax && window.MathJax.Hub && window.MathJax.Hub.Config) {window.MathJax.Hub.Config({SVG: {font: \"STIX-Web\"}});}</script>                <script type=\"text/javascript\">window.PlotlyConfig = {MathJaxConfig: 'local'};</script>\n",
              "        <script charset=\"utf-8\" src=\"https://cdn.plot.ly/plotly-2.24.1.min.js\"></script>                <div id=\"09c866b9-37f2-4198-854f-f1e3d80c531e\" class=\"plotly-graph-div\" style=\"height:525px; width:100%;\"></div>            <script type=\"text/javascript\">                                    window.PLOTLYENV=window.PLOTLYENV || {};                                    if (document.getElementById(\"09c866b9-37f2-4198-854f-f1e3d80c531e\")) {                    Plotly.newPlot(                        \"09c866b9-37f2-4198-854f-f1e3d80c531e\",                        [{\"alignmentgroup\":\"True\",\"hovertemplate\":\"Work Type=%{x}\\u003cbr\\u003eStroke Rate=%{y}\\u003cextra\\u003e\\u003c\\u002fextra\\u003e\",\"legendgroup\":\"\",\"marker\":{\"color\":\"lightseagreen\",\"pattern\":{\"shape\":\"\"}},\"name\":\"\",\"offsetgroup\":\"\",\"orientation\":\"v\",\"showlegend\":false,\"textposition\":\"auto\",\"x\":[\"Govt_job\",\"Never_worked\",\"Private\",\"Self-employed\",\"children\"],\"xaxis\":\"x\",\"y\":[0.0502283105022831,0.0,0.05094017094017094,0.07936507936507936,0.002911208151382824],\"yaxis\":\"y\",\"type\":\"bar\"}],                        {\"template\":{\"data\":{\"histogram2dcontour\":[{\"type\":\"histogram2dcontour\",\"colorbar\":{\"outlinewidth\":0,\"ticks\":\"\"},\"colorscale\":[[0.0,\"#0d0887\"],[0.1111111111111111,\"#46039f\"],[0.2222222222222222,\"#7201a8\"],[0.3333333333333333,\"#9c179e\"],[0.4444444444444444,\"#bd3786\"],[0.5555555555555556,\"#d8576b\"],[0.6666666666666666,\"#ed7953\"],[0.7777777777777778,\"#fb9f3a\"],[0.8888888888888888,\"#fdca26\"],[1.0,\"#f0f921\"]]}],\"choropleth\":[{\"type\":\"choropleth\",\"colorbar\":{\"outlinewidth\":0,\"ticks\":\"\"}}],\"histogram2d\":[{\"type\":\"histogram2d\",\"colorbar\":{\"outlinewidth\":0,\"ticks\":\"\"},\"colorscale\":[[0.0,\"#0d0887\"],[0.1111111111111111,\"#46039f\"],[0.2222222222222222,\"#7201a8\"],[0.3333333333333333,\"#9c179e\"],[0.4444444444444444,\"#bd3786\"],[0.5555555555555556,\"#d8576b\"],[0.6666666666666666,\"#ed7953\"],[0.7777777777777778,\"#fb9f3a\"],[0.8888888888888888,\"#fdca26\"],[1.0,\"#f0f921\"]]}],\"heatmap\":[{\"type\":\"heatmap\",\"colorbar\":{\"outlinewidth\":0,\"ticks\":\"\"},\"colorscale\":[[0.0,\"#0d0887\"],[0.1111111111111111,\"#46039f\"],[0.2222222222222222,\"#7201a8\"],[0.3333333333333333,\"#9c179e\"],[0.4444444444444444,\"#bd3786\"],[0.5555555555555556,\"#d8576b\"],[0.6666666666666666,\"#ed7953\"],[0.7777777777777778,\"#fb9f3a\"],[0.8888888888888888,\"#fdca26\"],[1.0,\"#f0f921\"]]}],\"heatmapgl\":[{\"type\":\"heatmapgl\",\"colorbar\":{\"outlinewidth\":0,\"ticks\":\"\"},\"colorscale\":[[0.0,\"#0d0887\"],[0.1111111111111111,\"#46039f\"],[0.2222222222222222,\"#7201a8\"],[0.3333333333333333,\"#9c179e\"],[0.4444444444444444,\"#bd3786\"],[0.5555555555555556,\"#d8576b\"],[0.6666666666666666,\"#ed7953\"],[0.7777777777777778,\"#fb9f3a\"],[0.8888888888888888,\"#fdca26\"],[1.0,\"#f0f921\"]]}],\"contourcarpet\":[{\"type\":\"contourcarpet\",\"colorbar\":{\"outlinewidth\":0,\"ticks\":\"\"}}],\"contour\":[{\"type\":\"contour\",\"colorbar\":{\"outlinewidth\":0,\"ticks\":\"\"},\"colorscale\":[[0.0,\"#0d0887\"],[0.1111111111111111,\"#46039f\"],[0.2222222222222222,\"#7201a8\"],[0.3333333333333333,\"#9c179e\"],[0.4444444444444444,\"#bd3786\"],[0.5555555555555556,\"#d8576b\"],[0.6666666666666666,\"#ed7953\"],[0.7777777777777778,\"#fb9f3a\"],[0.8888888888888888,\"#fdca26\"],[1.0,\"#f0f921\"]]}],\"surface\":[{\"type\":\"surface\",\"colorbar\":{\"outlinewidth\":0,\"ticks\":\"\"},\"colorscale\":[[0.0,\"#0d0887\"],[0.1111111111111111,\"#46039f\"],[0.2222222222222222,\"#7201a8\"],[0.3333333333333333,\"#9c179e\"],[0.4444444444444444,\"#bd3786\"],[0.5555555555555556,\"#d8576b\"],[0.6666666666666666,\"#ed7953\"],[0.7777777777777778,\"#fb9f3a\"],[0.8888888888888888,\"#fdca26\"],[1.0,\"#f0f921\"]]}],\"mesh3d\":[{\"type\":\"mesh3d\",\"colorbar\":{\"outlinewidth\":0,\"ticks\":\"\"}}],\"scatter\":[{\"fillpattern\":{\"fillmode\":\"overlay\",\"size\":10,\"solidity\":0.2},\"type\":\"scatter\"}],\"parcoords\":[{\"type\":\"parcoords\",\"line\":{\"colorbar\":{\"outlinewidth\":0,\"ticks\":\"\"}}}],\"scatterpolargl\":[{\"type\":\"scatterpolargl\",\"marker\":{\"colorbar\":{\"outlinewidth\":0,\"ticks\":\"\"}}}],\"bar\":[{\"error_x\":{\"color\":\"#2a3f5f\"},\"error_y\":{\"color\":\"#2a3f5f\"},\"marker\":{\"line\":{\"color\":\"#E5ECF6\",\"width\":0.5},\"pattern\":{\"fillmode\":\"overlay\",\"size\":10,\"solidity\":0.2}},\"type\":\"bar\"}],\"scattergeo\":[{\"type\":\"scattergeo\",\"marker\":{\"colorbar\":{\"outlinewidth\":0,\"ticks\":\"\"}}}],\"scatterpolar\":[{\"type\":\"scatterpolar\",\"marker\":{\"colorbar\":{\"outlinewidth\":0,\"ticks\":\"\"}}}],\"histogram\":[{\"marker\":{\"pattern\":{\"fillmode\":\"overlay\",\"size\":10,\"solidity\":0.2}},\"type\":\"histogram\"}],\"scattergl\":[{\"type\":\"scattergl\",\"marker\":{\"colorbar\":{\"outlinewidth\":0,\"ticks\":\"\"}}}],\"scatter3d\":[{\"type\":\"scatter3d\",\"line\":{\"colorbar\":{\"outlinewidth\":0,\"ticks\":\"\"}},\"marker\":{\"colorbar\":{\"outlinewidth\":0,\"ticks\":\"\"}}}],\"scattermapbox\":[{\"type\":\"scattermapbox\",\"marker\":{\"colorbar\":{\"outlinewidth\":0,\"ticks\":\"\"}}}],\"scatterternary\":[{\"type\":\"scatterternary\",\"marker\":{\"colorbar\":{\"outlinewidth\":0,\"ticks\":\"\"}}}],\"scattercarpet\":[{\"type\":\"scattercarpet\",\"marker\":{\"colorbar\":{\"outlinewidth\":0,\"ticks\":\"\"}}}],\"carpet\":[{\"aaxis\":{\"endlinecolor\":\"#2a3f5f\",\"gridcolor\":\"white\",\"linecolor\":\"white\",\"minorgridcolor\":\"white\",\"startlinecolor\":\"#2a3f5f\"},\"baxis\":{\"endlinecolor\":\"#2a3f5f\",\"gridcolor\":\"white\",\"linecolor\":\"white\",\"minorgridcolor\":\"white\",\"startlinecolor\":\"#2a3f5f\"},\"type\":\"carpet\"}],\"table\":[{\"cells\":{\"fill\":{\"color\":\"#EBF0F8\"},\"line\":{\"color\":\"white\"}},\"header\":{\"fill\":{\"color\":\"#C8D4E3\"},\"line\":{\"color\":\"white\"}},\"type\":\"table\"}],\"barpolar\":[{\"marker\":{\"line\":{\"color\":\"#E5ECF6\",\"width\":0.5},\"pattern\":{\"fillmode\":\"overlay\",\"size\":10,\"solidity\":0.2}},\"type\":\"barpolar\"}],\"pie\":[{\"automargin\":true,\"type\":\"pie\"}]},\"layout\":{\"autotypenumbers\":\"strict\",\"colorway\":[\"#636efa\",\"#EF553B\",\"#00cc96\",\"#ab63fa\",\"#FFA15A\",\"#19d3f3\",\"#FF6692\",\"#B6E880\",\"#FF97FF\",\"#FECB52\"],\"font\":{\"color\":\"#2a3f5f\"},\"hovermode\":\"closest\",\"hoverlabel\":{\"align\":\"left\"},\"paper_bgcolor\":\"white\",\"plot_bgcolor\":\"#E5ECF6\",\"polar\":{\"bgcolor\":\"#E5ECF6\",\"angularaxis\":{\"gridcolor\":\"white\",\"linecolor\":\"white\",\"ticks\":\"\"},\"radialaxis\":{\"gridcolor\":\"white\",\"linecolor\":\"white\",\"ticks\":\"\"}},\"ternary\":{\"bgcolor\":\"#E5ECF6\",\"aaxis\":{\"gridcolor\":\"white\",\"linecolor\":\"white\",\"ticks\":\"\"},\"baxis\":{\"gridcolor\":\"white\",\"linecolor\":\"white\",\"ticks\":\"\"},\"caxis\":{\"gridcolor\":\"white\",\"linecolor\":\"white\",\"ticks\":\"\"}},\"coloraxis\":{\"colorbar\":{\"outlinewidth\":0,\"ticks\":\"\"}},\"colorscale\":{\"sequential\":[[0.0,\"#0d0887\"],[0.1111111111111111,\"#46039f\"],[0.2222222222222222,\"#7201a8\"],[0.3333333333333333,\"#9c179e\"],[0.4444444444444444,\"#bd3786\"],[0.5555555555555556,\"#d8576b\"],[0.6666666666666666,\"#ed7953\"],[0.7777777777777778,\"#fb9f3a\"],[0.8888888888888888,\"#fdca26\"],[1.0,\"#f0f921\"]],\"sequentialminus\":[[0.0,\"#0d0887\"],[0.1111111111111111,\"#46039f\"],[0.2222222222222222,\"#7201a8\"],[0.3333333333333333,\"#9c179e\"],[0.4444444444444444,\"#bd3786\"],[0.5555555555555556,\"#d8576b\"],[0.6666666666666666,\"#ed7953\"],[0.7777777777777778,\"#fb9f3a\"],[0.8888888888888888,\"#fdca26\"],[1.0,\"#f0f921\"]],\"diverging\":[[0,\"#8e0152\"],[0.1,\"#c51b7d\"],[0.2,\"#de77ae\"],[0.3,\"#f1b6da\"],[0.4,\"#fde0ef\"],[0.5,\"#f7f7f7\"],[0.6,\"#e6f5d0\"],[0.7,\"#b8e186\"],[0.8,\"#7fbc41\"],[0.9,\"#4d9221\"],[1,\"#276419\"]]},\"xaxis\":{\"gridcolor\":\"white\",\"linecolor\":\"white\",\"ticks\":\"\",\"title\":{\"standoff\":15},\"zerolinecolor\":\"white\",\"automargin\":true,\"zerolinewidth\":2},\"yaxis\":{\"gridcolor\":\"white\",\"linecolor\":\"white\",\"ticks\":\"\",\"title\":{\"standoff\":15},\"zerolinecolor\":\"white\",\"automargin\":true,\"zerolinewidth\":2},\"scene\":{\"xaxis\":{\"backgroundcolor\":\"#E5ECF6\",\"gridcolor\":\"white\",\"linecolor\":\"white\",\"showbackground\":true,\"ticks\":\"\",\"zerolinecolor\":\"white\",\"gridwidth\":2},\"yaxis\":{\"backgroundcolor\":\"#E5ECF6\",\"gridcolor\":\"white\",\"linecolor\":\"white\",\"showbackground\":true,\"ticks\":\"\",\"zerolinecolor\":\"white\",\"gridwidth\":2},\"zaxis\":{\"backgroundcolor\":\"#E5ECF6\",\"gridcolor\":\"white\",\"linecolor\":\"white\",\"showbackground\":true,\"ticks\":\"\",\"zerolinecolor\":\"white\",\"gridwidth\":2}},\"shapedefaults\":{\"line\":{\"color\":\"#2a3f5f\"}},\"annotationdefaults\":{\"arrowcolor\":\"#2a3f5f\",\"arrowhead\":0,\"arrowwidth\":1},\"geo\":{\"bgcolor\":\"white\",\"landcolor\":\"#E5ECF6\",\"subunitcolor\":\"white\",\"showland\":true,\"showlakes\":true,\"lakecolor\":\"white\"},\"title\":{\"x\":0.05},\"mapbox\":{\"style\":\"light\"}}},\"xaxis\":{\"anchor\":\"y\",\"domain\":[0.0,1.0],\"title\":{\"text\":\"Work Type\"}},\"yaxis\":{\"anchor\":\"x\",\"domain\":[0.0,1.0],\"title\":{\"text\":\"Stroke Rate\"}},\"legend\":{\"tracegroupgap\":0},\"title\":{\"text\":\"Stroke Rate by Work Type\"},\"barmode\":\"relative\"},                        {\"responsive\": true}                    ).then(function(){\n",
              "                            \n",
              "var gd = document.getElementById('09c866b9-37f2-4198-854f-f1e3d80c531e');\n",
              "var x = new MutationObserver(function (mutations, observer) {{\n",
              "        var display = window.getComputedStyle(gd).display;\n",
              "        if (!display || display === 'none') {{\n",
              "            console.log([gd, 'removed!']);\n",
              "            Plotly.purge(gd);\n",
              "            observer.disconnect();\n",
              "        }}\n",
              "}});\n",
              "\n",
              "// Listen for the removal of the full notebook cells\n",
              "var notebookContainer = gd.closest('#notebook-container');\n",
              "if (notebookContainer) {{\n",
              "    x.observe(notebookContainer, {childList: true});\n",
              "}}\n",
              "\n",
              "// Listen for the clearing of the current output cell\n",
              "var outputEl = gd.closest('.output');\n",
              "if (outputEl) {{\n",
              "    x.observe(outputEl, {childList: true});\n",
              "}}\n",
              "\n",
              "                        })                };                            </script>        </div>\n",
              "</body>\n",
              "</html>"
            ]
          },
          "metadata": {}
        }
      ]
    },
    {
      "cell_type": "markdown",
      "source": [
        "The highest stroke rate is amongst the self-employed people, followed by govt job and private job."
      ],
      "metadata": {
        "id": "QDbKhcOTl1mR"
      }
    },
    {
      "cell_type": "markdown",
      "source": [
        "### **EDA - Residence Type**"
      ],
      "metadata": {
        "id": "KRklxXo8nbHJ"
      }
    },
    {
      "cell_type": "code",
      "source": [
        "plt.figure(figsize=(8, 6))\n",
        "sns.countplot(data=df, x='Residence_type', hue='stroke', palette=['skyblue', 'lightcoral'])\n",
        "\n",
        "for p in ax.patches:\n",
        "    width, height = p.get_width(), p.get_height()\n",
        "    x, y = p.get_xy()\n",
        "    ax.text(x + width / 2, y + height / 2, f'{int(height)}', ha='center', va='center')\n",
        "\n",
        "plt.title('Distribution of Stroke Across Residence Types')\n",
        "plt.xlabel('Residence Type')\n",
        "plt.ylabel('Count')\n",
        "plt.legend(title='Stroke Status', labels=['No Stroke', 'Stroke'])\n",
        "plt.show()\n"
      ],
      "metadata": {
        "colab": {
          "base_uri": "https://localhost:8080/",
          "height": 564
        },
        "id": "Qx6pAYNCn1Aa",
        "outputId": "c0d0265c-752c-4413-c28f-94d40349ffc2"
      },
      "execution_count": 20,
      "outputs": [
        {
          "output_type": "display_data",
          "data": {
            "text/plain": [
              "<Figure size 800x600 with 1 Axes>"
            ],
            "image/png": "[encoded data removed]"
          },
          "metadata": {}
        }
      ]
    },
    {
      "cell_type": "markdown",
      "source": [
        "Both the 'urban' and 'rural' population has almost similar representation in our dataset."
      ],
      "metadata": {
        "id": "jGtWcHQwoA1_"
      }
    },
    {
      "cell_type": "code",
      "source": [
        "# Calculating the count of all samples for each residence type\n",
        "residence_counts = pd.crosstab(df['Residence_type'], df['stroke'])\n",
        "\n",
        "fig, ax = plt.subplots()\n",
        "\n",
        "residence_counts.plot(kind='bar', stacked=True, color=['lightskyblue', 'pink'], ax=ax)\n",
        "\n",
        "plt.title('Distribution of Stroke Across Residence Types')\n",
        "plt.xlabel('Residence Type')\n",
        "plt.ylabel('Count')\n",
        "\n",
        "for p in ax.patches:\n",
        "    width, height = p.get_width(), p.get_height()\n",
        "    x, y = p.get_xy()\n",
        "    ax.annotate(f'{height}', (x + width / 2, y + height / 2), ha='center', va='center')\n",
        "\n",
        "plt.show()\n"
      ],
      "metadata": {
        "colab": {
          "base_uri": "https://localhost:8080/",
          "height": 500
        },
        "id": "Urcq8lZUbIOq",
        "outputId": "2e4a427b-e49b-4f2f-abff-edfc2f6524f4"
      },
      "execution_count": 19,
      "outputs": [
        {
          "output_type": "display_data",
          "data": {
            "text/plain": [
              "<Figure size 640x480 with 1 Axes>"
            ],
            "image/png": "[encoded data removed]"
          },
          "metadata": {}
        }
      ]
    },
    {
      "cell_type": "markdown",
      "source": [
        "Even the stroke rate does not differ very much in both the rural and urban population."
      ],
      "metadata": {
        "id": "gJBobHSqnyc1"
      }
    },
    {
      "cell_type": "markdown",
      "source": [
        "### **EDA - Average glucose levels**\n",
        "\n",
        "Since avg_glucose_level is a continuous variable, I have created bins according to the medical diagnosis such as normal glucose level or diabetes."
      ],
      "metadata": {
        "id": "nZ_g1riHpyH6"
      }
    },
    {
      "cell_type": "code",
      "source": [
        "# Creating glucose bins and labels\n",
        "glucose_bins = [55.12, 70, 99, 125, 271.74]\n",
        "glucose_labels = ['Low', 'Normal', 'Pre-Diabetes', 'Diabetes']\n",
        "\n",
        "# Categorizing 'avg_glucose_level' into groups\n",
        "df['avg_glucose_level_group'] = pd.cut(df['avg_glucose_level'], bins=glucose_bins, labels=glucose_labels, right=False)\n",
        "\n",
        "fig = px.histogram(df, x='avg_glucose_level_group', color='stroke',\n",
        "                   title='Distribution of Stroke Cases by Average Glucose Level Group',\n",
        "                   labels={'avg_glucose_level_group': 'Average Glucose Level Group', 'stroke': 'Stroke'},\n",
        "                   category_orders={'avg_glucose_level_group': glucose_labels},\n",
        "                   color_discrete_sequence=['forestgreen', 'darksalmon'])\n",
        "\n",
        "fig.update_layout(height=700, width=800)\n",
        "fig.show()\n"
      ],
      "metadata": {
        "colab": {
          "base_uri": "https://localhost:8080/",
          "height": 717
        },
        "id": "n4yG7dY6hQyC",
        "outputId": "0181b707-473d-429a-afa3-cf3836ce8875"
      },
      "execution_count": 24,
      "outputs": [
        {
          "output_type": "display_data",
          "data": {
            "text/html": [
              "<html>\n",
              "<head><meta charset=\"utf-8\" /></head>\n",
              "<body>\n",
              "    <div>            <script src=\"https://cdnjs.cloudflare.com/ajax/libs/mathjax/2.7.5/MathJax.js?config=TeX-AMS-MML_SVG\"></script><script type=\"text/javascript\">if (window.MathJax && window.MathJax.Hub && window.MathJax.Hub.Config) {window.MathJax.Hub.Config({SVG: {font: \"STIX-Web\"}});}</script>                <script type=\"text/javascript\">window.PlotlyConfig = {MathJaxConfig: 'local'};</script>\n",
              "        <script charset=\"utf-8\" src=\"https://cdn.plot.ly/plotly-2.24.1.min.js\"></script>                <div id=\"e29bde22-d5b8-4d46-959d-dbce08f0f8b4\" class=\"plotly-graph-div\" style=\"height:700px; width:800px;\"></div>            <script type=\"text/javascript\">                                    window.PLOTLYENV=window.PLOTLYENV || {};                                    if (document.getElementById(\"e29bde22-d5b8-4d46-959d-dbce08f0f8b4\")) {                    Plotly.newPlot(                        \"e29bde22-d5b8-4d46-959d-dbce08f0f8b4\",                        [{\"alignmentgroup\":\"True\",\"bingroup\":\"x\",\"hovertemplate\":\"Stroke=1\\u003cbr\\u003eAverage Glucose Level Group=%{x}\\u003cbr\\u003ecount=%{y}\\u003cextra\\u003e\\u003c\\u002fextra\\u003e\",\"legendgroup\":\"1\",\"marker\":{\"color\":\"forestgreen\",\"pattern\":{\"shape\":\"\"}},\"name\":\"1\",\"offsetgroup\":\"1\",\"orientation\":\"v\",\"showlegend\":true,\"x\":[\"Diabetes\",\"Diabetes\",\"Pre-Diabetes\",\"Diabetes\",\"Diabetes\",\"Diabetes\",\"Normal\",\"Normal\",\"Normal\",\"Low\",\"Normal\",\"Pre-Diabetes\",\"Pre-Diabetes\",\"Diabetes\",\"Diabetes\",\"Diabetes\",\"Diabetes\",\"Diabetes\",\"Normal\",\"Diabetes\",\"Diabetes\",\"Diabetes\",\"Diabetes\",\"Diabetes\",\"Pre-Diabetes\",\"Pre-Diabetes\",\"Pre-Diabetes\",\"Diabetes\",\"Diabetes\",\"Diabetes\",\"Diabetes\",\"Normal\",\"Diabetes\",\"Diabetes\",\"Normal\",\"Normal\",\"Diabetes\",\"Normal\",\"Normal\",\"Low\",\"Normal\",\"Normal\",\"Diabetes\",\"Normal\",\"Diabetes\",\"Diabetes\",\"Pre-Diabetes\",\"Pre-Diabetes\",\"Pre-Diabetes\",\"Low\",\"Normal\",\"Normal\",\"Diabetes\",\"Pre-Diabetes\",\"Diabetes\",\"Diabetes\",\"Low\",\"Diabetes\",\"Diabetes\",\"Diabetes\",\"Diabetes\",\"Normal\",\"Low\",\"Normal\",\"Pre-Diabetes\",\"Pre-Diabetes\",\"Diabetes\",\"Pre-Diabetes\",\"Normal\",\"Normal\",\"Low\",\"Diabetes\",\"Pre-Diabetes\",\"Diabetes\",\"Normal\",\"Low\",\"Diabetes\",\"Pre-Diabetes\",\"Diabetes\",\"Diabetes\",\"Normal\",\"Pre-Diabetes\",\"Normal\",\"Normal\",\"Normal\",\"Normal\",\"Pre-Diabetes\",\"Low\",\"Normal\",\"Normal\",\"Diabetes\",\"Normal\",\"Low\",\"Low\",\"Low\",\"Diabetes\",\"Normal\",\"Diabetes\",\"Normal\",\"Normal\",\"Normal\",\"Diabetes\",\"Diabetes\",\"Normal\",\"Pre-Diabetes\",\"Normal\",\"Normal\",\"Diabetes\",\"Normal\",\"Low\",\"Diabetes\",\"Low\",\"Pre-Diabetes\",\"Diabetes\",\"Normal\",\"Diabetes\",\"Normal\",\"Normal\",\"Normal\",\"Pre-Diabetes\",\"Low\",\"Low\",\"Diabetes\",\"Diabetes\",\"Diabetes\",\"Diabetes\",\"Normal\",\"Normal\",\"Diabetes\",\"Low\",\"Diabetes\",\"Diabetes\",\"Diabetes\",\"Pre-Diabetes\",\"Diabetes\",\"Diabetes\",\"Diabetes\",\"Diabetes\",\"Diabetes\",\"Diabetes\",\"Pre-Diabetes\",\"Pre-Diabetes\",\"Normal\",\"Normal\",\"Diabetes\",\"Diabetes\",\"Low\",\"Low\",\"Low\",\"Diabetes\",\"Diabetes\",\"Diabetes\",\"Normal\",\"Normal\",\"Normal\",\"Diabetes\",\"Pre-Diabetes\",\"Diabetes\",\"Diabetes\",\"Normal\",\"Low\",\"Normal\",\"Normal\",\"Diabetes\",\"Normal\",\"Diabetes\",\"Diabetes\",\"Normal\",\"Normal\",\"Normal\",\"Pre-Diabetes\",\"Low\",\"Normal\",\"Normal\",\"Low\",\"Diabetes\",\"Low\",\"Low\",\"Pre-Diabetes\",\"Diabetes\",\"Normal\",\"Pre-Diabetes\",\"Normal\",\"Normal\",\"Pre-Diabetes\",\"Diabetes\",\"Pre-Diabetes\",\"Diabetes\",\"Normal\",\"Diabetes\",\"Diabetes\",\"Pre-Diabetes\",\"Pre-Diabetes\",null,\"Normal\",\"Diabetes\",\"Diabetes\",\"Normal\",\"Pre-Diabetes\",\"Normal\",\"Diabetes\",\"Diabetes\",\"Normal\",\"Pre-Diabetes\",\"Normal\",\"Pre-Diabetes\",\"Normal\",\"Normal\",\"Diabetes\",\"Pre-Diabetes\",\"Normal\",\"Pre-Diabetes\",\"Diabetes\",\"Normal\",\"Normal\",\"Diabetes\",\"Pre-Diabetes\",\"Diabetes\",\"Diabetes\",\"Diabetes\",\"Diabetes\",\"Normal\",\"Diabetes\",\"Normal\",\"Pre-Diabetes\",\"Diabetes\",\"Diabetes\",\"Low\",\"Normal\",\"Low\",\"Normal\",\"Normal\",\"Normal\",\"Diabetes\",\"Diabetes\",\"Diabetes\",\"Normal\",\"Diabetes\",\"Normal\",\"Normal\",\"Normal\",\"Diabetes\",\"Diabetes\",\"Diabetes\",\"Normal\",\"Low\",\"Normal\",\"Normal\",\"Normal\"],\"xaxis\":\"x\",\"yaxis\":\"y\",\"type\":\"histogram\"},{\"alignmentgroup\":\"True\",\"bingroup\":\"x\",\"hovertemplate\":\"Stroke=0\\u003cbr\\u003eAverage Glucose Level Group=%{x}\\u003cbr\\u003ecount=%{y}\\u003cextra\\u003e\\u003c\\u002fextra\\u003e\",\"legendgroup\":\"0\",\"marker\":{\"color\":\"darksalmon\",\"pattern\":{\"shape\":\"\"}},\"name\":\"0\",\"offsetgroup\":\"0\",\"orientation\":\"v\",\"showlegend\":true,\"x\":[\"Normal\",\"Normal\",\"Pre-Diabetes\",\"Low\",\"Diabetes\",\"Diabetes\",\"Normal\",\"Diabetes\",\"Normal\",\"Diabetes\",\"Normal\",\"Low\",\"Diabetes\",\"Normal\",\"Normal\",\"Normal\",\"Normal\",\"Normal\",\"Low\",\"Low\",\"Normal\",\"Diabetes\",\"Low\",\"Diabetes\",\"Pre-Diabetes\",\"Low\",\"Normal\",\"Normal\",\"Diabetes\",\"Diabetes\",\"Normal\",\"Pre-Diabetes\",\"Low\",\"Normal\",\"Diabetes\",\"Normal\",\"Low\",\"Normal\",\"Low\",\"Normal\",\"Pre-Diabetes\",\"Pre-Diabetes\",\"Normal\",\"Pre-Diabetes\",\"Diabetes\",\"Normal\",\"Pre-Diabetes\",\"Diabetes\",\"Low\",\"Diabetes\",\"Normal\",\"Normal\",\"Diabetes\",\"Normal\",\"Diabetes\",\"Pre-Diabetes\",\"Diabetes\",\"Normal\",\"Diabetes\",\"Low\",\"Normal\",\"Pre-Diabetes\",\"Normal\",\"Normal\",\"Normal\",\"Diabetes\",\"Low\",\"Low\",\"Diabetes\",\"Diabetes\",\"Normal\",\"Pre-Diabetes\",\"Normal\",\"Low\",\"Normal\",\"Normal\",\"Diabetes\",\"Diabetes\",\"Normal\",\"Normal\",\"Pre-Diabetes\",\"Diabetes\",\"Diabetes\",\"Diabetes\",\"Normal\",\"Normal\",\"Normal\",\"Normal\",\"Diabetes\",\"Normal\",\"Diabetes\",\"Normal\",\"Normal\",\"Pre-Diabetes\",\"Diabetes\",\"Low\",\"Pre-Diabetes\",\"Pre-Diabetes\",\"Pre-Diabetes\",\"Low\",\"Pre-Diabetes\",\"Diabetes\",\"Diabetes\",\"Normal\",\"Low\",\"Normal\",\"Diabetes\",\"Normal\",\"Diabetes\",\"Normal\",\"Low\",\"Diabetes\",\"Normal\",\"Pre-Diabetes\",\"Normal\",\"Diabetes\",\"Diabetes\",\"Pre-Diabetes\",\"Normal\",\"Pre-Diabetes\",\"Normal\",\"Normal\",\"Normal\",\"Pre-Diabetes\",\"Normal\",\"Low\",\"Normal\",\"Normal\",\"Diabetes\",\"Normal\",\"Low\",\"Pre-Diabetes\",\"Pre-Diabetes\",\"Pre-Diabetes\",\"Normal\",\"Pre-Diabetes\",\"Normal\",\"Diabetes\",\"Pre-Diabetes\",\"Normal\",\"Low\",\"Normal\",\"Pre-Diabetes\",\"Normal\",\"Normal\",\"Normal\",\"Normal\",\"Diabetes\",\"Normal\",\"Pre-Diabetes\",\"Diabetes\",\"Normal\",\"Normal\",\"Pre-Diabetes\",\"Normal\",\"Normal\",\"Normal\",\"Normal\",\"Pre-Diabetes\",\"Pre-Diabetes\",\"Normal\",\"Low\",\"Diabetes\",\"Normal\",\"Diabetes\",\"Normal\",\"Normal\",\"Normal\",\"Diabetes\",\"Normal\",\"Normal\",\"Normal\",\"Normal\",\"Normal\",\"Normal\",\"Normal\",\"Normal\",\"Diabetes\",\"Low\",\"Diabetes\",\"Diabetes\",\"Normal\",\"Normal\",\"Normal\",\"Diabetes\",\"Normal\",\"Normal\",\"Diabetes\",\"Normal\",\"Pre-Diabetes\",\"Pre-Diabetes\",\"Diabetes\",\"Normal\",\"Pre-Diabetes\",\"Normal\",\"Diabetes\",\"Low\",\"Low\",\"Pre-Diabetes\",\"Diabetes\",\"Low\",\"Normal\",\"Pre-Diabetes\",\"Normal\",\"Normal\",\"Pre-Diabetes\",\"Normal\",\"Diabetes\",\"Normal\",\"Normal\",\"Normal\",\"Normal\",\"Pre-Diabetes\",\"Pre-Diabetes\",\"Pre-Diabetes\",\"Normal\",\"Pre-Diabetes\",\"Diabetes\",\"Diabetes\",\"Diabetes\",\"Normal\",\"Pre-Diabetes\",\"Normal\",\"Normal\",\"Normal\",\"Normal\",\"Low\",\"Normal\",\"Diabetes\",\"Normal\",\"Diabetes\",\"Normal\",\"Normal\",\"Normal\",\"Normal\",\"Diabetes\",\"Normal\",\"Pre-Diabetes\",\"Normal\",\"Normal\",\"Normal\",\"Low\",\"Normal\",\"Diabetes\",\"Low\",\"Pre-Diabetes\",\"Normal\",\"Pre-Diabetes\",\"Diabetes\",\"Pre-Diabetes\",\"Normal\",\"Normal\",\"Low\",\"Normal\",\"Pre-Diabetes\",\"Normal\",\"Normal\",\"Normal\",\"Pre-Diabetes\",\"Normal\",\"Normal\",\"Normal\",\"Normal\",\"Normal\",\"Pre-Diabetes\",\"Normal\",\"Diabetes\",\"Pre-Diabetes\",\"Pre-Diabetes\",\"Pre-Diabetes\",\"Pre-Diabetes\",\"Normal\",\"Low\",\"Normal\",\"Pre-Diabetes\",\"Normal\",\"Normal\",\"Diabetes\",\"Pre-Diabetes\",\"Normal\",\"Normal\",\"Pre-Diabetes\",\"Normal\",\"Normal\",\"Normal\",\"Diabetes\",\"Diabetes\",\"Normal\",\"Pre-Diabetes\",\"Diabetes\",\"Normal\",\"Normal\",\"Low\",\"Normal\",\"Normal\",\"Diabetes\",\"Normal\",\"Pre-Diabetes\",\"Normal\",\"Pre-Diabetes\",\"Diabetes\",\"Diabetes\",\"Diabetes\",\"Diabetes\",\"Normal\",\"Normal\",\"Normal\",\"Low\",\"Pre-Diabetes\",\"Pre-Diabetes\",\"Diabetes\",\"Low\",\"Diabetes\",\"Low\",\"Diabetes\",\"Normal\",\"Normal\",\"Pre-Diabetes\",\"Pre-Diabetes\",\"Normal\",\"Low\",\"Diabetes\",\"Pre-Diabetes\",\"Normal\",\"Normal\",\"Pre-Diabetes\",\"Pre-Diabetes\",\"Diabetes\",\"Pre-Diabetes\",\"Normal\",\"Pre-Diabetes\",\"Pre-Diabetes\",\"Diabetes\",\"Low\",\"Diabetes\",\"Diabetes\",\"Diabetes\",\"Diabetes\",\"Diabetes\",\"Normal\",\"Pre-Diabetes\",\"Low\",\"Normal\",\"Pre-Diabetes\",\"Low\",\"Pre-Diabetes\",\"Diabetes\",\"Normal\",\"Low\",\"Diabetes\",\"Diabetes\",\"Pre-Diabetes\",\"Normal\",\"Normal\",\"Diabetes\",\"Pre-Diabetes\",\"Normal\",\"Normal\",\"Pre-Diabetes\",\"Diabetes\",\"Normal\",\"Diabetes\",\"Normal\",\"Diabetes\",\"Pre-Diabetes\",\"Normal\",\"Normal\",\"Diabetes\",\"Normal\",\"Diabetes\",\"Pre-Diabetes\",\"Diabetes\",\"Diabetes\",\"Low\",\"Low\",\"Low\",\"Normal\",\"Pre-Diabetes\",\"Normal\",\"Normal\",\"Pre-Diabetes\",\"Low\",\"Pre-Diabetes\",\"Pre-Diabetes\",\"Normal\",\"Normal\",\"Normal\",\"Normal\",\"Pre-Diabetes\",\"Pre-Diabetes\",\"Low\",\"Normal\",\"Normal\",\"Diabetes\",\"Normal\",\"Normal\",\"Normal\",\"Normal\",\"Normal\",\"Low\",\"Pre-Diabetes\",\"Normal\",\"Pre-Diabetes\",\"Low\",\"Normal\",\"Normal\",\"Low\",\"Low\",\"Pre-Diabetes\",\"Normal\",\"Low\",\"Low\",\"Low\",\"Normal\",\"Normal\",\"Normal\",\"Low\",\"Low\",\"Low\",\"Pre-Diabetes\",\"Pre-Diabetes\",\"Low\",\"Normal\",\"Low\",\"Normal\",\"Normal\",\"Normal\",\"Pre-Diabetes\",\"Normal\",\"Normal\",\"Diabetes\",\"Normal\",\"Normal\",\"Low\",\"Normal\",\"Diabetes\",\"Normal\",\"Normal\",\"Pre-Diabetes\",\"Normal\",\"Pre-Diabetes\",\"Diabetes\",\"Low\",\"Normal\",\"Diabetes\",\"Normal\",\"Normal\",\"Normal\",\"Normal\",\"Normal\",\"Pre-Diabetes\",\"Pre-Diabetes\",\"Normal\",\"Normal\",\"Pre-Diabetes\",\"Normal\",\"Low\",\"Diabetes\",\"Normal\",\"Diabetes\",\"Low\",\"Diabetes\",\"Diabetes\",\"Low\",\"Pre-Diabetes\",\"Diabetes\",\"Normal\",\"Low\",\"Low\",\"Normal\",\"Diabetes\",\"Normal\",\"Normal\",\"Pre-Diabetes\",\"Normal\",\"Low\",\"Normal\",\"Low\",\"Pre-Diabetes\",\"Normal\",\"Pre-Diabetes\",\"Normal\",\"Pre-Diabetes\",\"Pre-Diabetes\",\"Normal\",\"Normal\",\"Normal\",\"Normal\",\"Normal\",\"Normal\",\"Low\",\"Normal\",\"Pre-Diabetes\",\"Normal\",\"Normal\",\"Diabetes\",\"Normal\",\"Diabetes\",\"Low\",\"Low\",\"Low\",\"Normal\",\"Normal\",\"Pre-Diabetes\",\"Low\",\"Normal\",\"Diabetes\",\"Diabetes\",\"Normal\",\"Normal\",\"Normal\",\"Normal\",\"Normal\",\"Diabetes\",\"Normal\",\"Pre-Diabetes\",\"Pre-Diabetes\",\"Normal\",\"Pre-Diabetes\",\"Normal\",\"Pre-Diabetes\",\"Diabetes\",\"Pre-Diabetes\",\"Low\",\"Pre-Diabetes\",\"Low\",\"Normal\",\"Pre-Diabetes\",\"Normal\",\"Normal\",\"Pre-Diabetes\",\"Diabetes\",\"Normal\",\"Normal\",\"Normal\",\"Normal\",\"Diabetes\",\"Normal\",\"Pre-Diabetes\",\"Normal\",\"Pre-Diabetes\",\"Normal\",\"Low\",\"Low\",\"Pre-Diabetes\",\"Normal\",\"Pre-Diabetes\",\"Low\",\"Normal\",\"Pre-Diabetes\",\"Normal\",\"Normal\",\"Normal\",\"Pre-Diabetes\",\"Normal\",\"Normal\",\"Pre-Diabetes\",\"Pre-Diabetes\",\"Pre-Diabetes\",\"Pre-Diabetes\",\"Normal\",\"Normal\",\"Normal\",\"Normal\",\"Pre-Diabetes\",\"Normal\",\"Normal\",\"Diabetes\",\"Low\",\"Pre-Diabetes\",\"Diabetes\",\"Diabetes\",\"Normal\",\"Pre-Diabetes\",\"Normal\",\"Normal\",\"Normal\",\"Normal\",\"Pre-Diabetes\",\"Normal\",\"Normal\",\"Pre-Diabetes\",\"Low\",\"Pre-Diabetes\",\"Diabetes\",\"Normal\",\"Normal\",\"Pre-Diabetes\",\"Normal\",\"Pre-Diabetes\",\"Normal\",\"Pre-Diabetes\",\"Normal\",\"Normal\",\"Normal\",\"Normal\",\"Low\",\"Diabetes\",\"Low\",\"Diabetes\",\"Pre-Diabetes\",\"Diabetes\",\"Diabetes\",\"Low\",\"Normal\",\"Normal\",\"Normal\",\"Low\",\"Normal\",\"Normal\",\"Diabetes\",\"Pre-Diabetes\",\"Normal\",\"Diabetes\",\"Pre-Diabetes\",\"Normal\",\"Diabetes\",\"Pre-Diabetes\",\"Diabetes\",\"Pre-Diabetes\",\"Normal\",\"Pre-Diabetes\",\"Normal\",\"Normal\",\"Normal\",\"Low\",\"Normal\",\"Pre-Diabetes\",\"Normal\",\"Pre-Diabetes\",\"Normal\",\"Diabetes\",\"Pre-Diabetes\",\"Low\",\"Low\",\"Low\",\"Diabetes\",\"Normal\",\"Diabetes\",\"Pre-Diabetes\",\"Low\",\"Normal\",\"Normal\",\"Pre-Diabetes\",\"Low\",\"Diabetes\",\"Normal\",\"Pre-Diabetes\",\"Normal\",\"Normal\",\"Normal\",\"Normal\",\"Normal\",\"Low\",\"Normal\",\"Low\",\"Normal\",\"Normal\",\"Pre-Diabetes\",\"Normal\",\"Low\",\"Normal\",\"Normal\",\"Low\",\"Pre-Diabetes\",\"Normal\",\"Normal\",\"Low\",\"Normal\",\"Pre-Diabetes\",\"Pre-Diabetes\",\"Pre-Diabetes\",\"Pre-Diabetes\",\"Pre-Diabetes\",\"Diabetes\",\"Normal\",\"Low\",\"Pre-Diabetes\",\"Normal\",\"Normal\",\"Diabetes\",\"Diabetes\",\"Normal\",\"Pre-Diabetes\",\"Pre-Diabetes\",\"Pre-Diabetes\",\"Normal\",\"Pre-Diabetes\",\"Diabetes\",\"Normal\",\"Pre-Diabetes\",\"Pre-Diabetes\",\"Pre-Diabetes\",\"Pre-Diabetes\",\"Normal\",\"Low\",\"Diabetes\",\"Diabetes\",\"Normal\",\"Diabetes\",\"Normal\",\"Low\",\"Pre-Diabetes\",\"Normal\",\"Normal\",\"Normal\",\"Normal\",\"Normal\",\"Low\",\"Pre-Diabetes\",\"Pre-Diabetes\",\"Low\",\"Normal\",\"Normal\",\"Normal\",\"Normal\",\"Normal\",\"Low\",\"Pre-Diabetes\",\"Pre-Diabetes\",\"Normal\",\"Diabetes\",\"Diabetes\",\"Normal\",\"Low\",\"Pre-Diabetes\",\"Normal\",\"Normal\",\"Normal\",\"Pre-Diabetes\",\"Normal\",\"Low\",\"Pre-Diabetes\",\"Diabetes\",\"Pre-Diabetes\",\"Pre-Diabetes\",\"Low\",\"Diabetes\",\"Normal\",\"Pre-Diabetes\",\"Low\",\"Diabetes\",\"Normal\",\"Normal\",\"Normal\",\"Pre-Diabetes\",\"Normal\",\"Pre-Diabetes\",\"Low\",\"Normal\",\"Normal\",\"Normal\",\"Diabetes\",\"Pre-Diabetes\",\"Normal\",\"Normal\",\"Normal\",\"Normal\",\"Normal\",\"Normal\",\"Diabetes\",\"Normal\",\"Diabetes\",\"Diabetes\",\"Pre-Diabetes\",\"Diabetes\",\"Diabetes\",\"Diabetes\",\"Pre-Diabetes\",\"Normal\",\"Diabetes\",\"Pre-Diabetes\",\"Low\",\"Low\",\"Normal\",\"Normal\",\"Normal\",\"Pre-Diabetes\",\"Normal\",\"Normal\",\"Normal\",\"Diabetes\",\"Low\",\"Low\",\"Pre-Diabetes\",\"Pre-Diabetes\",\"Normal\",\"Normal\",\"Normal\",\"Pre-Diabetes\",\"Normal\",\"Normal\",\"Pre-Diabetes\",\"Normal\",\"Normal\",\"Normal\",\"Normal\",\"Normal\",\"Normal\",\"Normal\",\"Low\",\"Pre-Diabetes\",\"Low\",\"Normal\",\"Low\",\"Normal\",\"Pre-Diabetes\",\"Normal\",\"Pre-Diabetes\",\"Low\",\"Diabetes\",\"Normal\",\"Diabetes\",\"Pre-Diabetes\",\"Low\",\"Normal\",\"Low\",\"Low\",\"Diabetes\",\"Normal\",\"Normal\",\"Diabetes\",\"Diabetes\",\"Normal\",\"Diabetes\",\"Pre-Diabetes\",\"Pre-Diabetes\",\"Low\",\"Normal\",\"Pre-Diabetes\",\"Normal\",\"Normal\",\"Normal\",\"Pre-Diabetes\",\"Normal\",\"Normal\",\"Pre-Diabetes\",\"Normal\",\"Pre-Diabetes\",\"Normal\",\"Diabetes\",\"Normal\",\"Pre-Diabetes\",\"Diabetes\",\"Low\",\"Low\",\"Pre-Diabetes\",\"Normal\",\"Diabetes\",\"Normal\",\"Normal\",\"Low\",\"Low\",\"Diabetes\",\"Low\",\"Diabetes\",\"Low\",\"Low\",\"Normal\",\"Normal\",\"Normal\",\"Normal\",\"Normal\",\"Diabetes\",\"Diabetes\",\"Normal\",\"Normal\",\"Normal\",\"Normal\",\"Diabetes\",\"Normal\",\"Normal\",\"Pre-Diabetes\",\"Normal\",\"Pre-Diabetes\",\"Pre-Diabetes\",\"Low\",\"Diabetes\",\"Low\",\"Normal\",\"Normal\",\"Normal\",\"Diabetes\",\"Pre-Diabetes\",\"Diabetes\",\"Normal\",\"Normal\",\"Normal\",\"Normal\",\"Normal\",\"Pre-Diabetes\",\"Normal\",\"Normal\",\"Low\",\"Low\",\"Normal\",\"Normal\",\"Low\",\"Normal\",\"Low\",\"Normal\",\"Normal\",\"Normal\",\"Diabetes\",\"Normal\",\"Pre-Diabetes\",\"Pre-Diabetes\",\"Low\",\"Normal\",\"Diabetes\",\"Pre-Diabetes\",\"Normal\",\"Pre-Diabetes\",\"Normal\",\"Low\",\"Low\",\"Normal\",\"Diabetes\",\"Low\",\"Pre-Diabetes\",\"Diabetes\",\"Normal\",\"Pre-Diabetes\",\"Pre-Diabetes\",\"Diabetes\",\"Pre-Diabetes\",\"Normal\",\"Low\",\"Pre-Diabetes\",\"Diabetes\",\"Normal\",\"Normal\",\"Normal\",\"Diabetes\",\"Pre-Diabetes\",\"Low\",\"Pre-Diabetes\",\"Pre-Diabetes\",\"Diabetes\",\"Normal\",\"Diabetes\",\"Low\",\"Low\",\"Normal\",\"Pre-Diabetes\",\"Normal\",\"Normal\",\"Normal\",\"Normal\",\"Low\",\"Normal\",\"Diabetes\",\"Normal\",\"Diabetes\",\"Normal\",\"Pre-Diabetes\",\"Pre-Diabetes\",\"Low\",\"Diabetes\",\"Pre-Diabetes\",\"Normal\",\"Normal\",\"Normal\",\"Normal\",\"Low\",\"Diabetes\",\"Diabetes\",\"Low\",\"Pre-Diabetes\",\"Normal\",\"Low\",\"Pre-Diabetes\",\"Normal\",\"Normal\",\"Pre-Diabetes\",\"Normal\",\"Diabetes\",\"Normal\",\"Normal\",\"Diabetes\",\"Pre-Diabetes\",\"Pre-Diabetes\",\"Normal\",\"Normal\",\"Diabetes\",\"Normal\",\"Pre-Diabetes\",\"Normal\",\"Normal\",\"Pre-Diabetes\",\"Normal\",\"Pre-Diabetes\",\"Normal\",\"Low\",\"Normal\",\"Low\",\"Diabetes\",\"Normal\",\"Pre-Diabetes\",\"Normal\",\"Normal\",\"Diabetes\",\"Pre-Diabetes\",\"Low\",\"Normal\",\"Normal\",\"Normal\",\"Normal\",\"Diabetes\",\"Normal\",\"Normal\",\"Pre-Diabetes\",\"Pre-Diabetes\",\"Pre-Diabetes\",\"Low\",\"Low\",\"Pre-Diabetes\",\"Low\",\"Low\",\"Normal\",\"Low\",\"Normal\",\"Normal\",\"Normal\",\"Diabetes\",\"Normal\",\"Diabetes\",\"Normal\",\"Diabetes\",\"Diabetes\",\"Pre-Diabetes\",\"Pre-Diabetes\",\"Normal\",\"Diabetes\",\"Diabetes\",\"Pre-Diabetes\",\"Normal\",\"Normal\",\"Normal\",\"Low\",\"Normal\",\"Normal\",\"Normal\",\"Low\",\"Normal\",\"Normal\",\"Pre-Diabetes\",\"Pre-Diabetes\",\"Normal\",\"Normal\",\"Normal\",\"Diabetes\",\"Diabetes\",\"Diabetes\",\"Low\",\"Normal\",\"Normal\",\"Normal\",\"Normal\",\"Normal\",\"Diabetes\",\"Low\",\"Normal\",\"Normal\",\"Normal\",\"Normal\",\"Normal\",\"Diabetes\",\"Normal\",\"Normal\",\"Diabetes\",\"Diabetes\",\"Normal\",\"Diabetes\",\"Low\",\"Normal\",\"Normal\",\"Normal\",\"Low\",\"Pre-Diabetes\",\"Normal\",\"Diabetes\",\"Normal\",\"Diabetes\",\"Low\",\"Normal\",\"Normal\",\"Normal\",\"Normal\",\"Pre-Diabetes\",\"Diabetes\",\"Pre-Diabetes\",\"Normal\",\"Low\",\"Diabetes\",\"Normal\",\"Pre-Diabetes\",\"Diabetes\",\"Normal\",\"Normal\",\"Normal\",\"Low\",\"Normal\",\"Normal\",\"Pre-Diabetes\",\"Normal\",\"Normal\",\"Low\",\"Diabetes\",\"Normal\",\"Diabetes\",\"Low\",\"Normal\",\"Pre-Diabetes\",\"Diabetes\",\"Pre-Diabetes\",\"Pre-Diabetes\",\"Normal\",\"Pre-Diabetes\",\"Pre-Diabetes\",\"Low\",\"Normal\",\"Normal\",\"Pre-Diabetes\",\"Normal\",\"Pre-Diabetes\",\"Normal\",\"Pre-Diabetes\",\"Normal\",\"Diabetes\",\"Diabetes\",\"Pre-Diabetes\",\"Pre-Diabetes\",\"Diabetes\",\"Normal\",\"Diabetes\",\"Normal\",\"Normal\",\"Normal\",\"Pre-Diabetes\",\"Normal\",\"Low\",\"Low\",\"Pre-Diabetes\",\"Low\",\"Normal\",\"Low\",\"Normal\",\"Normal\",\"Diabetes\",\"Normal\",\"Pre-Diabetes\",\"Normal\",\"Normal\",\"Pre-Diabetes\",\"Pre-Diabetes\",\"Normal\",\"Normal\",\"Pre-Diabetes\",\"Normal\",\"Normal\",\"Pre-Diabetes\",\"Diabetes\",\"Diabetes\",\"Normal\",\"Diabetes\",\"Pre-Diabetes\",\"Normal\",\"Normal\",\"Diabetes\",\"Normal\",\"Normal\",\"Normal\",\"Normal\",\"Pre-Diabetes\",\"Normal\",\"Normal\",\"Pre-Diabetes\",\"Normal\",\"Diabetes\",\"Pre-Diabetes\",\"Normal\",\"Normal\",\"Pre-Diabetes\",\"Normal\",\"Normal\",\"Diabetes\",\"Diabetes\",\"Pre-Diabetes\",\"Normal\",\"Pre-Diabetes\",\"Low\",\"Normal\",\"Low\",\"Low\",\"Pre-Diabetes\",\"Low\",\"Diabetes\",\"Normal\",\"Diabetes\",\"Low\",\"Low\",\"Normal\",\"Normal\",\"Diabetes\",\"Pre-Diabetes\",\"Pre-Diabetes\",\"Normal\",\"Diabetes\",\"Low\",\"Normal\",\"Normal\",\"Pre-Diabetes\",\"Low\",\"Diabetes\",\"Normal\",\"Pre-Diabetes\",\"Diabetes\",\"Pre-Diabetes\",\"Diabetes\",\"Normal\",\"Normal\",\"Normal\",\"Diabetes\",\"Diabetes\",\"Diabetes\",\"Normal\",\"Low\",\"Normal\",\"Pre-Diabetes\",\"Diabetes\",\"Diabetes\",\"Pre-Diabetes\",\"Normal\",\"Pre-Diabetes\",\"Pre-Diabetes\",\"Diabetes\",\"Pre-Diabetes\",\"Diabetes\",\"Diabetes\",\"Pre-Diabetes\",\"Pre-Diabetes\",\"Normal\",\"Low\",\"Normal\",\"Pre-Diabetes\",\"Pre-Diabetes\",\"Pre-Diabetes\",\"Diabetes\",\"Normal\",\"Pre-Diabetes\",\"Normal\",\"Pre-Diabetes\",\"Normal\",\"Diabetes\",\"Normal\",\"Low\",\"Normal\",\"Normal\",\"Pre-Diabetes\",\"Normal\",\"Low\",\"Pre-Diabetes\",\"Diabetes\",\"Diabetes\",\"Normal\",\"Low\",\"Normal\",\"Normal\",\"Low\",\"Normal\",\"Normal\",\"Pre-Diabetes\",\"Normal\",\"Normal\",\"Pre-Diabetes\",\"Pre-Diabetes\",\"Diabetes\",\"Normal\",\"Normal\",\"Diabetes\",\"Pre-Diabetes\",\"Diabetes\",\"Normal\",\"Diabetes\",\"Diabetes\",\"Diabetes\",\"Normal\",\"Pre-Diabetes\",\"Normal\",\"Normal\",\"Diabetes\",\"Diabetes\",\"Normal\",\"Pre-Diabetes\",\"Normal\",\"Diabetes\",\"Normal\",\"Diabetes\",\"Pre-Diabetes\",\"Low\",\"Normal\",\"Normal\",\"Low\",\"Diabetes\",\"Normal\",\"Normal\",\"Normal\",\"Normal\",\"Diabetes\",\"Normal\",\"Pre-Diabetes\",\"Pre-Diabetes\",\"Low\",\"Normal\",\"Low\",\"Diabetes\",\"Pre-Diabetes\",\"Low\",\"Normal\",\"Low\",\"Low\",\"Pre-Diabetes\",\"Low\",\"Normal\",\"Low\",\"Diabetes\",\"Normal\",\"Normal\",\"Pre-Diabetes\",\"Normal\",\"Pre-Diabetes\",\"Normal\",\"Normal\",\"Low\",\"Normal\",\"Pre-Diabetes\",\"Normal\",\"Normal\",\"Diabetes\",\"Pre-Diabetes\",\"Pre-Diabetes\",\"Low\",\"Pre-Diabetes\",\"Normal\",\"Normal\",\"Normal\",\"Diabetes\",\"Normal\",\"Diabetes\",\"Normal\",\"Pre-Diabetes\",\"Normal\",\"Normal\",\"Diabetes\",\"Low\",\"Diabetes\",\"Pre-Diabetes\",\"Diabetes\",\"Normal\",\"Pre-Diabetes\",\"Normal\",\"Normal\",\"Low\",\"Low\",\"Diabetes\",\"Pre-Diabetes\",\"Pre-Diabetes\",\"Low\",\"Normal\",\"Low\",\"Normal\",\"Normal\",\"Normal\",\"Low\",\"Low\",\"Diabetes\",\"Diabetes\",\"Diabetes\",\"Diabetes\",\"Pre-Diabetes\",\"Pre-Diabetes\",\"Normal\",\"Low\",\"Normal\",\"Normal\",\"Low\",\"Pre-Diabetes\",\"Pre-Diabetes\",\"Pre-Diabetes\",\"Pre-Diabetes\",\"Normal\",\"Low\",\"Normal\",\"Pre-Diabetes\",\"Normal\",\"Normal\",\"Pre-Diabetes\",\"Normal\",\"Pre-Diabetes\",\"Low\",\"Diabetes\",\"Pre-Diabetes\",\"Low\",\"Normal\",\"Diabetes\",\"Diabetes\",\"Normal\",\"Low\",\"Diabetes\",\"Diabetes\",\"Normal\",\"Pre-Diabetes\",\"Low\",\"Pre-Diabetes\",\"Pre-Diabetes\",\"Normal\",\"Low\",\"Diabetes\",\"Normal\",\"Normal\",\"Normal\",\"Normal\",\"Normal\",\"Normal\",\"Normal\",\"Diabetes\",\"Normal\",\"Normal\",\"Normal\",\"Normal\",\"Diabetes\",\"Diabetes\",\"Normal\",\"Pre-Diabetes\",\"Normal\",\"Pre-Diabetes\",\"Normal\",\"Normal\",\"Normal\",\"Pre-Diabetes\",\"Low\",\"Diabetes\",\"Normal\",\"Normal\",\"Low\",\"Normal\",\"Pre-Diabetes\",\"Pre-Diabetes\",\"Diabetes\",\"Pre-Diabetes\",\"Low\",\"Normal\",\"Low\",\"Low\",\"Diabetes\",\"Pre-Diabetes\",\"Normal\",\"Pre-Diabetes\",\"Low\",\"Normal\",\"Low\",\"Diabetes\",\"Normal\",\"Normal\",\"Pre-Diabetes\",\"Normal\",\"Pre-Diabetes\",\"Normal\",\"Diabetes\",\"Normal\",\"Normal\",\"Normal\",\"Normal\",\"Diabetes\",\"Pre-Diabetes\",\"Normal\",\"Low\",\"Low\",\"Pre-Diabetes\",\"Low\",\"Pre-Diabetes\",\"Low\",\"Diabetes\",\"Normal\",\"Normal\",\"Diabetes\",\"Normal\",\"Diabetes\",\"Low\",\"Normal\",\"Diabetes\",\"Low\",\"Normal\",\"Normal\",\"Pre-Diabetes\",\"Normal\",\"Normal\",\"Normal\",\"Low\",\"Normal\",\"Normal\",\"Normal\",\"Pre-Diabetes\",\"Normal\",\"Normal\",\"Normal\",\"Diabetes\",\"Normal\",\"Normal\",\"Diabetes\",\"Normal\",\"Normal\",\"Normal\",\"Pre-Diabetes\",\"Normal\",\"Normal\",\"Normal\",\"Normal\",\"Low\",\"Diabetes\",\"Normal\",\"Low\",\"Pre-Diabetes\",\"Low\",\"Normal\",\"Normal\",\"Normal\",\"Normal\",\"Diabetes\",\"Normal\",\"Diabetes\",\"Normal\",\"Diabetes\",\"Low\",\"Normal\",\"Normal\",\"Normal\",\"Diabetes\",\"Pre-Diabetes\",\"Normal\",\"Normal\",\"Diabetes\",\"Normal\",\"Normal\",\"Normal\",\"Diabetes\",\"Normal\",\"Diabetes\",\"Diabetes\",\"Pre-Diabetes\",\"Normal\",\"Normal\",\"Normal\",\"Normal\",\"Pre-Diabetes\",\"Low\",\"Normal\",\"Diabetes\",\"Low\",\"Pre-Diabetes\",\"Normal\",\"Low\",\"Normal\",\"Low\",\"Normal\",\"Low\",\"Diabetes\",\"Low\",\"Normal\",\"Normal\",\"Diabetes\",\"Diabetes\",\"Normal\",\"Diabetes\",\"Normal\",\"Normal\",\"Pre-Diabetes\",\"Diabetes\",\"Pre-Diabetes\",\"Low\",\"Low\",\"Normal\",\"Normal\",\"Normal\",\"Normal\",\"Normal\",\"Normal\",\"Diabetes\",\"Low\",\"Normal\",\"Diabetes\",\"Diabetes\",\"Pre-Diabetes\",\"Diabetes\",\"Pre-Diabetes\",\"Diabetes\",\"Diabetes\",\"Normal\",\"Pre-Diabetes\",\"Low\",\"Normal\",\"Normal\",\"Pre-Diabetes\",\"Diabetes\",\"Normal\",\"Normal\",\"Pre-Diabetes\",\"Pre-Diabetes\",\"Normal\",\"Low\",\"Normal\",\"Pre-Diabetes\",\"Diabetes\",\"Normal\",\"Pre-Diabetes\",\"Normal\",\"Pre-Diabetes\",\"Low\",\"Normal\",\"Normal\",\"Pre-Diabetes\",\"Normal\",\"Normal\",\"Diabetes\",\"Normal\",\"Normal\",\"Diabetes\",\"Normal\",\"Pre-Diabetes\",\"Normal\",\"Diabetes\",\"Diabetes\",\"Low\",\"Pre-Diabetes\",\"Diabetes\",\"Pre-Diabetes\",\"Low\",\"Low\",\"Diabetes\",\"Diabetes\",\"Normal\",\"Normal\",\"Diabetes\",\"Diabetes\",\"Normal\",\"Normal\",\"Normal\",\"Diabetes\",\"Diabetes\",\"Normal\",\"Pre-Diabetes\",\"Normal\",\"Low\",\"Diabetes\",\"Normal\",\"Diabetes\",\"Normal\",\"Diabetes\",\"Normal\",\"Diabetes\",\"Low\",\"Low\",\"Normal\",\"Normal\",\"Normal\",\"Normal\",\"Pre-Diabetes\",\"Low\",\"Pre-Diabetes\",\"Pre-Diabetes\",\"Normal\",\"Normal\",\"Low\",\"Low\",\"Normal\",\"Normal\",\"Normal\",\"Pre-Diabetes\",\"Pre-Diabetes\",\"Low\",\"Normal\",\"Diabetes\",\"Pre-Diabetes\",\"Normal\",\"Normal\",\"Normal\",\"Normal\",\"Pre-Diabetes\",\"Normal\",\"Low\",\"Normal\",\"Normal\",\"Normal\",\"Low\",\"Low\",\"Normal\",\"Low\",\"Low\",\"Diabetes\",\"Low\",\"Low\",\"Pre-Diabetes\",\"Diabetes\",\"Normal\",\"Pre-Diabetes\",\"Diabetes\",\"Normal\",\"Pre-Diabetes\",\"Normal\",\"Normal\",\"Low\",\"Normal\",\"Diabetes\",\"Pre-Diabetes\",\"Normal\",\"Pre-Diabetes\",\"Normal\",\"Normal\",\"Normal\",\"Normal\",\"Low\",\"Diabetes\",\"Pre-Diabetes\",\"Low\",\"Low\",\"Pre-Diabetes\",\"Normal\",\"Normal\",\"Pre-Diabetes\",\"Pre-Diabetes\",\"Pre-Diabetes\",\"Diabetes\",\"Normal\",\"Normal\",\"Normal\",\"Normal\",\"Low\",\"Pre-Diabetes\",\"Normal\",\"Diabetes\",\"Pre-Diabetes\",\"Normal\",\"Pre-Diabetes\",\"Pre-Diabetes\",\"Normal\",\"Diabetes\",\"Low\",\"Diabetes\",\"Normal\",\"Diabetes\",\"Low\",\"Normal\",\"Normal\",\"Normal\",\"Diabetes\",\"Normal\",\"Normal\",\"Normal\",\"Low\",\"Normal\",\"Normal\",\"Normal\",\"Normal\",\"Low\",\"Diabetes\",\"Pre-Diabetes\",\"Normal\",\"Normal\",\"Diabetes\",\"Normal\",\"Low\",\"Pre-Diabetes\",\"Normal\",\"Pre-Diabetes\",\"Pre-Diabetes\",\"Diabetes\",\"Normal\",\"Pre-Diabetes\",\"Normal\",\"Normal\",\"Normal\",\"Pre-Diabetes\",\"Pre-Diabetes\",\"Low\",\"Normal\",\"Normal\",\"Diabetes\",\"Pre-Diabetes\",\"Low\",\"Normal\",\"Normal\",\"Normal\",\"Pre-Diabetes\",\"Pre-Diabetes\",\"Diabetes\",\"Normal\",\"Pre-Diabetes\",\"Normal\",\"Normal\",\"Normal\",\"Normal\",\"Normal\",\"Pre-Diabetes\",\"Pre-Diabetes\",\"Pre-Diabetes\",\"Normal\",\"Pre-Diabetes\",\"Normal\",\"Normal\",\"Diabetes\",\"Normal\",\"Normal\",\"Pre-Diabetes\",\"Normal\",\"Normal\",\"Normal\",\"Normal\",\"Diabetes\",\"Pre-Diabetes\",\"Diabetes\",\"Normal\",\"Pre-Diabetes\",\"Low\",\"Low\",\"Normal\",\"Normal\",\"Normal\",\"Low\",\"Normal\",\"Diabetes\",\"Pre-Diabetes\",\"Diabetes\",\"Pre-Diabetes\",\"Pre-Diabetes\",\"Pre-Diabetes\",\"Normal\",\"Normal\",\"Normal\",\"Pre-Diabetes\",\"Diabetes\",\"Normal\",\"Pre-Diabetes\",\"Normal\",\"Normal\",\"Pre-Diabetes\",\"Normal\",\"Diabetes\",\"Pre-Diabetes\",\"Normal\",\"Normal\",\"Normal\",\"Normal\",\"Diabetes\",\"Normal\",\"Low\",\"Normal\",\"Normal\",\"Diabetes\",\"Normal\",\"Normal\",\"Pre-Diabetes\",\"Normal\",\"Normal\",\"Normal\",\"Normal\",\"Pre-Diabetes\",\"Pre-Diabetes\",\"Normal\",\"Pre-Diabetes\",\"Low\",\"Normal\",\"Normal\",\"Normal\",\"Diabetes\",\"Diabetes\",\"Low\",\"Diabetes\",\"Pre-Diabetes\",\"Low\",\"Diabetes\",\"Normal\",\"Normal\",\"Diabetes\",\"Normal\",\"Normal\",\"Diabetes\",\"Normal\",\"Normal\",\"Normal\",\"Normal\",\"Low\",\"Low\",\"Normal\",\"Pre-Diabetes\",\"Normal\",\"Pre-Diabetes\",\"Pre-Diabetes\",\"Normal\",\"Normal\",\"Diabetes\",\"Normal\",\"Normal\",\"Low\",\"Pre-Diabetes\",\"Low\",\"Normal\",\"Low\",\"Low\",\"Diabetes\",\"Low\",\"Low\",\"Diabetes\",\"Pre-Diabetes\",\"Low\",\"Diabetes\",\"Normal\",\"Diabetes\",\"Normal\",\"Diabetes\",\"Diabetes\",\"Normal\",\"Pre-Diabetes\",\"Normal\",\"Normal\",\"Low\",\"Diabetes\",\"Diabetes\",\"Normal\",\"Normal\",\"Normal\",\"Diabetes\",\"Normal\",\"Diabetes\",\"Normal\",\"Normal\",\"Diabetes\",\"Normal\",\"Low\",\"Pre-Diabetes\",\"Normal\",\"Normal\",\"Normal\",\"Pre-Diabetes\",\"Normal\",\"Diabetes\",\"Diabetes\",\"Normal\",\"Normal\",\"Normal\",\"Normal\",\"Diabetes\",\"Diabetes\",\"Normal\",\"Diabetes\",\"Pre-Diabetes\",\"Normal\",\"Pre-Diabetes\",\"Normal\",\"Diabetes\",\"Normal\",\"Low\",\"Normal\",\"Normal\",\"Diabetes\",\"Normal\",\"Normal\",\"Normal\",\"Normal\",\"Normal\",\"Diabetes\",\"Pre-Diabetes\",\"Low\",\"Pre-Diabetes\",\"Diabetes\",\"Normal\",\"Normal\",\"Pre-Diabetes\",\"Normal\",\"Diabetes\",\"Pre-Diabetes\",\"Normal\",\"Diabetes\",\"Diabetes\",\"Pre-Diabetes\",\"Diabetes\",\"Normal\",\"Pre-Diabetes\",\"Normal\",\"Normal\",\"Normal\",\"Diabetes\",\"Normal\",\"Pre-Diabetes\",\"Low\",\"Low\",\"Normal\",\"Normal\",\"Normal\",\"Normal\",\"Diabetes\",\"Pre-Diabetes\",\"Diabetes\",\"Low\",\"Pre-Diabetes\",\"Normal\",\"Diabetes\",\"Low\",\"Diabetes\",\"Normal\",\"Diabetes\",\"Normal\",\"Low\",\"Pre-Diabetes\",\"Normal\",\"Low\",\"Normal\",\"Pre-Diabetes\",\"Normal\",\"Pre-Diabetes\",\"Low\",\"Low\",\"Diabetes\",\"Diabetes\",\"Diabetes\",\"Diabetes\",\"Pre-Diabetes\",\"Normal\",\"Normal\",\"Diabetes\",\"Normal\",\"Pre-Diabetes\",\"Diabetes\",\"Diabetes\",\"Normal\",\"Diabetes\",\"Normal\",\"Normal\",\"Pre-Diabetes\",\"Normal\",\"Normal\",\"Diabetes\",\"Diabetes\",\"Diabetes\",\"Diabetes\",\"Diabetes\",\"Normal\",\"Normal\",\"Diabetes\",\"Pre-Diabetes\",\"Normal\",\"Normal\",\"Normal\",\"Normal\",\"Diabetes\",\"Normal\",\"Diabetes\",\"Normal\",\"Diabetes\",\"Normal\",\"Normal\",\"Pre-Diabetes\",\"Low\",\"Pre-Diabetes\",\"Low\",\"Normal\",\"Normal\",\"Normal\",\"Normal\",\"Diabetes\",\"Normal\",\"Pre-Diabetes\",\"Pre-Diabetes\",\"Pre-Diabetes\",\"Normal\",\"Low\",\"Low\",\"Normal\",\"Low\",\"Normal\",\"Diabetes\",\"Normal\",\"Normal\",\"Diabetes\",\"Normal\",\"Normal\",\"Pre-Diabetes\",\"Diabetes\",\"Low\",\"Diabetes\",\"Normal\",\"Low\",\"Normal\",\"Normal\",\"Pre-Diabetes\",\"Normal\",\"Normal\",\"Diabetes\",\"Low\",\"Normal\",\"Pre-Diabetes\",\"Normal\",\"Normal\",\"Low\",\"Pre-Diabetes\",\"Normal\",\"Normal\",\"Pre-Diabetes\",\"Diabetes\",\"Pre-Diabetes\",\"Normal\",\"Pre-Diabetes\",\"Pre-Diabetes\",\"Normal\",\"Diabetes\",\"Normal\",\"Diabetes\",\"Normal\",\"Normal\",\"Normal\",\"Pre-Diabetes\",\"Normal\",\"Low\",\"Diabetes\",\"Normal\",\"Diabetes\",\"Normal\",\"Normal\",\"Normal\",\"Pre-Diabetes\",\"Normal\",\"Low\",\"Low\",\"Normal\",\"Diabetes\",\"Normal\",\"Pre-Diabetes\",\"Normal\",\"Low\",\"Low\",\"Pre-Diabetes\",\"Normal\",\"Normal\",\"Low\",\"Diabetes\",\"Normal\",\"Diabetes\",\"Diabetes\",\"Pre-Diabetes\",\"Normal\",\"Pre-Diabetes\",\"Normal\",\"Normal\",\"Normal\",\"Low\",\"Normal\",\"Low\",\"Pre-Diabetes\",\"Normal\",\"Pre-Diabetes\",\"Low\",\"Diabetes\",\"Normal\",\"Pre-Diabetes\",\"Pre-Diabetes\",\"Diabetes\",\"Low\",\"Normal\",\"Normal\",\"Diabetes\",\"Low\",\"Low\",\"Pre-Diabetes\",\"Pre-Diabetes\",\"Pre-Diabetes\",\"Diabetes\",\"Pre-Diabetes\",\"Normal\",\"Normal\",\"Normal\",\"Diabetes\",\"Diabetes\",\"Normal\",\"Normal\",\"Normal\",\"Pre-Diabetes\",\"Normal\",\"Normal\",\"Pre-Diabetes\",\"Pre-Diabetes\",\"Diabetes\",\"Normal\",\"Normal\",\"Normal\",\"Pre-Diabetes\",\"Normal\",\"Normal\",\"Low\",\"Normal\",\"Normal\",\"Normal\",\"Diabetes\",\"Normal\",\"Diabetes\",\"Diabetes\",\"Normal\",\"Diabetes\",\"Normal\",\"Normal\",\"Diabetes\",\"Diabetes\",\"Pre-Diabetes\",\"Normal\",\"Diabetes\",\"Low\",\"Low\",\"Normal\",\"Low\",\"Normal\",\"Normal\",\"Diabetes\",\"Normal\",\"Low\",\"Diabetes\",\"Normal\",\"Normal\",\"Low\",\"Pre-Diabetes\",\"Pre-Diabetes\",\"Diabetes\",\"Normal\",\"Pre-Diabetes\",\"Normal\",\"Normal\",\"Pre-Diabetes\",\"Normal\",\"Normal\",\"Diabetes\",\"Diabetes\",\"Normal\",\"Normal\",\"Normal\",\"Normal\",\"Normal\",\"Diabetes\",\"Diabetes\",\"Normal\",\"Normal\",\"Low\",\"Pre-Diabetes\",\"Low\",\"Low\",\"Pre-Diabetes\",\"Low\",\"Normal\",\"Diabetes\",\"Normal\",\"Low\",\"Diabetes\",\"Low\",\"Normal\",\"Normal\",\"Pre-Diabetes\",\"Diabetes\",\"Normal\",\"Normal\",\"Diabetes\",\"Pre-Diabetes\",\"Diabetes\",\"Normal\",\"Normal\",\"Diabetes\",\"Low\",\"Normal\",\"Diabetes\",\"Diabetes\",\"Normal\",\"Low\",\"Diabetes\",\"Normal\",\"Pre-Diabetes\",\"Diabetes\",\"Low\",\"Diabetes\",\"Normal\",\"Normal\",\"Normal\",\"Normal\",\"Normal\",\"Normal\",\"Low\",\"Diabetes\",\"Normal\",\"Pre-Diabetes\",\"Normal\",\"Diabetes\",\"Normal\",\"Normal\",\"Low\",\"Diabetes\",\"Pre-Diabetes\",\"Normal\",\"Normal\",\"Normal\",\"Diabetes\",\"Low\",\"Pre-Diabetes\",\"Low\",\"Diabetes\",\"Normal\",\"Low\",\"Normal\",\"Normal\",\"Pre-Diabetes\",\"Normal\",\"Normal\",\"Diabetes\",\"Normal\",\"Low\",\"Normal\",\"Diabetes\",\"Pre-Diabetes\",\"Normal\",\"Low\",\"Normal\",\"Normal\",\"Normal\",\"Pre-Diabetes\",\"Pre-Diabetes\",\"Diabetes\",\"Diabetes\",\"Pre-Diabetes\",\"Normal\",\"Normal\",\"Diabetes\",\"Pre-Diabetes\",\"Low\",\"Pre-Diabetes\",\"Normal\",\"Normal\",\"Pre-Diabetes\",\"Pre-Diabetes\",\"Normal\",\"Normal\",\"Normal\",\"Normal\",\"Normal\",\"Normal\",\"Normal\",\"Diabetes\",\"Diabetes\",\"Diabetes\",\"Normal\",\"Pre-Diabetes\",\"Normal\",\"Normal\",\"Normal\",\"Normal\",\"Pre-Diabetes\",\"Normal\",\"Diabetes\",\"Pre-Diabetes\",\"Normal\",\"Diabetes\",\"Normal\",\"Pre-Diabetes\",\"Low\",\"Low\",\"Normal\",\"Normal\",\"Pre-Diabetes\",\"Normal\",\"Normal\",\"Pre-Diabetes\",\"Normal\",\"Diabetes\",\"Normal\",\"Normal\",\"Normal\",\"Normal\",\"Diabetes\",\"Pre-Diabetes\",\"Normal\",\"Normal\",\"Diabetes\",\"Normal\",\"Normal\",\"Pre-Diabetes\",\"Diabetes\",\"Low\",\"Normal\",\"Normal\",\"Diabetes\",\"Low\",\"Normal\",\"Pre-Diabetes\",\"Normal\",\"Low\",\"Pre-Diabetes\",\"Normal\",\"Diabetes\",\"Low\",\"Normal\",\"Pre-Diabetes\",\"Normal\",\"Low\",\"Normal\",\"Normal\",\"Diabetes\",\"Pre-Diabetes\",\"Pre-Diabetes\",\"Pre-Diabetes\",\"Diabetes\",\"Normal\",\"Normal\",\"Normal\",\"Pre-Diabetes\",\"Normal\",\"Normal\",\"Diabetes\",\"Diabetes\",\"Normal\",\"Normal\",\"Normal\",\"Pre-Diabetes\",\"Low\",\"Diabetes\",\"Diabetes\",\"Normal\",\"Normal\",\"Diabetes\",\"Diabetes\",\"Normal\",\"Diabetes\",\"Normal\",\"Low\",\"Diabetes\",\"Diabetes\",\"Pre-Diabetes\",\"Normal\",\"Pre-Diabetes\",\"Diabetes\",\"Pre-Diabetes\",\"Normal\",\"Diabetes\",\"Pre-Diabetes\",\"Low\",\"Pre-Diabetes\",\"Diabetes\",\"Pre-Diabetes\",\"Diabetes\",\"Low\",\"Normal\",\"Normal\",\"Pre-Diabetes\",\"Normal\",\"Pre-Diabetes\",\"Pre-Diabetes\",\"Diabetes\",\"Normal\",\"Normal\",\"Diabetes\",\"Normal\",\"Pre-Diabetes\",\"Pre-Diabetes\",\"Normal\",\"Normal\",\"Normal\",\"Normal\",\"Normal\",\"Normal\",\"Normal\",\"Normal\",\"Normal\",\"Normal\",\"Pre-Diabetes\",\"Diabetes\",\"Low\",\"Normal\",\"Pre-Diabetes\",\"Diabetes\",\"Pre-Diabetes\",\"Normal\",\"Low\",\"Diabetes\",\"Diabetes\",\"Normal\",\"Pre-Diabetes\",\"Diabetes\",\"Pre-Diabetes\",\"Pre-Diabetes\",\"Normal\",\"Pre-Diabetes\",\"Normal\",\"Diabetes\",\"Normal\",\"Normal\",\"Normal\",\"Pre-Diabetes\",\"Normal\",\"Pre-Diabetes\",\"Normal\",\"Diabetes\",\"Diabetes\",\"Pre-Diabetes\",\"Pre-Diabetes\",\"Normal\",\"Normal\",\"Diabetes\",\"Normal\",\"Pre-Diabetes\",\"Normal\",\"Normal\",\"Pre-Diabetes\",\"Low\",\"Normal\",\"Normal\",\"Pre-Diabetes\",\"Normal\",\"Diabetes\",\"Low\",\"Normal\",\"Pre-Diabetes\",\"Low\",\"Normal\",\"Normal\",\"Low\",\"Pre-Diabetes\",\"Pre-Diabetes\",\"Pre-Diabetes\",\"Normal\",\"Diabetes\",\"Normal\",\"Normal\",\"Normal\",\"Diabetes\",\"Pre-Diabetes\",\"Diabetes\",\"Normal\",\"Pre-Diabetes\",\"Diabetes\",\"Low\",\"Low\",\"Normal\",\"Low\",\"Pre-Diabetes\",\"Low\",\"Normal\",\"Normal\",\"Normal\",\"Pre-Diabetes\",\"Pre-Diabetes\",\"Normal\",\"Low\",\"Pre-Diabetes\",\"Normal\",\"Normal\",\"Normal\",\"Pre-Diabetes\",\"Normal\",\"Normal\",\"Pre-Diabetes\",\"Normal\",\"Normal\",\"Normal\",\"Normal\",\"Low\",\"Low\",\"Low\",\"Normal\",\"Normal\",\"Pre-Diabetes\",\"Normal\",\"Normal\",\"Pre-Diabetes\",\"Normal\",\"Low\",\"Normal\",\"Diabetes\",\"Normal\",\"Diabetes\",\"Diabetes\",\"Pre-Diabetes\",\"Normal\",\"Normal\",\"Low\",\"Low\",\"Normal\",\"Normal\",\"Pre-Diabetes\",\"Pre-Diabetes\",\"Normal\",\"Normal\",\"Normal\",\"Diabetes\",\"Low\",\"Normal\",\"Diabetes\",\"Normal\",\"Diabetes\",\"Diabetes\",\"Normal\",\"Normal\",\"Normal\",\"Diabetes\",\"Normal\",\"Diabetes\",\"Low\",\"Pre-Diabetes\",\"Pre-Diabetes\",\"Low\",\"Low\",\"Low\",\"Pre-Diabetes\",\"Normal\",\"Normal\",\"Low\",\"Diabetes\",\"Diabetes\",\"Normal\",\"Normal\",\"Normal\",\"Normal\",\"Normal\",\"Normal\",\"Normal\",\"Low\",\"Normal\",\"Normal\",\"Normal\",\"Normal\",\"Diabetes\",\"Normal\",\"Normal\",\"Pre-Diabetes\",\"Low\",\"Normal\",\"Pre-Diabetes\",\"Normal\",\"Normal\",\"Low\",\"Diabetes\",\"Pre-Diabetes\",\"Normal\",\"Diabetes\",\"Normal\",\"Diabetes\",\"Pre-Diabetes\",\"Normal\",\"Low\",\"Low\",\"Normal\",\"Pre-Diabetes\",\"Pre-Diabetes\",\"Pre-Diabetes\",\"Normal\",\"Normal\",\"Pre-Diabetes\",\"Low\",\"Normal\",\"Normal\",\"Pre-Diabetes\",\"Pre-Diabetes\",\"Normal\",\"Pre-Diabetes\",\"Pre-Diabetes\",\"Normal\",\"Normal\",\"Normal\",\"Diabetes\",\"Low\",\"Normal\",\"Pre-Diabetes\",\"Low\",\"Normal\",\"Low\",\"Normal\",\"Low\",\"Pre-Diabetes\",\"Diabetes\",\"Pre-Diabetes\",\"Pre-Diabetes\",\"Diabetes\",\"Low\",\"Pre-Diabetes\",\"Diabetes\",\"Low\",\"Pre-Diabetes\",\"Low\",\"Normal\",\"Low\",\"Low\",\"Normal\",\"Pre-Diabetes\",\"Normal\",\"Pre-Diabetes\",\"Normal\",\"Normal\",\"Diabetes\",\"Normal\",\"Pre-Diabetes\",\"Normal\",\"Normal\",\"Normal\",\"Normal\",\"Normal\",\"Pre-Diabetes\",\"Low\",\"Diabetes\",\"Normal\",\"Diabetes\",\"Diabetes\",\"Low\",\"Diabetes\",\"Normal\",\"Pre-Diabetes\",\"Normal\",\"Diabetes\",\"Normal\",\"Normal\",\"Normal\",\"Pre-Diabetes\",\"Normal\",\"Pre-Diabetes\",\"Normal\",\"Normal\",\"Pre-Diabetes\",\"Normal\",\"Normal\",\"Pre-Diabetes\",\"Pre-Diabetes\",\"Pre-Diabetes\",\"Diabetes\",\"Normal\",\"Low\",\"Pre-Diabetes\",\"Normal\",\"Normal\",\"Normal\",\"Low\",\"Diabetes\",\"Low\",\"Normal\",\"Diabetes\",\"Normal\",\"Low\",\"Normal\",\"Normal\",\"Diabetes\",\"Normal\",\"Pre-Diabetes\",\"Normal\",\"Normal\",\"Low\",\"Normal\",\"Normal\",\"Diabetes\",\"Pre-Diabetes\",\"Low\",\"Diabetes\",\"Normal\",\"Normal\",\"Normal\",\"Low\",\"Diabetes\",\"Diabetes\",\"Low\",\"Normal\",\"Diabetes\",\"Normal\",\"Diabetes\",\"Pre-Diabetes\",\"Pre-Diabetes\",\"Normal\",\"Normal\",\"Normal\",\"Normal\",\"Normal\",\"Low\",\"Normal\",\"Low\",\"Pre-Diabetes\",\"Low\",\"Normal\",\"Normal\",\"Low\",\"Normal\",\"Pre-Diabetes\",\"Normal\",\"Pre-Diabetes\",\"Normal\",\"Pre-Diabetes\",\"Diabetes\",\"Low\",\"Pre-Diabetes\",\"Normal\",\"Normal\",\"Pre-Diabetes\",\"Low\",\"Normal\",\"Pre-Diabetes\",\"Diabetes\",\"Normal\",\"Pre-Diabetes\",\"Pre-Diabetes\",\"Diabetes\",\"Low\",\"Normal\",\"Normal\",\"Low\",\"Normal\",\"Diabetes\",\"Low\",\"Diabetes\",\"Normal\",\"Diabetes\",\"Diabetes\",\"Normal\",\"Diabetes\",\"Normal\",\"Diabetes\",\"Normal\",\"Pre-Diabetes\",\"Normal\",\"Pre-Diabetes\",\"Diabetes\",\"Normal\",\"Normal\",\"Normal\",\"Low\",\"Normal\",\"Normal\",\"Pre-Diabetes\",\"Low\",\"Pre-Diabetes\",\"Pre-Diabetes\",\"Normal\",\"Normal\",\"Pre-Diabetes\",\"Diabetes\",\"Pre-Diabetes\",\"Pre-Diabetes\",\"Pre-Diabetes\",\"Normal\",\"Normal\",\"Normal\",\"Normal\",\"Normal\",\"Low\",\"Normal\",\"Normal\",\"Pre-Diabetes\",\"Pre-Diabetes\",\"Low\",\"Normal\",\"Normal\",\"Pre-Diabetes\",\"Normal\",\"Normal\",\"Diabetes\",\"Pre-Diabetes\",\"Normal\",\"Diabetes\",\"Normal\",\"Normal\",\"Pre-Diabetes\",\"Low\",\"Diabetes\",\"Normal\",\"Normal\",\"Diabetes\",\"Normal\",\"Normal\",\"Low\",\"Low\",\"Low\",\"Normal\",\"Pre-Diabetes\",\"Low\",\"Low\",\"Normal\",\"Diabetes\",\"Normal\",\"Low\",\"Normal\",\"Pre-Diabetes\",\"Normal\",\"Diabetes\",\"Normal\",\"Normal\",\"Diabetes\",\"Normal\",\"Low\",\"Pre-Diabetes\",\"Normal\",\"Normal\",\"Low\",\"Diabetes\",\"Pre-Diabetes\",\"Diabetes\",\"Pre-Diabetes\",\"Diabetes\",\"Pre-Diabetes\",\"Diabetes\",\"Normal\",\"Normal\",\"Pre-Diabetes\",\"Low\",\"Diabetes\",\"Normal\",\"Pre-Diabetes\",\"Normal\",\"Diabetes\",\"Normal\",\"Normal\",\"Normal\",\"Low\",\"Normal\",\"Normal\",\"Normal\",\"Normal\",\"Normal\",\"Normal\",\"Normal\",\"Low\",\"Low\",\"Low\",\"Normal\",\"Low\",\"Normal\",\"Pre-Diabetes\",\"Pre-Diabetes\",\"Normal\",\"Normal\",\"Normal\",\"Normal\",\"Normal\",\"Diabetes\",\"Normal\",\"Pre-Diabetes\",\"Pre-Diabetes\",\"Pre-Diabetes\",\"Low\",\"Low\",\"Normal\",\"Pre-Diabetes\",\"Normal\",\"Diabetes\",\"Diabetes\",\"Diabetes\",\"Normal\",\"Diabetes\",\"Normal\",\"Normal\",\"Low\",\"Normal\",\"Normal\",\"Normal\",\"Normal\",\"Low\",\"Low\",\"Normal\",\"Normal\",\"Low\",\"Normal\",\"Normal\",\"Diabetes\",\"Pre-Diabetes\",\"Normal\",\"Pre-Diabetes\",\"Low\",\"Normal\",\"Diabetes\",\"Normal\",\"Normal\",\"Diabetes\",\"Pre-Diabetes\",\"Diabetes\",\"Normal\",\"Normal\",\"Normal\",\"Normal\",\"Pre-Diabetes\",\"Normal\",\"Normal\",\"Diabetes\",\"Pre-Diabetes\",\"Pre-Diabetes\",\"Normal\",\"Diabetes\",\"Low\",\"Normal\",\"Normal\",\"Normal\",\"Diabetes\",\"Normal\",\"Low\",\"Pre-Diabetes\",\"Normal\",\"Normal\",\"Low\",\"Normal\",\"Diabetes\",\"Diabetes\",\"Normal\",\"Normal\",\"Pre-Diabetes\",\"Normal\",\"Normal\",\"Normal\",\"Normal\",\"Pre-Diabetes\",\"Normal\",\"Normal\",\"Normal\",\"Normal\",\"Normal\",\"Normal\",\"Normal\",\"Pre-Diabetes\",\"Diabetes\",\"Low\",\"Normal\",\"Pre-Diabetes\",\"Normal\",\"Low\",\"Diabetes\",\"Normal\",\"Normal\",\"Normal\",\"Diabetes\",\"Normal\",\"Normal\",\"Normal\",\"Normal\",\"Low\",\"Normal\",\"Normal\",\"Normal\",\"Low\",\"Normal\",\"Diabetes\",\"Pre-Diabetes\",\"Pre-Diabetes\",\"Normal\",\"Diabetes\",\"Normal\",\"Low\",\"Diabetes\",\"Pre-Diabetes\",\"Pre-Diabetes\",\"Diabetes\",\"Normal\",\"Normal\",\"Normal\",\"Low\",\"Normal\",\"Diabetes\",\"Normal\",\"Low\",\"Low\",\"Pre-Diabetes\",\"Pre-Diabetes\",\"Normal\",\"Low\",\"Normal\",\"Pre-Diabetes\",\"Normal\",\"Diabetes\",\"Diabetes\",\"Diabetes\",\"Low\",\"Normal\",\"Normal\",\"Normal\",\"Normal\",\"Pre-Diabetes\",\"Normal\",\"Diabetes\",\"Low\",\"Normal\",\"Normal\",\"Pre-Diabetes\",\"Pre-Diabetes\",\"Normal\",\"Normal\",\"Normal\",\"Normal\",\"Normal\",\"Normal\",\"Normal\",\"Normal\",\"Diabetes\",\"Diabetes\",\"Low\",\"Normal\",\"Pre-Diabetes\",\"Normal\",\"Diabetes\",\"Normal\",\"Normal\",\"Diabetes\",\"Normal\",\"Diabetes\",\"Low\",\"Pre-Diabetes\",\"Low\",\"Normal\",\"Pre-Diabetes\",\"Normal\",\"Low\",\"Diabetes\",\"Low\",\"Normal\",\"Normal\",\"Normal\",\"Normal\",\"Normal\",\"Normal\",\"Low\",\"Normal\",\"Low\",\"Normal\",\"Pre-Diabetes\",\"Normal\",\"Diabetes\",\"Diabetes\",\"Diabetes\",\"Normal\",\"Diabetes\",\"Normal\",\"Low\",\"Diabetes\",\"Normal\",\"Pre-Diabetes\",\"Low\",\"Normal\",\"Normal\",\"Diabetes\",\"Normal\",\"Normal\",\"Normal\",\"Diabetes\",\"Normal\",\"Diabetes\",\"Normal\",\"Pre-Diabetes\",\"Normal\",\"Normal\",\"Normal\",\"Normal\",\"Normal\",\"Low\",\"Pre-Diabetes\",\"Normal\",\"Normal\",\"Normal\",\"Diabetes\",\"Normal\",\"Normal\",\"Low\",\"Pre-Diabetes\",\"Normal\",\"Pre-Diabetes\",\"Normal\",\"Diabetes\",\"Pre-Diabetes\",\"Normal\",\"Pre-Diabetes\",\"Diabetes\",\"Pre-Diabetes\",\"Normal\",\"Normal\",\"Normal\",\"Pre-Diabetes\",\"Normal\",\"Diabetes\",\"Normal\",\"Diabetes\",\"Pre-Diabetes\",\"Normal\",\"Pre-Diabetes\",\"Pre-Diabetes\",\"Diabetes\",\"Normal\",\"Normal\",\"Pre-Diabetes\",\"Low\",\"Normal\",\"Diabetes\",\"Diabetes\",\"Normal\",\"Normal\",\"Pre-Diabetes\",\"Normal\",\"Low\",\"Pre-Diabetes\",\"Normal\",\"Normal\",\"Normal\",\"Pre-Diabetes\",\"Normal\",\"Normal\",\"Low\",\"Pre-Diabetes\",\"Low\",\"Diabetes\",\"Pre-Diabetes\",\"Normal\",\"Normal\",\"Pre-Diabetes\",\"Normal\",\"Diabetes\",\"Diabetes\",\"Normal\",\"Low\",\"Diabetes\",\"Normal\",\"Normal\",\"Pre-Diabetes\",\"Pre-Diabetes\",\"Low\",\"Normal\",\"Low\",\"Normal\",\"Low\",\"Diabetes\",\"Normal\",\"Normal\",\"Diabetes\",\"Normal\",\"Diabetes\",\"Normal\",\"Normal\",\"Low\",\"Pre-Diabetes\",\"Normal\",\"Low\",\"Normal\",\"Pre-Diabetes\",\"Diabetes\",\"Normal\",\"Normal\",\"Low\",\"Normal\",\"Pre-Diabetes\",\"Normal\",\"Low\",\"Pre-Diabetes\",\"Normal\",\"Normal\",\"Diabetes\",\"Diabetes\",\"Low\",\"Normal\",\"Pre-Diabetes\",\"Diabetes\",\"Pre-Diabetes\",\"Diabetes\",\"Pre-Diabetes\",\"Normal\",\"Diabetes\",\"Diabetes\",\"Low\",\"Pre-Diabetes\",\"Normal\",\"Pre-Diabetes\",\"Normal\",\"Diabetes\",\"Normal\",\"Diabetes\",\"Normal\",\"Pre-Diabetes\",\"Diabetes\",\"Normal\",\"Normal\",\"Diabetes\",\"Normal\",\"Low\",\"Normal\",\"Normal\",\"Normal\",\"Normal\",\"Normal\",\"Normal\",\"Pre-Diabetes\",\"Normal\",\"Diabetes\",\"Diabetes\",\"Pre-Diabetes\",\"Low\",\"Normal\",\"Pre-Diabetes\",\"Normal\",\"Normal\",\"Pre-Diabetes\",\"Low\",\"Normal\",\"Normal\",\"Diabetes\",\"Diabetes\",\"Normal\",\"Low\",\"Low\",\"Normal\",\"Normal\",\"Normal\",\"Normal\",\"Pre-Diabetes\",\"Normal\",\"Normal\",\"Pre-Diabetes\",\"Low\",\"Normal\",\"Pre-Diabetes\",\"Diabetes\",\"Low\",\"Low\",\"Normal\",\"Normal\",\"Normal\",\"Normal\",\"Normal\",\"Pre-Diabetes\",\"Normal\",\"Normal\",\"Normal\",\"Normal\",\"Normal\",\"Diabetes\",\"Low\",\"Normal\",\"Normal\",\"Normal\",\"Low\",\"Diabetes\",\"Normal\",\"Pre-Diabetes\",\"Diabetes\",\"Pre-Diabetes\",\"Normal\",\"Pre-Diabetes\",\"Low\",\"Normal\",\"Normal\",\"Diabetes\",\"Pre-Diabetes\",\"Low\",\"Normal\",\"Pre-Diabetes\",\"Diabetes\",\"Diabetes\",\"Normal\",\"Pre-Diabetes\",\"Pre-Diabetes\",\"Normal\",\"Diabetes\",\"Diabetes\",\"Normal\",\"Low\",\"Normal\",\"Normal\",\"Normal\",\"Normal\",\"Normal\",\"Pre-Diabetes\",\"Pre-Diabetes\",\"Pre-Diabetes\",\"Pre-Diabetes\",\"Pre-Diabetes\",\"Low\",\"Diabetes\",\"Pre-Diabetes\",\"Pre-Diabetes\",\"Pre-Diabetes\",\"Normal\",\"Diabetes\",\"Pre-Diabetes\",\"Diabetes\",\"Pre-Diabetes\",\"Pre-Diabetes\",\"Diabetes\",\"Low\",\"Low\",\"Normal\",\"Low\",\"Normal\",\"Pre-Diabetes\",\"Diabetes\",\"Normal\",\"Normal\",\"Normal\",\"Normal\",\"Normal\",\"Diabetes\",\"Pre-Diabetes\",\"Low\",\"Normal\",\"Normal\",\"Low\",\"Normal\",\"Low\",\"Normal\",\"Normal\",\"Pre-Diabetes\",\"Normal\",\"Pre-Diabetes\",\"Normal\",\"Pre-Diabetes\",\"Diabetes\",\"Pre-Diabetes\",\"Low\",\"Normal\",\"Pre-Diabetes\",\"Normal\",\"Normal\",\"Normal\",\"Pre-Diabetes\",\"Normal\",\"Normal\",\"Normal\",\"Normal\",\"Normal\",\"Normal\",\"Diabetes\",\"Diabetes\",\"Normal\",\"Pre-Diabetes\",\"Normal\",\"Pre-Diabetes\",\"Pre-Diabetes\",\"Pre-Diabetes\",\"Normal\",\"Diabetes\",\"Normal\",\"Normal\",\"Normal\",\"Diabetes\",\"Normal\",\"Diabetes\",\"Normal\",\"Normal\",\"Low\",\"Normal\",\"Diabetes\",\"Normal\",\"Normal\",\"Normal\",\"Normal\",\"Normal\",\"Diabetes\",\"Diabetes\",\"Diabetes\",\"Normal\",\"Normal\",\"Normal\",\"Normal\",\"Low\",\"Normal\",\"Pre-Diabetes\",\"Normal\",\"Normal\",\"Normal\",\"Pre-Diabetes\",\"Normal\",\"Low\",\"Pre-Diabetes\",\"Low\",\"Low\",\"Diabetes\",\"Low\",\"Normal\",\"Pre-Diabetes\",\"Pre-Diabetes\",\"Pre-Diabetes\",\"Diabetes\",\"Normal\",\"Low\",\"Normal\",\"Pre-Diabetes\",\"Pre-Diabetes\",\"Normal\",\"Pre-Diabetes\",\"Pre-Diabetes\",\"Low\",\"Diabetes\",\"Pre-Diabetes\",\"Diabetes\",\"Normal\",\"Normal\",\"Pre-Diabetes\",\"Normal\",\"Normal\",\"Pre-Diabetes\",\"Pre-Diabetes\",\"Pre-Diabetes\",\"Normal\",\"Normal\",\"Diabetes\",\"Normal\",\"Normal\",\"Diabetes\",\"Normal\",\"Pre-Diabetes\",\"Diabetes\",\"Normal\",\"Diabetes\",\"Diabetes\",\"Normal\",\"Normal\",\"Pre-Diabetes\",\"Pre-Diabetes\",\"Low\",\"Low\",\"Diabetes\",\"Low\",\"Normal\",\"Diabetes\",\"Normal\",\"Normal\",\"Low\",\"Diabetes\",\"Diabetes\",\"Diabetes\",\"Normal\",\"Normal\",\"Normal\",\"Pre-Diabetes\",\"Low\",\"Low\",\"Diabetes\",\"Diabetes\",\"Diabetes\",\"Normal\",\"Normal\",\"Normal\",\"Normal\",\"Normal\",\"Normal\",\"Diabetes\",\"Normal\",\"Low\",\"Pre-Diabetes\",\"Diabetes\",\"Low\",\"Normal\",\"Low\",\"Normal\",\"Pre-Diabetes\",\"Pre-Diabetes\",\"Normal\",\"Normal\",\"Low\",\"Diabetes\",\"Low\",\"Normal\",\"Low\",\"Normal\",\"Low\",\"Normal\",\"Normal\",\"Normal\",\"Normal\",\"Normal\",\"Low\",\"Low\",\"Normal\",\"Low\",\"Pre-Diabetes\",\"Normal\",\"Pre-Diabetes\",\"Pre-Diabetes\",\"Low\",\"Pre-Diabetes\",\"Low\",\"Pre-Diabetes\",\"Pre-Diabetes\",\"Normal\",\"Normal\",\"Diabetes\",\"Normal\",\"Normal\",\"Low\",\"Low\",\"Diabetes\",\"Pre-Diabetes\",\"Low\",\"Pre-Diabetes\",\"Normal\",\"Pre-Diabetes\",\"Pre-Diabetes\",\"Low\",\"Pre-Diabetes\",\"Normal\",\"Normal\",\"Normal\",\"Pre-Diabetes\",\"Normal\",\"Diabetes\",\"Normal\",\"Normal\",\"Normal\",\"Normal\",\"Pre-Diabetes\",\"Diabetes\",\"Pre-Diabetes\",\"Pre-Diabetes\",\"Pre-Diabetes\",\"Normal\",\"Low\",\"Normal\",\"Low\",\"Low\",\"Low\",\"Normal\",\"Low\",\"Normal\",\"Normal\",\"Pre-Diabetes\",\"Normal\",\"Normal\",\"Pre-Diabetes\",\"Normal\",\"Low\",\"Normal\",\"Normal\",\"Diabetes\",\"Pre-Diabetes\",\"Low\",\"Pre-Diabetes\",\"Normal\",\"Normal\",\"Pre-Diabetes\",\"Diabetes\",\"Low\",\"Normal\",\"Pre-Diabetes\",\"Normal\",\"Normal\",\"Pre-Diabetes\",\"Diabetes\",\"Normal\",\"Low\",\"Diabetes\",\"Low\",\"Normal\",\"Pre-Diabetes\",\"Pre-Diabetes\",\"Normal\",\"Normal\",\"Normal\",\"Normal\",\"Diabetes\",\"Normal\",\"Pre-Diabetes\",\"Normal\",\"Diabetes\",\"Pre-Diabetes\",\"Low\",\"Normal\",\"Diabetes\",\"Low\",\"Low\",\"Pre-Diabetes\",\"Diabetes\",\"Normal\",\"Low\",\"Normal\",\"Normal\",\"Pre-Diabetes\",\"Low\",\"Pre-Diabetes\",\"Diabetes\",\"Normal\",\"Low\",\"Pre-Diabetes\",\"Diabetes\",\"Normal\",\"Normal\",\"Normal\",\"Low\",\"Low\",\"Diabetes\",\"Pre-Diabetes\",\"Pre-Diabetes\",\"Normal\",\"Low\",\"Low\",\"Pre-Diabetes\",\"Normal\",\"Normal\",\"Normal\",\"Low\",\"Normal\",\"Diabetes\",\"Normal\",\"Normal\",\"Normal\",\"Pre-Diabetes\",\"Pre-Diabetes\",\"Low\",\"Low\",\"Normal\",\"Normal\",\"Normal\",\"Pre-Diabetes\",\"Normal\",\"Diabetes\",\"Normal\",\"Pre-Diabetes\",\"Diabetes\",\"Pre-Diabetes\",\"Normal\",\"Diabetes\",\"Normal\",\"Diabetes\",\"Diabetes\",\"Normal\",\"Low\",\"Low\",\"Normal\",\"Normal\",\"Normal\",\"Low\",\"Low\",\"Pre-Diabetes\",\"Low\",\"Pre-Diabetes\",\"Pre-Diabetes\",\"Low\",\"Normal\",\"Diabetes\",\"Normal\",\"Diabetes\",\"Normal\",\"Normal\",\"Normal\",\"Normal\",\"Normal\",\"Normal\",\"Diabetes\",\"Diabetes\",\"Normal\",\"Diabetes\",\"Normal\",\"Diabetes\",\"Normal\",\"Normal\",\"Normal\",\"Diabetes\",\"Normal\",\"Pre-Diabetes\",\"Low\",\"Pre-Diabetes\",\"Diabetes\",\"Low\",\"Normal\",\"Normal\",\"Diabetes\",\"Diabetes\",\"Normal\",\"Normal\",\"Low\",\"Normal\",\"Normal\",\"Diabetes\",\"Normal\",\"Pre-Diabetes\",\"Pre-Diabetes\",\"Normal\",\"Low\",\"Normal\",\"Pre-Diabetes\",\"Diabetes\",\"Pre-Diabetes\",\"Normal\",\"Pre-Diabetes\",\"Normal\",\"Low\",\"Diabetes\",\"Pre-Diabetes\",\"Normal\",\"Normal\",\"Normal\",\"Normal\",\"Normal\",\"Pre-Diabetes\",\"Normal\",\"Diabetes\",\"Diabetes\",\"Normal\",\"Low\",\"Low\",\"Normal\",\"Normal\",\"Normal\",\"Diabetes\",\"Diabetes\",\"Diabetes\",\"Diabetes\",\"Pre-Diabetes\",\"Low\",\"Diabetes\",\"Low\",\"Pre-Diabetes\",\"Diabetes\",\"Normal\",\"Low\",\"Pre-Diabetes\",\"Normal\",\"Normal\",\"Pre-Diabetes\",\"Pre-Diabetes\",\"Normal\",\"Normal\",\"Pre-Diabetes\",\"Normal\",\"Diabetes\",\"Normal\",\"Pre-Diabetes\",\"Pre-Diabetes\",\"Normal\",\"Normal\",\"Normal\",\"Normal\",\"Diabetes\",\"Pre-Diabetes\",\"Normal\",\"Normal\",\"Normal\",\"Normal\",\"Normal\",\"Low\",\"Pre-Diabetes\",\"Normal\",\"Normal\",\"Normal\",\"Diabetes\",\"Diabetes\",\"Normal\",\"Low\",\"Low\",\"Low\",\"Diabetes\",\"Diabetes\",\"Pre-Diabetes\",\"Pre-Diabetes\",\"Diabetes\",\"Low\",\"Normal\",\"Low\",\"Pre-Diabetes\",\"Normal\",\"Diabetes\",\"Pre-Diabetes\",\"Diabetes\",\"Diabetes\",\"Normal\",\"Normal\",\"Normal\",\"Pre-Diabetes\",\"Low\",\"Pre-Diabetes\",\"Normal\",\"Normal\",\"Low\",\"Normal\",\"Normal\",\"Low\",\"Diabetes\",\"Normal\",\"Pre-Diabetes\",\"Pre-Diabetes\",\"Pre-Diabetes\",\"Diabetes\",\"Normal\",\"Normal\",\"Normal\",\"Normal\",\"Normal\",\"Diabetes\",\"Pre-Diabetes\",\"Pre-Diabetes\",\"Diabetes\",\"Normal\",\"Normal\",\"Pre-Diabetes\",\"Normal\",\"Pre-Diabetes\",\"Normal\",\"Normal\",\"Pre-Diabetes\",\"Low\",\"Normal\",\"Pre-Diabetes\",\"Pre-Diabetes\",\"Normal\",\"Normal\",\"Normal\",\"Pre-Diabetes\",\"Low\",\"Low\",\"Diabetes\",\"Normal\",\"Normal\",\"Diabetes\",\"Normal\",\"Low\",\"Pre-Diabetes\",\"Low\",\"Normal\",\"Normal\",\"Normal\",\"Diabetes\",\"Normal\",\"Diabetes\",\"Normal\",\"Pre-Diabetes\",\"Low\",\"Normal\",\"Normal\",\"Low\",\"Pre-Diabetes\",\"Low\",\"Low\",\"Pre-Diabetes\",\"Normal\",\"Diabetes\",\"Normal\",\"Low\",\"Normal\",\"Normal\",\"Low\",\"Pre-Diabetes\",\"Pre-Diabetes\",\"Pre-Diabetes\",\"Pre-Diabetes\",\"Pre-Diabetes\",\"Normal\",\"Low\",\"Normal\",\"Normal\",\"Normal\",\"Normal\",\"Diabetes\",\"Normal\",\"Low\",\"Diabetes\",\"Normal\",\"Normal\",\"Normal\",\"Pre-Diabetes\",\"Diabetes\",\"Normal\",\"Normal\",\"Low\",\"Pre-Diabetes\",\"Pre-Diabetes\",\"Diabetes\",\"Low\",\"Low\",\"Normal\",\"Pre-Diabetes\",\"Normal\",\"Pre-Diabetes\",\"Normal\",\"Diabetes\",\"Normal\",\"Normal\",\"Pre-Diabetes\",\"Normal\",\"Diabetes\",\"Diabetes\",\"Normal\",\"Low\",\"Pre-Diabetes\",\"Normal\",\"Normal\",\"Normal\",\"Normal\",\"Low\",\"Normal\",\"Normal\",\"Normal\",\"Pre-Diabetes\",\"Pre-Diabetes\",\"Normal\",\"Diabetes\",\"Low\",\"Normal\",\"Pre-Diabetes\",\"Diabetes\",\"Normal\",\"Pre-Diabetes\",\"Low\",\"Normal\",\"Normal\",\"Pre-Diabetes\",\"Normal\",\"Normal\",\"Diabetes\",\"Low\",\"Normal\",\"Normal\",\"Low\",\"Normal\",\"Pre-Diabetes\",\"Low\",\"Normal\",\"Normal\",\"Normal\",\"Low\",\"Diabetes\",\"Pre-Diabetes\",\"Pre-Diabetes\",\"Low\",\"Pre-Diabetes\",\"Diabetes\",\"Pre-Diabetes\",\"Pre-Diabetes\",\"Normal\",\"Normal\",\"Low\",\"Normal\",\"Normal\",\"Diabetes\",\"Normal\",\"Low\",\"Diabetes\",\"Normal\",\"Pre-Diabetes\",\"Normal\",\"Low\",\"Normal\",\"Diabetes\",\"Normal\",\"Diabetes\",\"Diabetes\",\"Normal\",\"Low\",\"Pre-Diabetes\",\"Diabetes\",\"Diabetes\",\"Normal\",\"Low\",\"Normal\",\"Diabetes\",\"Normal\",\"Normal\",\"Normal\",\"Normal\",\"Normal\",\"Normal\",\"Low\",\"Pre-Diabetes\",\"Diabetes\",\"Normal\",\"Normal\",\"Low\",\"Pre-Diabetes\",\"Normal\",\"Low\",\"Diabetes\",\"Pre-Diabetes\",\"Diabetes\",\"Pre-Diabetes\",\"Pre-Diabetes\",\"Pre-Diabetes\",\"Low\",\"Normal\",\"Pre-Diabetes\",\"Normal\",\"Diabetes\",\"Normal\",\"Normal\",\"Diabetes\",\"Diabetes\",\"Normal\",\"Diabetes\",\"Normal\",\"Diabetes\",\"Normal\",\"Normal\",\"Pre-Diabetes\",\"Normal\",\"Pre-Diabetes\",\"Diabetes\",\"Diabetes\",\"Normal\",\"Pre-Diabetes\",\"Diabetes\",\"Normal\",\"Low\",\"Normal\",\"Pre-Diabetes\",\"Diabetes\",\"Normal\",\"Low\",\"Normal\",\"Low\",\"Normal\",\"Normal\",\"Normal\",\"Normal\",\"Normal\",\"Normal\",\"Normal\",\"Diabetes\",\"Pre-Diabetes\",\"Normal\",\"Pre-Diabetes\",\"Diabetes\",\"Normal\",\"Low\",\"Low\",\"Normal\",\"Normal\",\"Diabetes\",\"Normal\",\"Pre-Diabetes\",\"Low\",\"Normal\",\"Pre-Diabetes\",\"Normal\",\"Normal\",\"Low\",\"Normal\",\"Diabetes\",\"Diabetes\",\"Normal\",\"Normal\",\"Diabetes\",\"Normal\",\"Pre-Diabetes\",\"Pre-Diabetes\",\"Normal\",\"Diabetes\",\"Normal\",\"Normal\",\"Pre-Diabetes\",\"Normal\",\"Diabetes\",\"Normal\",\"Low\",\"Low\",\"Normal\",\"Low\",\"Normal\",\"Normal\",\"Pre-Diabetes\",\"Normal\",\"Pre-Diabetes\",\"Normal\",\"Normal\",\"Diabetes\",\"Pre-Diabetes\",\"Diabetes\",\"Pre-Diabetes\",\"Normal\",\"Normal\",\"Pre-Diabetes\",\"Normal\",\"Pre-Diabetes\",\"Diabetes\",\"Normal\",\"Normal\",\"Normal\",\"Pre-Diabetes\",\"Pre-Diabetes\",\"Normal\",\"Normal\",\"Normal\",\"Pre-Diabetes\",\"Normal\",\"Normal\",\"Low\",\"Normal\",\"Normal\",\"Diabetes\",\"Normal\",\"Normal\",\"Pre-Diabetes\",\"Low\",\"Diabetes\",\"Low\",\"Diabetes\",\"Pre-Diabetes\",\"Normal\",\"Diabetes\",\"Low\",\"Normal\",\"Normal\",\"Normal\",\"Normal\",\"Normal\",\"Normal\",\"Pre-Diabetes\",\"Diabetes\",\"Diabetes\",\"Normal\",\"Normal\",\"Normal\",\"Pre-Diabetes\",\"Pre-Diabetes\",\"Diabetes\",\"Low\",\"Pre-Diabetes\",\"Normal\",\"Diabetes\",\"Pre-Diabetes\",\"Normal\",\"Normal\",\"Pre-Diabetes\",\"Normal\",\"Normal\",\"Normal\",\"Normal\",\"Normal\",\"Low\",\"Normal\",\"Normal\",\"Diabetes\",\"Normal\",\"Low\",\"Low\",\"Pre-Diabetes\",\"Diabetes\",\"Pre-Diabetes\",\"Low\",\"Low\",\"Diabetes\",\"Low\",\"Normal\",\"Normal\",\"Pre-Diabetes\",\"Pre-Diabetes\",\"Normal\",\"Diabetes\",\"Normal\",\"Low\",\"Normal\",\"Normal\",\"Normal\",\"Normal\",\"Normal\",\"Pre-Diabetes\",\"Normal\",\"Normal\",\"Diabetes\",\"Diabetes\",\"Low\",\"Diabetes\",\"Normal\",\"Normal\",\"Normal\",\"Diabetes\",\"Diabetes\",\"Normal\",\"Diabetes\",\"Pre-Diabetes\",\"Normal\",\"Pre-Diabetes\",\"Normal\",\"Normal\",\"Pre-Diabetes\",\"Diabetes\",\"Diabetes\",\"Normal\",\"Low\",\"Pre-Diabetes\",\"Pre-Diabetes\",\"Pre-Diabetes\",\"Pre-Diabetes\",\"Pre-Diabetes\",\"Normal\",\"Diabetes\",\"Normal\",\"Normal\",\"Normal\",\"Normal\",\"Low\",\"Diabetes\",\"Low\",\"Diabetes\",\"Low\",\"Pre-Diabetes\",\"Low\",\"Diabetes\",\"Normal\",\"Normal\",\"Diabetes\",\"Normal\",\"Normal\",\"Normal\",\"Normal\",\"Pre-Diabetes\",\"Diabetes\",\"Normal\",\"Pre-Diabetes\",\"Low\",\"Normal\",\"Diabetes\",\"Normal\",\"Normal\",\"Normal\",\"Normal\",\"Pre-Diabetes\",\"Low\",\"Normal\",\"Normal\",\"Pre-Diabetes\",\"Diabetes\",\"Low\",\"Normal\",\"Normal\",\"Normal\",\"Normal\",\"Normal\",\"Normal\",\"Normal\",\"Pre-Diabetes\",\"Normal\",\"Normal\",\"Pre-Diabetes\",\"Pre-Diabetes\",\"Normal\",\"Low\",\"Normal\",\"Diabetes\",\"Diabetes\",\"Normal\",\"Normal\",\"Normal\",\"Diabetes\",\"Normal\",\"Normal\",\"Normal\",\"Normal\",\"Normal\",\"Diabetes\",\"Diabetes\",\"Pre-Diabetes\",\"Normal\",\"Normal\",\"Normal\",\"Normal\",\"Normal\",\"Normal\",\"Pre-Diabetes\",\"Diabetes\",\"Normal\",\"Low\",\"Pre-Diabetes\",\"Pre-Diabetes\",\"Normal\",\"Diabetes\",\"Diabetes\",\"Normal\",\"Low\",\"Low\",\"Low\",\"Low\",\"Normal\",\"Pre-Diabetes\",\"Normal\",\"Low\",\"Low\",\"Diabetes\",\"Normal\",\"Pre-Diabetes\",\"Normal\",\"Normal\",\"Low\",\"Normal\",\"Diabetes\",\"Normal\",\"Diabetes\",\"Normal\",\"Diabetes\",\"Diabetes\",\"Normal\",\"Normal\",\"Normal\",\"Pre-Diabetes\",\"Low\",\"Normal\",\"Diabetes\",\"Diabetes\",\"Normal\",\"Low\",\"Low\",\"Low\",\"Normal\",\"Low\",\"Low\",\"Normal\",\"Normal\",\"Normal\",\"Normal\",\"Normal\",\"Pre-Diabetes\",\"Pre-Diabetes\",\"Normal\",\"Low\",\"Normal\",\"Diabetes\",\"Low\",\"Normal\",\"Normal\",\"Pre-Diabetes\",\"Normal\",\"Low\",\"Normal\",\"Normal\",\"Normal\",\"Low\",\"Diabetes\",\"Low\",\"Diabetes\",\"Pre-Diabetes\",\"Normal\",\"Pre-Diabetes\",\"Normal\",\"Normal\",\"Pre-Diabetes\",\"Low\",\"Low\",\"Normal\",\"Pre-Diabetes\",\"Normal\",\"Pre-Diabetes\",\"Normal\",\"Normal\",\"Normal\",\"Normal\",\"Diabetes\",\"Pre-Diabetes\",\"Normal\",\"Normal\",\"Low\",\"Pre-Diabetes\",\"Normal\",\"Normal\",\"Normal\",\"Normal\",\"Normal\",\"Pre-Diabetes\",\"Diabetes\",\"Normal\",\"Low\",\"Normal\",\"Pre-Diabetes\",\"Pre-Diabetes\",\"Diabetes\",\"Normal\",\"Normal\",\"Normal\",\"Normal\",\"Pre-Diabetes\",\"Diabetes\",\"Diabetes\",\"Low\",\"Diabetes\",\"Normal\",\"Low\",\"Diabetes\",\"Low\",\"Normal\",\"Low\",\"Normal\",\"Normal\",\"Pre-Diabetes\",\"Normal\",\"Diabetes\",\"Pre-Diabetes\",\"Diabetes\",\"Pre-Diabetes\",\"Normal\",\"Normal\",\"Low\",\"Low\",\"Pre-Diabetes\",\"Normal\",\"Pre-Diabetes\",\"Normal\",\"Low\",\"Pre-Diabetes\",\"Pre-Diabetes\",\"Diabetes\",\"Diabetes\",\"Diabetes\",\"Diabetes\",\"Normal\",\"Normal\",\"Low\",\"Normal\",\"Normal\",\"Pre-Diabetes\",\"Normal\",\"Normal\",\"Low\",\"Diabetes\",\"Low\",\"Normal\",\"Diabetes\",\"Low\",\"Normal\",\"Pre-Diabetes\",\"Normal\",\"Pre-Diabetes\",\"Low\",\"Low\",\"Normal\",\"Normal\",\"Diabetes\",\"Normal\",\"Low\",\"Normal\",\"Normal\",\"Pre-Diabetes\",\"Normal\",\"Pre-Diabetes\",\"Pre-Diabetes\",\"Normal\",\"Pre-Diabetes\",\"Normal\",\"Low\",\"Low\",\"Low\",\"Pre-Diabetes\",\"Low\",\"Pre-Diabetes\",\"Pre-Diabetes\",\"Diabetes\",\"Low\",\"Diabetes\",\"Low\",\"Normal\",\"Normal\",\"Normal\",\"Normal\",\"Pre-Diabetes\",\"Low\",\"Pre-Diabetes\",\"Low\",\"Pre-Diabetes\",\"Diabetes\",\"Normal\",\"Normal\",\"Pre-Diabetes\",\"Pre-Diabetes\",\"Pre-Diabetes\",\"Normal\",\"Normal\",\"Pre-Diabetes\",\"Normal\",\"Normal\",\"Diabetes\",\"Low\",\"Normal\",\"Diabetes\",\"Diabetes\",\"Low\",\"Normal\",\"Normal\",\"Normal\",\"Normal\",\"Diabetes\",\"Low\",\"Low\",\"Pre-Diabetes\",\"Pre-Diabetes\",\"Low\",\"Low\",\"Diabetes\",\"Normal\",\"Normal\",\"Low\",\"Pre-Diabetes\",\"Normal\",\"Low\",\"Normal\",\"Normal\",\"Low\",\"Low\",\"Pre-Diabetes\",\"Pre-Diabetes\",\"Diabetes\",\"Normal\",\"Pre-Diabetes\",\"Normal\",\"Normal\",\"Normal\",\"Diabetes\",\"Pre-Diabetes\",\"Normal\",\"Normal\",\"Pre-Diabetes\",\"Normal\",\"Diabetes\",\"Normal\",\"Pre-Diabetes\",\"Diabetes\",\"Normal\",\"Pre-Diabetes\",\"Low\",\"Diabetes\",\"Normal\",\"Pre-Diabetes\",\"Pre-Diabetes\",\"Low\",\"Pre-Diabetes\",\"Diabetes\",\"Normal\",\"Low\",\"Normal\",\"Pre-Diabetes\",\"Pre-Diabetes\",\"Normal\",\"Normal\",\"Diabetes\",\"Pre-Diabetes\",\"Low\",\"Normal\",\"Normal\",\"Normal\",\"Normal\",\"Pre-Diabetes\",\"Diabetes\",\"Normal\",\"Normal\",\"Normal\",\"Normal\",\"Low\",\"Diabetes\",\"Pre-Diabetes\",\"Normal\",\"Low\",\"Pre-Diabetes\",\"Low\",\"Normal\",\"Low\",\"Normal\",\"Normal\",\"Low\",\"Normal\",\"Diabetes\",\"Normal\",\"Low\",\"Diabetes\",\"Diabetes\",\"Normal\",\"Normal\",\"Normal\",\"Normal\",\"Normal\",\"Normal\",\"Normal\",\"Low\",\"Low\",\"Diabetes\",\"Pre-Diabetes\",\"Low\",\"Normal\",\"Normal\",\"Normal\",\"Diabetes\",\"Normal\",\"Pre-Diabetes\",\"Normal\",\"Normal\",\"Low\",\"Diabetes\",\"Diabetes\",\"Normal\",\"Normal\",\"Diabetes\",\"Pre-Diabetes\",\"Low\",\"Pre-Diabetes\",\"Normal\",\"Normal\",\"Normal\",\"Normal\",\"Normal\",\"Pre-Diabetes\",\"Normal\",\"Normal\",\"Pre-Diabetes\",\"Normal\",\"Normal\",\"Low\",\"Diabetes\",\"Normal\",\"Low\",\"Normal\",\"Normal\",\"Pre-Diabetes\",\"Normal\",\"Pre-Diabetes\",\"Normal\",\"Low\",\"Diabetes\",\"Diabetes\",\"Pre-Diabetes\",\"Low\",\"Diabetes\",\"Diabetes\",\"Low\",\"Diabetes\",\"Low\",\"Normal\",\"Normal\",\"Pre-Diabetes\",\"Normal\",\"Diabetes\",\"Normal\",\"Pre-Diabetes\",\"Pre-Diabetes\",\"Normal\",\"Normal\",\"Normal\",\"Low\",\"Pre-Diabetes\",\"Normal\",\"Pre-Diabetes\",\"Pre-Diabetes\",\"Pre-Diabetes\",\"Pre-Diabetes\",\"Pre-Diabetes\",\"Pre-Diabetes\",\"Pre-Diabetes\",\"Low\",\"Normal\",\"Diabetes\",\"Diabetes\",\"Pre-Diabetes\",\"Diabetes\",\"Diabetes\",\"Normal\",\"Pre-Diabetes\",\"Normal\",\"Pre-Diabetes\",\"Low\",\"Pre-Diabetes\",\"Normal\",\"Diabetes\",\"Normal\",\"Pre-Diabetes\",\"Low\",\"Normal\",\"Pre-Diabetes\",\"Diabetes\",\"Normal\",\"Low\",\"Normal\",\"Normal\",\"Diabetes\",\"Pre-Diabetes\",\"Normal\",\"Diabetes\",\"Normal\",\"Normal\",\"Normal\",\"Pre-Diabetes\",\"Normal\",\"Diabetes\",\"Low\",\"Low\",\"Normal\",\"Diabetes\",\"Normal\",\"Normal\",\"Pre-Diabetes\",\"Pre-Diabetes\",\"Diabetes\",\"Pre-Diabetes\",\"Diabetes\",\"Normal\",\"Pre-Diabetes\",\"Diabetes\",\"Normal\",\"Pre-Diabetes\",\"Low\",\"Pre-Diabetes\",\"Diabetes\",\"Diabetes\",\"Diabetes\",\"Low\",\"Low\",\"Normal\",\"Normal\",\"Diabetes\",\"Pre-Diabetes\",\"Pre-Diabetes\",\"Normal\",\"Normal\",\"Normal\",\"Normal\",\"Diabetes\",\"Normal\",\"Pre-Diabetes\",\"Normal\",\"Normal\",\"Low\",\"Normal\",\"Normal\",\"Normal\",\"Low\",\"Normal\",\"Pre-Diabetes\",\"Low\",\"Diabetes\",\"Diabetes\",\"Diabetes\",\"Diabetes\",\"Normal\",\"Pre-Diabetes\",\"Diabetes\",\"Pre-Diabetes\",\"Normal\",\"Low\",\"Diabetes\",\"Low\",\"Normal\",\"Pre-Diabetes\",\"Pre-Diabetes\",\"Diabetes\",\"Pre-Diabetes\",\"Normal\",\"Normal\",\"Normal\",\"Pre-Diabetes\",\"Normal\",\"Normal\",\"Normal\",\"Normal\",\"Diabetes\",\"Normal\",\"Normal\",\"Low\",\"Pre-Diabetes\",\"Normal\",\"Normal\",\"Normal\",\"Normal\",\"Normal\",\"Normal\",\"Normal\",\"Normal\",\"Normal\",\"Normal\",\"Normal\",\"Normal\",\"Normal\",\"Pre-Diabetes\",\"Normal\",\"Diabetes\",\"Normal\",\"Diabetes\",\"Normal\"],\"xaxis\":\"x\",\"yaxis\":\"y\",\"type\":\"histogram\"}],                        {\"template\":{\"data\":{\"histogram2dcontour\":[{\"type\":\"histogram2dcontour\",\"colorbar\":{\"outlinewidth\":0,\"ticks\":\"\"},\"colorscale\":[[0.0,\"#0d0887\"],[0.1111111111111111,\"#46039f\"],[0.2222222222222222,\"#7201a8\"],[0.3333333333333333,\"#9c179e\"],[0.4444444444444444,\"#bd3786\"],[0.5555555555555556,\"#d8576b\"],[0.6666666666666666,\"#ed7953\"],[0.7777777777777778,\"#fb9f3a\"],[0.8888888888888888,\"#fdca26\"],[1.0,\"#f0f921\"]]}],\"choropleth\":[{\"type\":\"choropleth\",\"colorbar\":{\"outlinewidth\":0,\"ticks\":\"\"}}],\"histogram2d\":[{\"type\":\"histogram2d\",\"colorbar\":{\"outlinewidth\":0,\"ticks\":\"\"},\"colorscale\":[[0.0,\"#0d0887\"],[0.1111111111111111,\"#46039f\"],[0.2222222222222222,\"#7201a8\"],[0.3333333333333333,\"#9c179e\"],[0.4444444444444444,\"#bd3786\"],[0.5555555555555556,\"#d8576b\"],[0.6666666666666666,\"#ed7953\"],[0.7777777777777778,\"#fb9f3a\"],[0.8888888888888888,\"#fdca26\"],[1.0,\"#f0f921\"]]}],\"heatmap\":[{\"type\":\"heatmap\",\"colorbar\":{\"outlinewidth\":0,\"ticks\":\"\"},\"colorscale\":[[0.0,\"#0d0887\"],[0.1111111111111111,\"#46039f\"],[0.2222222222222222,\"#7201a8\"],[0.3333333333333333,\"#9c179e\"],[0.4444444444444444,\"#bd3786\"],[0.5555555555555556,\"#d8576b\"],[0.6666666666666666,\"#ed7953\"],[0.7777777777777778,\"#fb9f3a\"],[0.8888888888888888,\"#fdca26\"],[1.0,\"#f0f921\"]]}],\"heatmapgl\":[{\"type\":\"heatmapgl\",\"colorbar\":{\"outlinewidth\":0,\"ticks\":\"\"},\"colorscale\":[[0.0,\"#0d0887\"],[0.1111111111111111,\"#46039f\"],[0.2222222222222222,\"#7201a8\"],[0.3333333333333333,\"#9c179e\"],[0.4444444444444444,\"#bd3786\"],[0.5555555555555556,\"#d8576b\"],[0.6666666666666666,\"#ed7953\"],[0.7777777777777778,\"#fb9f3a\"],[0.8888888888888888,\"#fdca26\"],[1.0,\"#f0f921\"]]}],\"contourcarpet\":[{\"type\":\"contourcarpet\",\"colorbar\":{\"outlinewidth\":0,\"ticks\":\"\"}}],\"contour\":[{\"type\":\"contour\",\"colorbar\":{\"outlinewidth\":0,\"ticks\":\"\"},\"colorscale\":[[0.0,\"#0d0887\"],[0.1111111111111111,\"#46039f\"],[0.2222222222222222,\"#7201a8\"],[0.3333333333333333,\"#9c179e\"],[0.4444444444444444,\"#bd3786\"],[0.5555555555555556,\"#d8576b\"],[0.6666666666666666,\"#ed7953\"],[0.7777777777777778,\"#fb9f3a\"],[0.8888888888888888,\"#fdca26\"],[1.0,\"#f0f921\"]]}],\"surface\":[{\"type\":\"surface\",\"colorbar\":{\"outlinewidth\":0,\"ticks\":\"\"},\"colorscale\":[[0.0,\"#0d0887\"],[0.1111111111111111,\"#46039f\"],[0.2222222222222222,\"#7201a8\"],[0.3333333333333333,\"#9c179e\"],[0.4444444444444444,\"#bd3786\"],[0.5555555555555556,\"#d8576b\"],[0.6666666666666666,\"#ed7953\"],[0.7777777777777778,\"#fb9f3a\"],[0.8888888888888888,\"#fdca26\"],[1.0,\"#f0f921\"]]}],\"mesh3d\":[{\"type\":\"mesh3d\",\"colorbar\":{\"outlinewidth\":0,\"ticks\":\"\"}}],\"scatter\":[{\"fillpattern\":{\"fillmode\":\"overlay\",\"size\":10,\"solidity\":0.2},\"type\":\"scatter\"}],\"parcoords\":[{\"type\":\"parcoords\",\"line\":{\"colorbar\":{\"outlinewidth\":0,\"ticks\":\"\"}}}],\"scatterpolargl\":[{\"type\":\"scatterpolargl\",\"marker\":{\"colorbar\":{\"outlinewidth\":0,\"ticks\":\"\"}}}],\"bar\":[{\"error_x\":{\"color\":\"#2a3f5f\"},\"error_y\":{\"color\":\"#2a3f5f\"},\"marker\":{\"line\":{\"color\":\"#E5ECF6\",\"width\":0.5},\"pattern\":{\"fillmode\":\"overlay\",\"size\":10,\"solidity\":0.2}},\"type\":\"bar\"}],\"scattergeo\":[{\"type\":\"scattergeo\",\"marker\":{\"colorbar\":{\"outlinewidth\":0,\"ticks\":\"\"}}}],\"scatterpolar\":[{\"type\":\"scatterpolar\",\"marker\":{\"colorbar\":{\"outlinewidth\":0,\"ticks\":\"\"}}}],\"histogram\":[{\"marker\":{\"pattern\":{\"fillmode\":\"overlay\",\"size\":10,\"solidity\":0.2}},\"type\":\"histogram\"}],\"scattergl\":[{\"type\":\"scattergl\",\"marker\":{\"colorbar\":{\"outlinewidth\":0,\"ticks\":\"\"}}}],\"scatter3d\":[{\"type\":\"scatter3d\",\"line\":{\"colorbar\":{\"outlinewidth\":0,\"ticks\":\"\"}},\"marker\":{\"colorbar\":{\"outlinewidth\":0,\"ticks\":\"\"}}}],\"scattermapbox\":[{\"type\":\"scattermapbox\",\"marker\":{\"colorbar\":{\"outlinewidth\":0,\"ticks\":\"\"}}}],\"scatterternary\":[{\"type\":\"scatterternary\",\"marker\":{\"colorbar\":{\"outlinewidth\":0,\"ticks\":\"\"}}}],\"scattercarpet\":[{\"type\":\"scattercarpet\",\"marker\":{\"colorbar\":{\"outlinewidth\":0,\"ticks\":\"\"}}}],\"carpet\":[{\"aaxis\":{\"endlinecolor\":\"#2a3f5f\",\"gridcolor\":\"white\",\"linecolor\":\"white\",\"minorgridcolor\":\"white\",\"startlinecolor\":\"#2a3f5f\"},\"baxis\":{\"endlinecolor\":\"#2a3f5f\",\"gridcolor\":\"white\",\"linecolor\":\"white\",\"minorgridcolor\":\"white\",\"startlinecolor\":\"#2a3f5f\"},\"type\":\"carpet\"}],\"table\":[{\"cells\":{\"fill\":{\"color\":\"#EBF0F8\"},\"line\":{\"color\":\"white\"}},\"header\":{\"fill\":{\"color\":\"#C8D4E3\"},\"line\":{\"color\":\"white\"}},\"type\":\"table\"}],\"barpolar\":[{\"marker\":{\"line\":{\"color\":\"#E5ECF6\",\"width\":0.5},\"pattern\":{\"fillmode\":\"overlay\",\"size\":10,\"solidity\":0.2}},\"type\":\"barpolar\"}],\"pie\":[{\"automargin\":true,\"type\":\"pie\"}]},\"layout\":{\"autotypenumbers\":\"strict\",\"colorway\":[\"#636efa\",\"#EF553B\",\"#00cc96\",\"#ab63fa\",\"#FFA15A\",\"#19d3f3\",\"#FF6692\",\"#B6E880\",\"#FF97FF\",\"#FECB52\"],\"font\":{\"color\":\"#2a3f5f\"},\"hovermode\":\"closest\",\"hoverlabel\":{\"align\":\"left\"},\"paper_bgcolor\":\"white\",\"plot_bgcolor\":\"#E5ECF6\",\"polar\":{\"bgcolor\":\"#E5ECF6\",\"angularaxis\":{\"gridcolor\":\"white\",\"linecolor\":\"white\",\"ticks\":\"\"},\"radialaxis\":{\"gridcolor\":\"white\",\"linecolor\":\"white\",\"ticks\":\"\"}},\"ternary\":{\"bgcolor\":\"#E5ECF6\",\"aaxis\":{\"gridcolor\":\"white\",\"linecolor\":\"white\",\"ticks\":\"\"},\"baxis\":{\"gridcolor\":\"white\",\"linecolor\":\"white\",\"ticks\":\"\"},\"caxis\":{\"gridcolor\":\"white\",\"linecolor\":\"white\",\"ticks\":\"\"}},\"coloraxis\":{\"colorbar\":{\"outlinewidth\":0,\"ticks\":\"\"}},\"colorscale\":{\"sequential\":[[0.0,\"#0d0887\"],[0.1111111111111111,\"#46039f\"],[0.2222222222222222,\"#7201a8\"],[0.3333333333333333,\"#9c179e\"],[0.4444444444444444,\"#bd3786\"],[0.5555555555555556,\"#d8576b\"],[0.6666666666666666,\"#ed7953\"],[0.7777777777777778,\"#fb9f3a\"],[0.8888888888888888,\"#fdca26\"],[1.0,\"#f0f921\"]],\"sequentialminus\":[[0.0,\"#0d0887\"],[0.1111111111111111,\"#46039f\"],[0.2222222222222222,\"#7201a8\"],[0.3333333333333333,\"#9c179e\"],[0.4444444444444444,\"#bd3786\"],[0.5555555555555556,\"#d8576b\"],[0.6666666666666666,\"#ed7953\"],[0.7777777777777778,\"#fb9f3a\"],[0.8888888888888888,\"#fdca26\"],[1.0,\"#f0f921\"]],\"diverging\":[[0,\"#8e0152\"],[0.1,\"#c51b7d\"],[0.2,\"#de77ae\"],[0.3,\"#f1b6da\"],[0.4,\"#fde0ef\"],[0.5,\"#f7f7f7\"],[0.6,\"#e6f5d0\"],[0.7,\"#b8e186\"],[0.8,\"#7fbc41\"],[0.9,\"#4d9221\"],[1,\"#276419\"]]},\"xaxis\":{\"gridcolor\":\"white\",\"linecolor\":\"white\",\"ticks\":\"\",\"title\":{\"standoff\":15},\"zerolinecolor\":\"white\",\"automargin\":true,\"zerolinewidth\":2},\"yaxis\":{\"gridcolor\":\"white\",\"linecolor\":\"white\",\"ticks\":\"\",\"title\":{\"standoff\":15},\"zerolinecolor\":\"white\",\"automargin\":true,\"zerolinewidth\":2},\"scene\":{\"xaxis\":{\"backgroundcolor\":\"#E5ECF6\",\"gridcolor\":\"white\",\"linecolor\":\"white\",\"showbackground\":true,\"ticks\":\"\",\"zerolinecolor\":\"white\",\"gridwidth\":2},\"yaxis\":{\"backgroundcolor\":\"#E5ECF6\",\"gridcolor\":\"white\",\"linecolor\":\"white\",\"showbackground\":true,\"ticks\":\"\",\"zerolinecolor\":\"white\",\"gridwidth\":2},\"zaxis\":{\"backgroundcolor\":\"#E5ECF6\",\"gridcolor\":\"white\",\"linecolor\":\"white\",\"showbackground\":true,\"ticks\":\"\",\"zerolinecolor\":\"white\",\"gridwidth\":2}},\"shapedefaults\":{\"line\":{\"color\":\"#2a3f5f\"}},\"annotationdefaults\":{\"arrowcolor\":\"#2a3f5f\",\"arrowhead\":0,\"arrowwidth\":1},\"geo\":{\"bgcolor\":\"white\",\"landcolor\":\"#E5ECF6\",\"subunitcolor\":\"white\",\"showland\":true,\"showlakes\":true,\"lakecolor\":\"white\"},\"title\":{\"x\":0.05},\"mapbox\":{\"style\":\"light\"}}},\"xaxis\":{\"anchor\":\"y\",\"domain\":[0.0,1.0],\"title\":{\"text\":\"Average Glucose Level Group\"},\"categoryorder\":\"array\",\"categoryarray\":[\"Low\",\"Normal\",\"Pre-Diabetes\",\"Diabetes\"]},\"yaxis\":{\"anchor\":\"x\",\"domain\":[0.0,1.0],\"title\":{\"text\":\"count\"}},\"legend\":{\"title\":{\"text\":\"Stroke\"},\"tracegroupgap\":0},\"title\":{\"text\":\"Distribution of Stroke Cases by Average Glucose Level Group\"},\"barmode\":\"relative\",\"height\":700,\"width\":800},                        {\"responsive\": true}                    ).then(function(){\n",
              "                            \n",
              "var gd = document.getElementById('e29bde22-d5b8-4d46-959d-dbce08f0f8b4');\n",
              "var x = new MutationObserver(function (mutations, observer) {{\n",
              "        var display = window.getComputedStyle(gd).display;\n",
              "        if (!display || display === 'none') {{\n",
              "            console.log([gd, 'removed!']);\n",
              "            Plotly.purge(gd);\n",
              "            observer.disconnect();\n",
              "        }}\n",
              "}});\n",
              "\n",
              "// Listen for the removal of the full notebook cells\n",
              "var notebookContainer = gd.closest('#notebook-container');\n",
              "if (notebookContainer) {{\n",
              "    x.observe(notebookContainer, {childList: true});\n",
              "}}\n",
              "\n",
              "// Listen for the clearing of the current output cell\n",
              "var outputEl = gd.closest('.output');\n",
              "if (outputEl) {{\n",
              "    x.observe(outputEl, {childList: true});\n",
              "}}\n",
              "\n",
              "                        })                };                            </script>        </div>\n",
              "</body>\n",
              "</html>"
            ]
          },
          "metadata": {}
        }
      ]
    },
    {
      "cell_type": "markdown",
      "source": [
        "The plot shows that diabetic people tend to have more chances of stroke."
      ],
      "metadata": {
        "id": "NrcJQ1CtqLEs"
      }
    },
    {
      "cell_type": "markdown",
      "source": [
        "### **EDA  - BMI**\n",
        "\n",
        "I have categorized BMI variable into bins based on the BMI definitions."
      ],
      "metadata": {
        "id": "7qNw6ELlqiI8"
      }
    },
    {
      "cell_type": "code",
      "source": [
        "df['stroke'] = df['stroke'].astype('category')\n",
        "\n",
        "# Defining BMI bins and labels\n",
        "bmi_bins = [10, 18.5, 24.9, 29.9, 34.9, 39.9, 50, float('inf')]\n",
        "bmi_labels = ['Underweight', 'Normal', 'Overweight', 'Obese Class I', 'Obese Class II', 'Obese Class III', 'Extreme Obesity']\n",
        "\n",
        "# Categorizing 'bmi' into groups\n",
        "df['bmi_group'] = pd.cut(df['bmi'], bins=bmi_bins, labels=bmi_labels, right=False)\n",
        "\n",
        "bmi_stroke_counts = df.groupby(['bmi_group', 'stroke']).size().reset_index(name='Count')\n",
        "\n",
        "fig = px.bar(bmi_stroke_counts, x='bmi_group', y='Count', color='stroke',\n",
        "             title='Distribution of Strokes by BMI Group',\n",
        "             labels={'bmi_group': 'BMI Group', 'Count': 'Count', 'stroke': 'Stroke'},\n",
        "             color_discrete_sequence=['darkseagreen','slateblue'],\n",
        "             text='Count')\n",
        "\n",
        "fig.update_layout(xaxis_title='BMI Group', yaxis_title='Count', legend_title='Stroke')\n",
        "\n",
        "fig.show()\n"
      ],
      "metadata": {
        "colab": {
          "base_uri": "https://localhost:8080/",
          "height": 542
        },
        "id": "Bkq7rdX8jA7H",
        "outputId": "c1845666-8b27-459d-9c4a-045520ef23a2"
      },
      "execution_count": 25,
      "outputs": [
        {
          "output_type": "display_data",
          "data": {
            "text/html": [
              "<html>\n",
              "<head><meta charset=\"utf-8\" /></head>\n",
              "<body>\n",
              "    <div>            <script src=\"https://cdnjs.cloudflare.com/ajax/libs/mathjax/2.7.5/MathJax.js?config=TeX-AMS-MML_SVG\"></script><script type=\"text/javascript\">if (window.MathJax && window.MathJax.Hub && window.MathJax.Hub.Config) {window.MathJax.Hub.Config({SVG: {font: \"STIX-Web\"}});}</script>                <script type=\"text/javascript\">window.PlotlyConfig = {MathJaxConfig: 'local'};</script>\n",
              "        <script charset=\"utf-8\" src=\"https://cdn.plot.ly/plotly-2.24.1.min.js\"></script>                <div id=\"9463ef94-c622-4a60-877c-6775b80b0604\" class=\"plotly-graph-div\" style=\"height:525px; width:100%;\"></div>            <script type=\"text/javascript\">                                    window.PLOTLYENV=window.PLOTLYENV || {};                                    if (document.getElementById(\"9463ef94-c622-4a60-877c-6775b80b0604\")) {                    Plotly.newPlot(                        \"9463ef94-c622-4a60-877c-6775b80b0604\",                        [{\"alignmentgroup\":\"True\",\"hovertemplate\":\"Stroke=0\\u003cbr\\u003eBMI Group=%{x}\\u003cbr\\u003eCount=%{text}\\u003cextra\\u003e\\u003c\\u002fextra\\u003e\",\"legendgroup\":\"0\",\"marker\":{\"color\":\"darkseagreen\",\"pattern\":{\"shape\":\"\"}},\"name\":\"0\",\"offsetgroup\":\"0\",\"orientation\":\"v\",\"showlegend\":true,\"text\":[336.0,1181.0,1338.0,957.0,488.0,322.0,78.0],\"textposition\":\"auto\",\"x\":[\"Underweight\",\"Normal\",\"Overweight\",\"Obese Class I\",\"Obese Class II\",\"Obese Class III\",\"Extreme Obesity\"],\"xaxis\":\"x\",\"y\":[336,1181,1338,957,488,322,78],\"yaxis\":\"y\",\"type\":\"bar\"},{\"alignmentgroup\":\"True\",\"hovertemplate\":\"Stroke=1\\u003cbr\\u003eBMI Group=%{x}\\u003cbr\\u003eCount=%{text}\\u003cextra\\u003e\\u003c\\u002fextra\\u003e\",\"legendgroup\":\"1\",\"marker\":{\"color\":\"slateblue\",\"pattern\":{\"shape\":\"\"}},\"name\":\"1\",\"offsetgroup\":\"1\",\"orientation\":\"v\",\"showlegend\":true,\"text\":[1.0,35.0,72.0,58.0,24.0,18.0,1.0],\"textposition\":\"auto\",\"x\":[\"Underweight\",\"Normal\",\"Overweight\",\"Obese Class I\",\"Obese Class II\",\"Obese Class III\",\"Extreme Obesity\"],\"xaxis\":\"x\",\"y\":[1,35,72,58,24,18,1],\"yaxis\":\"y\",\"type\":\"bar\"}],                        {\"template\":{\"data\":{\"histogram2dcontour\":[{\"type\":\"histogram2dcontour\",\"colorbar\":{\"outlinewidth\":0,\"ticks\":\"\"},\"colorscale\":[[0.0,\"#0d0887\"],[0.1111111111111111,\"#46039f\"],[0.2222222222222222,\"#7201a8\"],[0.3333333333333333,\"#9c179e\"],[0.4444444444444444,\"#bd3786\"],[0.5555555555555556,\"#d8576b\"],[0.6666666666666666,\"#ed7953\"],[0.7777777777777778,\"#fb9f3a\"],[0.8888888888888888,\"#fdca26\"],[1.0,\"#f0f921\"]]}],\"choropleth\":[{\"type\":\"choropleth\",\"colorbar\":{\"outlinewidth\":0,\"ticks\":\"\"}}],\"histogram2d\":[{\"type\":\"histogram2d\",\"colorbar\":{\"outlinewidth\":0,\"ticks\":\"\"},\"colorscale\":[[0.0,\"#0d0887\"],[0.1111111111111111,\"#46039f\"],[0.2222222222222222,\"#7201a8\"],[0.3333333333333333,\"#9c179e\"],[0.4444444444444444,\"#bd3786\"],[0.5555555555555556,\"#d8576b\"],[0.6666666666666666,\"#ed7953\"],[0.7777777777777778,\"#fb9f3a\"],[0.8888888888888888,\"#fdca26\"],[1.0,\"#f0f921\"]]}],\"heatmap\":[{\"type\":\"heatmap\",\"colorbar\":{\"outlinewidth\":0,\"ticks\":\"\"},\"colorscale\":[[0.0,\"#0d0887\"],[0.1111111111111111,\"#46039f\"],[0.2222222222222222,\"#7201a8\"],[0.3333333333333333,\"#9c179e\"],[0.4444444444444444,\"#bd3786\"],[0.5555555555555556,\"#d8576b\"],[0.6666666666666666,\"#ed7953\"],[0.7777777777777778,\"#fb9f3a\"],[0.8888888888888888,\"#fdca26\"],[1.0,\"#f0f921\"]]}],\"heatmapgl\":[{\"type\":\"heatmapgl\",\"colorbar\":{\"outlinewidth\":0,\"ticks\":\"\"},\"colorscale\":[[0.0,\"#0d0887\"],[0.1111111111111111,\"#46039f\"],[0.2222222222222222,\"#7201a8\"],[0.3333333333333333,\"#9c179e\"],[0.4444444444444444,\"#bd3786\"],[0.5555555555555556,\"#d8576b\"],[0.6666666666666666,\"#ed7953\"],[0.7777777777777778,\"#fb9f3a\"],[0.8888888888888888,\"#fdca26\"],[1.0,\"#f0f921\"]]}],\"contourcarpet\":[{\"type\":\"contourcarpet\",\"colorbar\":{\"outlinewidth\":0,\"ticks\":\"\"}}],\"contour\":[{\"type\":\"contour\",\"colorbar\":{\"outlinewidth\":0,\"ticks\":\"\"},\"colorscale\":[[0.0,\"#0d0887\"],[0.1111111111111111,\"#46039f\"],[0.2222222222222222,\"#7201a8\"],[0.3333333333333333,\"#9c179e\"],[0.4444444444444444,\"#bd3786\"],[0.5555555555555556,\"#d8576b\"],[0.6666666666666666,\"#ed7953\"],[0.7777777777777778,\"#fb9f3a\"],[0.8888888888888888,\"#fdca26\"],[1.0,\"#f0f921\"]]}],\"surface\":[{\"type\":\"surface\",\"colorbar\":{\"outlinewidth\":0,\"ticks\":\"\"},\"colorscale\":[[0.0,\"#0d0887\"],[0.1111111111111111,\"#46039f\"],[0.2222222222222222,\"#7201a8\"],[0.3333333333333333,\"#9c179e\"],[0.4444444444444444,\"#bd3786\"],[0.5555555555555556,\"#d8576b\"],[0.6666666666666666,\"#ed7953\"],[0.7777777777777778,\"#fb9f3a\"],[0.8888888888888888,\"#fdca26\"],[1.0,\"#f0f921\"]]}],\"mesh3d\":[{\"type\":\"mesh3d\",\"colorbar\":{\"outlinewidth\":0,\"ticks\":\"\"}}],\"scatter\":[{\"fillpattern\":{\"fillmode\":\"overlay\",\"size\":10,\"solidity\":0.2},\"type\":\"scatter\"}],\"parcoords\":[{\"type\":\"parcoords\",\"line\":{\"colorbar\":{\"outlinewidth\":0,\"ticks\":\"\"}}}],\"scatterpolargl\":[{\"type\":\"scatterpolargl\",\"marker\":{\"colorbar\":{\"outlinewidth\":0,\"ticks\":\"\"}}}],\"bar\":[{\"error_x\":{\"color\":\"#2a3f5f\"},\"error_y\":{\"color\":\"#2a3f5f\"},\"marker\":{\"line\":{\"color\":\"#E5ECF6\",\"width\":0.5},\"pattern\":{\"fillmode\":\"overlay\",\"size\":10,\"solidity\":0.2}},\"type\":\"bar\"}],\"scattergeo\":[{\"type\":\"scattergeo\",\"marker\":{\"colorbar\":{\"outlinewidth\":0,\"ticks\":\"\"}}}],\"scatterpolar\":[{\"type\":\"scatterpolar\",\"marker\":{\"colorbar\":{\"outlinewidth\":0,\"ticks\":\"\"}}}],\"histogram\":[{\"marker\":{\"pattern\":{\"fillmode\":\"overlay\",\"size\":10,\"solidity\":0.2}},\"type\":\"histogram\"}],\"scattergl\":[{\"type\":\"scattergl\",\"marker\":{\"colorbar\":{\"outlinewidth\":0,\"ticks\":\"\"}}}],\"scatter3d\":[{\"type\":\"scatter3d\",\"line\":{\"colorbar\":{\"outlinewidth\":0,\"ticks\":\"\"}},\"marker\":{\"colorbar\":{\"outlinewidth\":0,\"ticks\":\"\"}}}],\"scattermapbox\":[{\"type\":\"scattermapbox\",\"marker\":{\"colorbar\":{\"outlinewidth\":0,\"ticks\":\"\"}}}],\"scatterternary\":[{\"type\":\"scatterternary\",\"marker\":{\"colorbar\":{\"outlinewidth\":0,\"ticks\":\"\"}}}],\"scattercarpet\":[{\"type\":\"scattercarpet\",\"marker\":{\"colorbar\":{\"outlinewidth\":0,\"ticks\":\"\"}}}],\"carpet\":[{\"aaxis\":{\"endlinecolor\":\"#2a3f5f\",\"gridcolor\":\"white\",\"linecolor\":\"white\",\"minorgridcolor\":\"white\",\"startlinecolor\":\"#2a3f5f\"},\"baxis\":{\"endlinecolor\":\"#2a3f5f\",\"gridcolor\":\"white\",\"linecolor\":\"white\",\"minorgridcolor\":\"white\",\"startlinecolor\":\"#2a3f5f\"},\"type\":\"carpet\"}],\"table\":[{\"cells\":{\"fill\":{\"color\":\"#EBF0F8\"},\"line\":{\"color\":\"white\"}},\"header\":{\"fill\":{\"color\":\"#C8D4E3\"},\"line\":{\"color\":\"white\"}},\"type\":\"table\"}],\"barpolar\":[{\"marker\":{\"line\":{\"color\":\"#E5ECF6\",\"width\":0.5},\"pattern\":{\"fillmode\":\"overlay\",\"size\":10,\"solidity\":0.2}},\"type\":\"barpolar\"}],\"pie\":[{\"automargin\":true,\"type\":\"pie\"}]},\"layout\":{\"autotypenumbers\":\"strict\",\"colorway\":[\"#636efa\",\"#EF553B\",\"#00cc96\",\"#ab63fa\",\"#FFA15A\",\"#19d3f3\",\"#FF6692\",\"#B6E880\",\"#FF97FF\",\"#FECB52\"],\"font\":{\"color\":\"#2a3f5f\"},\"hovermode\":\"closest\",\"hoverlabel\":{\"align\":\"left\"},\"paper_bgcolor\":\"white\",\"plot_bgcolor\":\"#E5ECF6\",\"polar\":{\"bgcolor\":\"#E5ECF6\",\"angularaxis\":{\"gridcolor\":\"white\",\"linecolor\":\"white\",\"ticks\":\"\"},\"radialaxis\":{\"gridcolor\":\"white\",\"linecolor\":\"white\",\"ticks\":\"\"}},\"ternary\":{\"bgcolor\":\"#E5ECF6\",\"aaxis\":{\"gridcolor\":\"white\",\"linecolor\":\"white\",\"ticks\":\"\"},\"baxis\":{\"gridcolor\":\"white\",\"linecolor\":\"white\",\"ticks\":\"\"},\"caxis\":{\"gridcolor\":\"white\",\"linecolor\":\"white\",\"ticks\":\"\"}},\"coloraxis\":{\"colorbar\":{\"outlinewidth\":0,\"ticks\":\"\"}},\"colorscale\":{\"sequential\":[[0.0,\"#0d0887\"],[0.1111111111111111,\"#46039f\"],[0.2222222222222222,\"#7201a8\"],[0.3333333333333333,\"#9c179e\"],[0.4444444444444444,\"#bd3786\"],[0.5555555555555556,\"#d8576b\"],[0.6666666666666666,\"#ed7953\"],[0.7777777777777778,\"#fb9f3a\"],[0.8888888888888888,\"#fdca26\"],[1.0,\"#f0f921\"]],\"sequentialminus\":[[0.0,\"#0d0887\"],[0.1111111111111111,\"#46039f\"],[0.2222222222222222,\"#7201a8\"],[0.3333333333333333,\"#9c179e\"],[0.4444444444444444,\"#bd3786\"],[0.5555555555555556,\"#d8576b\"],[0.6666666666666666,\"#ed7953\"],[0.7777777777777778,\"#fb9f3a\"],[0.8888888888888888,\"#fdca26\"],[1.0,\"#f0f921\"]],\"diverging\":[[0,\"#8e0152\"],[0.1,\"#c51b7d\"],[0.2,\"#de77ae\"],[0.3,\"#f1b6da\"],[0.4,\"#fde0ef\"],[0.5,\"#f7f7f7\"],[0.6,\"#e6f5d0\"],[0.7,\"#b8e186\"],[0.8,\"#7fbc41\"],[0.9,\"#4d9221\"],[1,\"#276419\"]]},\"xaxis\":{\"gridcolor\":\"white\",\"linecolor\":\"white\",\"ticks\":\"\",\"title\":{\"standoff\":15},\"zerolinecolor\":\"white\",\"automargin\":true,\"zerolinewidth\":2},\"yaxis\":{\"gridcolor\":\"white\",\"linecolor\":\"white\",\"ticks\":\"\",\"title\":{\"standoff\":15},\"zerolinecolor\":\"white\",\"automargin\":true,\"zerolinewidth\":2},\"scene\":{\"xaxis\":{\"backgroundcolor\":\"#E5ECF6\",\"gridcolor\":\"white\",\"linecolor\":\"white\",\"showbackground\":true,\"ticks\":\"\",\"zerolinecolor\":\"white\",\"gridwidth\":2},\"yaxis\":{\"backgroundcolor\":\"#E5ECF6\",\"gridcolor\":\"white\",\"linecolor\":\"white\",\"showbackground\":true,\"ticks\":\"\",\"zerolinecolor\":\"white\",\"gridwidth\":2},\"zaxis\":{\"backgroundcolor\":\"#E5ECF6\",\"gridcolor\":\"white\",\"linecolor\":\"white\",\"showbackground\":true,\"ticks\":\"\",\"zerolinecolor\":\"white\",\"gridwidth\":2}},\"shapedefaults\":{\"line\":{\"color\":\"#2a3f5f\"}},\"annotationdefaults\":{\"arrowcolor\":\"#2a3f5f\",\"arrowhead\":0,\"arrowwidth\":1},\"geo\":{\"bgcolor\":\"white\",\"landcolor\":\"#E5ECF6\",\"subunitcolor\":\"white\",\"showland\":true,\"showlakes\":true,\"lakecolor\":\"white\"},\"title\":{\"x\":0.05},\"mapbox\":{\"style\":\"light\"}}},\"xaxis\":{\"anchor\":\"y\",\"domain\":[0.0,1.0],\"title\":{\"text\":\"BMI Group\"}},\"yaxis\":{\"anchor\":\"x\",\"domain\":[0.0,1.0],\"title\":{\"text\":\"Count\"}},\"legend\":{\"title\":{\"text\":\"Stroke\"},\"tracegroupgap\":0},\"title\":{\"text\":\"Distribution of Strokes by BMI Group\"},\"barmode\":\"relative\"},                        {\"responsive\": true}                    ).then(function(){\n",
              "                            \n",
              "var gd = document.getElementById('9463ef94-c622-4a60-877c-6775b80b0604');\n",
              "var x = new MutationObserver(function (mutations, observer) {{\n",
              "        var display = window.getComputedStyle(gd).display;\n",
              "        if (!display || display === 'none') {{\n",
              "            console.log([gd, 'removed!']);\n",
              "            Plotly.purge(gd);\n",
              "            observer.disconnect();\n",
              "        }}\n",
              "}});\n",
              "\n",
              "// Listen for the removal of the full notebook cells\n",
              "var notebookContainer = gd.closest('#notebook-container');\n",
              "if (notebookContainer) {{\n",
              "    x.observe(notebookContainer, {childList: true});\n",
              "}}\n",
              "\n",
              "// Listen for the clearing of the current output cell\n",
              "var outputEl = gd.closest('.output');\n",
              "if (outputEl) {{\n",
              "    x.observe(outputEl, {childList: true});\n",
              "}}\n",
              "\n",
              "                        })                };                            </script>        </div>\n",
              "</body>\n",
              "</html>"
            ]
          },
          "metadata": {}
        }
      ]
    },
    {
      "cell_type": "markdown",
      "source": [
        "The plot has a greater representation of overweight people, with the majority of the stroke cases."
      ],
      "metadata": {
        "id": "B-MZUfMOt3ZY"
      }
    },
    {
      "cell_type": "markdown",
      "source": [
        "### **EDA - Smoking status**"
      ],
      "metadata": {
        "id": "1meXvfmXuP1z"
      }
    },
    {
      "cell_type": "code",
      "source": [
        "df['smoking_status'] = df['smoking_status'].astype('category')\n",
        "\n",
        "smoking_stroke_counts = df.groupby(['smoking_status', 'stroke']).size().reset_index(name='Count')\n",
        "\n",
        "fig = px.bar(smoking_stroke_counts, x='smoking_status', y='Count', color='stroke',\n",
        "             title='Distribution of Strokes by Smoking Status',\n",
        "             labels={'smoking_status': 'Smoking Status', 'Count': 'Count', 'stroke': 'Stroke'},\n",
        "             color_discrete_sequence=['mediumseagreen', 'brown'],\n",
        "             text='Count')  # Specify 'Count' as the text to be displayed on each bar\n",
        "\n",
        "fig.update_layout(xaxis_title='Smoking Status', yaxis_title='Count', legend_title='Stroke')\n",
        "\n",
        "fig.update_layout(height=700, width=800)\n",
        "fig.show()\n"
      ],
      "metadata": {
        "colab": {
          "base_uri": "https://localhost:8080/",
          "height": 717
        },
        "id": "MtpNcf-klQ4z",
        "outputId": "8e900e07-0a13-4a07-f08c-f24a400265d0"
      },
      "execution_count": 26,
      "outputs": [
        {
          "output_type": "display_data",
          "data": {
            "text/html": [
              "<html>\n",
              "<head><meta charset=\"utf-8\" /></head>\n",
              "<body>\n",
              "    <div>            <script src=\"https://cdnjs.cloudflare.com/ajax/libs/mathjax/2.7.5/MathJax.js?config=TeX-AMS-MML_SVG\"></script><script type=\"text/javascript\">if (window.MathJax && window.MathJax.Hub && window.MathJax.Hub.Config) {window.MathJax.Hub.Config({SVG: {font: \"STIX-Web\"}});}</script>                <script type=\"text/javascript\">window.PlotlyConfig = {MathJaxConfig: 'local'};</script>\n",
              "        <script charset=\"utf-8\" src=\"https://cdn.plot.ly/plotly-2.24.1.min.js\"></script>                <div id=\"d7776153-5937-43ca-8bf0-df6c5723db59\" class=\"plotly-graph-div\" style=\"height:700px; width:800px;\"></div>            <script type=\"text/javascript\">                                    window.PLOTLYENV=window.PLOTLYENV || {};                                    if (document.getElementById(\"d7776153-5937-43ca-8bf0-df6c5723db59\")) {                    Plotly.newPlot(                        \"d7776153-5937-43ca-8bf0-df6c5723db59\",                        [{\"alignmentgroup\":\"True\",\"hovertemplate\":\"Stroke=0\\u003cbr\\u003eSmoking Status=%{x}\\u003cbr\\u003eCount=%{text}\\u003cextra\\u003e\\u003c\\u002fextra\\u003e\",\"legendgroup\":\"0\",\"marker\":{\"color\":\"mediumseagreen\",\"pattern\":{\"shape\":\"\"}},\"name\":\"0\",\"offsetgroup\":\"0\",\"orientation\":\"v\",\"showlegend\":true,\"text\":[1497.0,815.0,1802.0,747.0],\"textposition\":\"auto\",\"x\":[\"Unknown\",\"formerly smoked\",\"never smoked\",\"smokes\"],\"xaxis\":\"x\",\"y\":[1497,815,1802,747],\"yaxis\":\"y\",\"type\":\"bar\"},{\"alignmentgroup\":\"True\",\"hovertemplate\":\"Stroke=1\\u003cbr\\u003eSmoking Status=%{x}\\u003cbr\\u003eCount=%{text}\\u003cextra\\u003e\\u003c\\u002fextra\\u003e\",\"legendgroup\":\"1\",\"marker\":{\"color\":\"brown\",\"pattern\":{\"shape\":\"\"}},\"name\":\"1\",\"offsetgroup\":\"1\",\"orientation\":\"v\",\"showlegend\":true,\"text\":[47.0,70.0,90.0,42.0],\"textposition\":\"auto\",\"x\":[\"Unknown\",\"formerly smoked\",\"never smoked\",\"smokes\"],\"xaxis\":\"x\",\"y\":[47,70,90,42],\"yaxis\":\"y\",\"type\":\"bar\"}],                        {\"template\":{\"data\":{\"histogram2dcontour\":[{\"type\":\"histogram2dcontour\",\"colorbar\":{\"outlinewidth\":0,\"ticks\":\"\"},\"colorscale\":[[0.0,\"#0d0887\"],[0.1111111111111111,\"#46039f\"],[0.2222222222222222,\"#7201a8\"],[0.3333333333333333,\"#9c179e\"],[0.4444444444444444,\"#bd3786\"],[0.5555555555555556,\"#d8576b\"],[0.6666666666666666,\"#ed7953\"],[0.7777777777777778,\"#fb9f3a\"],[0.8888888888888888,\"#fdca26\"],[1.0,\"#f0f921\"]]}],\"choropleth\":[{\"type\":\"choropleth\",\"colorbar\":{\"outlinewidth\":0,\"ticks\":\"\"}}],\"histogram2d\":[{\"type\":\"histogram2d\",\"colorbar\":{\"outlinewidth\":0,\"ticks\":\"\"},\"colorscale\":[[0.0,\"#0d0887\"],[0.1111111111111111,\"#46039f\"],[0.2222222222222222,\"#7201a8\"],[0.3333333333333333,\"#9c179e\"],[0.4444444444444444,\"#bd3786\"],[0.5555555555555556,\"#d8576b\"],[0.6666666666666666,\"#ed7953\"],[0.7777777777777778,\"#fb9f3a\"],[0.8888888888888888,\"#fdca26\"],[1.0,\"#f0f921\"]]}],\"heatmap\":[{\"type\":\"heatmap\",\"colorbar\":{\"outlinewidth\":0,\"ticks\":\"\"},\"colorscale\":[[0.0,\"#0d0887\"],[0.1111111111111111,\"#46039f\"],[0.2222222222222222,\"#7201a8\"],[0.3333333333333333,\"#9c179e\"],[0.4444444444444444,\"#bd3786\"],[0.5555555555555556,\"#d8576b\"],[0.6666666666666666,\"#ed7953\"],[0.7777777777777778,\"#fb9f3a\"],[0.8888888888888888,\"#fdca26\"],[1.0,\"#f0f921\"]]}],\"heatmapgl\":[{\"type\":\"heatmapgl\",\"colorbar\":{\"outlinewidth\":0,\"ticks\":\"\"},\"colorscale\":[[0.0,\"#0d0887\"],[0.1111111111111111,\"#46039f\"],[0.2222222222222222,\"#7201a8\"],[0.3333333333333333,\"#9c179e\"],[0.4444444444444444,\"#bd3786\"],[0.5555555555555556,\"#d8576b\"],[0.6666666666666666,\"#ed7953\"],[0.7777777777777778,\"#fb9f3a\"],[0.8888888888888888,\"#fdca26\"],[1.0,\"#f0f921\"]]}],\"contourcarpet\":[{\"type\":\"contourcarpet\",\"colorbar\":{\"outlinewidth\":0,\"ticks\":\"\"}}],\"contour\":[{\"type\":\"contour\",\"colorbar\":{\"outlinewidth\":0,\"ticks\":\"\"},\"colorscale\":[[0.0,\"#0d0887\"],[0.1111111111111111,\"#46039f\"],[0.2222222222222222,\"#7201a8\"],[0.3333333333333333,\"#9c179e\"],[0.4444444444444444,\"#bd3786\"],[0.5555555555555556,\"#d8576b\"],[0.6666666666666666,\"#ed7953\"],[0.7777777777777778,\"#fb9f3a\"],[0.8888888888888888,\"#fdca26\"],[1.0,\"#f0f921\"]]}],\"surface\":[{\"type\":\"surface\",\"colorbar\":{\"outlinewidth\":0,\"ticks\":\"\"},\"colorscale\":[[0.0,\"#0d0887\"],[0.1111111111111111,\"#46039f\"],[0.2222222222222222,\"#7201a8\"],[0.3333333333333333,\"#9c179e\"],[0.4444444444444444,\"#bd3786\"],[0.5555555555555556,\"#d8576b\"],[0.6666666666666666,\"#ed7953\"],[0.7777777777777778,\"#fb9f3a\"],[0.8888888888888888,\"#fdca26\"],[1.0,\"#f0f921\"]]}],\"mesh3d\":[{\"type\":\"mesh3d\",\"colorbar\":{\"outlinewidth\":0,\"ticks\":\"\"}}],\"scatter\":[{\"fillpattern\":{\"fillmode\":\"overlay\",\"size\":10,\"solidity\":0.2},\"type\":\"scatter\"}],\"parcoords\":[{\"type\":\"parcoords\",\"line\":{\"colorbar\":{\"outlinewidth\":0,\"ticks\":\"\"}}}],\"scatterpolargl\":[{\"type\":\"scatterpolargl\",\"marker\":{\"colorbar\":{\"outlinewidth\":0,\"ticks\":\"\"}}}],\"bar\":[{\"error_x\":{\"color\":\"#2a3f5f\"},\"error_y\":{\"color\":\"#2a3f5f\"},\"marker\":{\"line\":{\"color\":\"#E5ECF6\",\"width\":0.5},\"pattern\":{\"fillmode\":\"overlay\",\"size\":10,\"solidity\":0.2}},\"type\":\"bar\"}],\"scattergeo\":[{\"type\":\"scattergeo\",\"marker\":{\"colorbar\":{\"outlinewidth\":0,\"ticks\":\"\"}}}],\"scatterpolar\":[{\"type\":\"scatterpolar\",\"marker\":{\"colorbar\":{\"outlinewidth\":0,\"ticks\":\"\"}}}],\"histogram\":[{\"marker\":{\"pattern\":{\"fillmode\":\"overlay\",\"size\":10,\"solidity\":0.2}},\"type\":\"histogram\"}],\"scattergl\":[{\"type\":\"scattergl\",\"marker\":{\"colorbar\":{\"outlinewidth\":0,\"ticks\":\"\"}}}],\"scatter3d\":[{\"type\":\"scatter3d\",\"line\":{\"colorbar\":{\"outlinewidth\":0,\"ticks\":\"\"}},\"marker\":{\"colorbar\":{\"outlinewidth\":0,\"ticks\":\"\"}}}],\"scattermapbox\":[{\"type\":\"scattermapbox\",\"marker\":{\"colorbar\":{\"outlinewidth\":0,\"ticks\":\"\"}}}],\"scatterternary\":[{\"type\":\"scatterternary\",\"marker\":{\"colorbar\":{\"outlinewidth\":0,\"ticks\":\"\"}}}],\"scattercarpet\":[{\"type\":\"scattercarpet\",\"marker\":{\"colorbar\":{\"outlinewidth\":0,\"ticks\":\"\"}}}],\"carpet\":[{\"aaxis\":{\"endlinecolor\":\"#2a3f5f\",\"gridcolor\":\"white\",\"linecolor\":\"white\",\"minorgridcolor\":\"white\",\"startlinecolor\":\"#2a3f5f\"},\"baxis\":{\"endlinecolor\":\"#2a3f5f\",\"gridcolor\":\"white\",\"linecolor\":\"white\",\"minorgridcolor\":\"white\",\"startlinecolor\":\"#2a3f5f\"},\"type\":\"carpet\"}],\"table\":[{\"cells\":{\"fill\":{\"color\":\"#EBF0F8\"},\"line\":{\"color\":\"white\"}},\"header\":{\"fill\":{\"color\":\"#C8D4E3\"},\"line\":{\"color\":\"white\"}},\"type\":\"table\"}],\"barpolar\":[{\"marker\":{\"line\":{\"color\":\"#E5ECF6\",\"width\":0.5},\"pattern\":{\"fillmode\":\"overlay\",\"size\":10,\"solidity\":0.2}},\"type\":\"barpolar\"}],\"pie\":[{\"automargin\":true,\"type\":\"pie\"}]},\"layout\":{\"autotypenumbers\":\"strict\",\"colorway\":[\"#636efa\",\"#EF553B\",\"#00cc96\",\"#ab63fa\",\"#FFA15A\",\"#19d3f3\",\"#FF6692\",\"#B6E880\",\"#FF97FF\",\"#FECB52\"],\"font\":{\"color\":\"#2a3f5f\"},\"hovermode\":\"closest\",\"hoverlabel\":{\"align\":\"left\"},\"paper_bgcolor\":\"white\",\"plot_bgcolor\":\"#E5ECF6\",\"polar\":{\"bgcolor\":\"#E5ECF6\",\"angularaxis\":{\"gridcolor\":\"white\",\"linecolor\":\"white\",\"ticks\":\"\"},\"radialaxis\":{\"gridcolor\":\"white\",\"linecolor\":\"white\",\"ticks\":\"\"}},\"ternary\":{\"bgcolor\":\"#E5ECF6\",\"aaxis\":{\"gridcolor\":\"white\",\"linecolor\":\"white\",\"ticks\":\"\"},\"baxis\":{\"gridcolor\":\"white\",\"linecolor\":\"white\",\"ticks\":\"\"},\"caxis\":{\"gridcolor\":\"white\",\"linecolor\":\"white\",\"ticks\":\"\"}},\"coloraxis\":{\"colorbar\":{\"outlinewidth\":0,\"ticks\":\"\"}},\"colorscale\":{\"sequential\":[[0.0,\"#0d0887\"],[0.1111111111111111,\"#46039f\"],[0.2222222222222222,\"#7201a8\"],[0.3333333333333333,\"#9c179e\"],[0.4444444444444444,\"#bd3786\"],[0.5555555555555556,\"#d8576b\"],[0.6666666666666666,\"#ed7953\"],[0.7777777777777778,\"#fb9f3a\"],[0.8888888888888888,\"#fdca26\"],[1.0,\"#f0f921\"]],\"sequentialminus\":[[0.0,\"#0d0887\"],[0.1111111111111111,\"#46039f\"],[0.2222222222222222,\"#7201a8\"],[0.3333333333333333,\"#9c179e\"],[0.4444444444444444,\"#bd3786\"],[0.5555555555555556,\"#d8576b\"],[0.6666666666666666,\"#ed7953\"],[0.7777777777777778,\"#fb9f3a\"],[0.8888888888888888,\"#fdca26\"],[1.0,\"#f0f921\"]],\"diverging\":[[0,\"#8e0152\"],[0.1,\"#c51b7d\"],[0.2,\"#de77ae\"],[0.3,\"#f1b6da\"],[0.4,\"#fde0ef\"],[0.5,\"#f7f7f7\"],[0.6,\"#e6f5d0\"],[0.7,\"#b8e186\"],[0.8,\"#7fbc41\"],[0.9,\"#4d9221\"],[1,\"#276419\"]]},\"xaxis\":{\"gridcolor\":\"white\",\"linecolor\":\"white\",\"ticks\":\"\",\"title\":{\"standoff\":15},\"zerolinecolor\":\"white\",\"automargin\":true,\"zerolinewidth\":2},\"yaxis\":{\"gridcolor\":\"white\",\"linecolor\":\"white\",\"ticks\":\"\",\"title\":{\"standoff\":15},\"zerolinecolor\":\"white\",\"automargin\":true,\"zerolinewidth\":2},\"scene\":{\"xaxis\":{\"backgroundcolor\":\"#E5ECF6\",\"gridcolor\":\"white\",\"linecolor\":\"white\",\"showbackground\":true,\"ticks\":\"\",\"zerolinecolor\":\"white\",\"gridwidth\":2},\"yaxis\":{\"backgroundcolor\":\"#E5ECF6\",\"gridcolor\":\"white\",\"linecolor\":\"white\",\"showbackground\":true,\"ticks\":\"\",\"zerolinecolor\":\"white\",\"gridwidth\":2},\"zaxis\":{\"backgroundcolor\":\"#E5ECF6\",\"gridcolor\":\"white\",\"linecolor\":\"white\",\"showbackground\":true,\"ticks\":\"\",\"zerolinecolor\":\"white\",\"gridwidth\":2}},\"shapedefaults\":{\"line\":{\"color\":\"#2a3f5f\"}},\"annotationdefaults\":{\"arrowcolor\":\"#2a3f5f\",\"arrowhead\":0,\"arrowwidth\":1},\"geo\":{\"bgcolor\":\"white\",\"landcolor\":\"#E5ECF6\",\"subunitcolor\":\"white\",\"showland\":true,\"showlakes\":true,\"lakecolor\":\"white\"},\"title\":{\"x\":0.05},\"mapbox\":{\"style\":\"light\"}}},\"xaxis\":{\"anchor\":\"y\",\"domain\":[0.0,1.0],\"title\":{\"text\":\"Smoking Status\"}},\"yaxis\":{\"anchor\":\"x\",\"domain\":[0.0,1.0],\"title\":{\"text\":\"Count\"}},\"legend\":{\"title\":{\"text\":\"Stroke\"},\"tracegroupgap\":0},\"title\":{\"text\":\"Distribution of Strokes by Smoking Status\"},\"barmode\":\"relative\",\"height\":700,\"width\":800},                        {\"responsive\": true}                    ).then(function(){\n",
              "                            \n",
              "var gd = document.getElementById('d7776153-5937-43ca-8bf0-df6c5723db59');\n",
              "var x = new MutationObserver(function (mutations, observer) {{\n",
              "        var display = window.getComputedStyle(gd).display;\n",
              "        if (!display || display === 'none') {{\n",
              "            console.log([gd, 'removed!']);\n",
              "            Plotly.purge(gd);\n",
              "            observer.disconnect();\n",
              "        }}\n",
              "}});\n",
              "\n",
              "// Listen for the removal of the full notebook cells\n",
              "var notebookContainer = gd.closest('#notebook-container');\n",
              "if (notebookContainer) {{\n",
              "    x.observe(notebookContainer, {childList: true});\n",
              "}}\n",
              "\n",
              "// Listen for the clearing of the current output cell\n",
              "var outputEl = gd.closest('.output');\n",
              "if (outputEl) {{\n",
              "    x.observe(outputEl, {childList: true});\n",
              "}}\n",
              "\n",
              "                        })                };                            </script>        </div>\n",
              "</body>\n",
              "</html>"
            ]
          },
          "metadata": {}
        }
      ]
    },
    {
      "cell_type": "markdown",
      "source": [
        "The population who have never smoked has majority representation and also has the highest stroke cases. We cannot comprehend much information from the above infograph."
      ],
      "metadata": {
        "id": "p4FPsSV7xGMf"
      }
    },
    {
      "cell_type": "markdown",
      "source": [
        "## **P-value analysis for all the variables with the target variable (stroke)**\n",
        "\n",
        "Here, we will do some statistical significance is assessed to determine whether there is a meaningful relationship between each independent variable and the target variable 'stroke'. The P-Value represents the probability of observing the observed results (or more extreme) under the assumption that the null hypothesis is true, where the null hypothesis typically states that there is no significant association between the variables.\n",
        "\n",
        "A low P-Value (usually below a chosen significance level, 0.05) suggests that there is enough evidence to reject the null hypothesis, indicating a statistically significant relationship between the independent variable and the likelihood of experiencing a stroke. On the other hand, a high P-Value suggests a lack of evidence to reject the null hypothesis, implying a non-significant association.\n",
        "\n",
        "I employed t-tests for continuous variables and chi-square tests for categorical variables. The choice of statistical tests depends on the nature of the variables being analyzed.\n",
        "\n",
        "This analysis helps identify which variables have a statistically significant impact on the occurrence of strokes, providing valuable insights into potential predictors of stroke risk in the dataset."
      ],
      "metadata": {
        "id": "QJwLxKGY8J_s"
      }
    },
    {
      "cell_type": "markdown",
      "source": [
        "### **Hypertension and Stroke**"
      ],
      "metadata": {
        "id": "Mt9_SnfPCOwZ"
      }
    },
    {
      "cell_type": "code",
      "source": [
        "# Creating a contingency table\n",
        "contingency_table = pd.crosstab(df['hypertension'], df['stroke'])\n",
        "\n",
        "# Performing chi-squared test\n",
        "chi2, p, _, _ = chi2_contingency(contingency_table)\n",
        "\n",
        "print(f'Chi-squared statistic: {chi2}')\n",
        "print(f'P-value: {p}')\n",
        "\n",
        "alpha = 0.05\n",
        "\n",
        "if p < alpha:\n",
        "    print('Reject the null hypothesis. There is a significant association between hypertension and stroke.')\n",
        "else:\n",
        "    print('Fail to reject the null hypothesis. There is no significant association between hypertension and stroke.')\n"
      ],
      "metadata": {
        "colab": {
          "base_uri": "https://localhost:8080/"
        },
        "id": "L_iYWypvlYv5",
        "outputId": "2ac7ba99-3c82-4657-9386-1ee6e5c01986"
      },
      "execution_count": 34,
      "outputs": [
        {
          "output_type": "stream",
          "name": "stdout",
          "text": [
            "Chi-squared statistic: 81.6053682482931\n",
            "P-value: 1.661621901511823e-19\n",
            "Reject the null hypothesis. There is a significant association between hypertension and stroke.\n"
          ]
        }
      ]
    },
    {
      "cell_type": "markdown",
      "source": [
        "### **Age and Stroke**"
      ],
      "metadata": {
        "id": "bydRgH17DsQS"
      }
    },
    {
      "cell_type": "code",
      "source": [
        "age_with_stroke = df[df['stroke'] == 1]['age'].dropna()\n",
        "age_without_stroke = df[df['stroke'] == 0]['age'].dropna()\n",
        "\n",
        "# Performing t-test\n",
        "t_statistic, p_value = ttest_ind(age_with_stroke, age_without_stroke, equal_var=False)\n",
        "\n",
        "print(f'T-statistic: {t_statistic}')\n",
        "print(f'P-value: {p_value}')\n",
        "\n",
        "alpha = 0.05\n",
        "\n",
        "if p_value < alpha:\n",
        "    print('Reject the null hypothesis. There is a significant difference in age between those with and without stroke.')\n",
        "else:\n",
        "    print('Fail to reject the null hypothesis. There is no significant difference in age between those with and without stroke.')\n"
      ],
      "metadata": {
        "colab": {
          "base_uri": "https://localhost:8080/"
        },
        "id": "AVsbM5N3VcfE",
        "outputId": "eccaaeaa-1f1f-4452-b4dd-9c413f232632"
      },
      "execution_count": 37,
      "outputs": [
        {
          "output_type": "stream",
          "name": "stdout",
          "text": [
            "T-statistic: 29.68626563006023\n",
            "P-value: 2.115684848347272e-95\n",
            "Reject the null hypothesis. There is a significant difference in age between those with and without stroke.\n"
          ]
        }
      ]
    },
    {
      "cell_type": "markdown",
      "source": [
        "### **Residence type and Stroke**"
      ],
      "metadata": {
        "id": "lELbYz_ID5_M"
      }
    },
    {
      "cell_type": "code",
      "source": [
        "# Creating a contingency table\n",
        "contingency_table = pd.crosstab(df['Residence_type'], df['stroke'])\n",
        "\n",
        "# Performing chi-squared test\n",
        "chi2, p, _, _ = chi2_contingency(contingency_table)\n",
        "\n",
        "print(f'Chi-squared statistic: {chi2}')\n",
        "print(f'P-value: {p}')\n",
        "\n",
        "alpha = 0.05\n",
        "\n",
        "if p < alpha:\n",
        "    print('Reject the null hypothesis. There is a significant association between residence type and stroke.')\n",
        "else:\n",
        "    print('Fail to reject the null hypothesis. There is no significant association between residence type and stroke.')\n"
      ],
      "metadata": {
        "colab": {
          "base_uri": "https://localhost:8080/"
        },
        "id": "K3decEuxVm-8",
        "outputId": "3577cad5-be4a-4de3-af6f-dbd9f6191432"
      },
      "execution_count": 39,
      "outputs": [
        {
          "output_type": "stream",
          "name": "stdout",
          "text": [
            "Chi-squared statistic: 1.0816367471627524\n",
            "P-value: 0.29833169286876987\n",
            "Fail to reject the null hypothesis. There is no significant association between residence type and stroke.\n"
          ]
        }
      ]
    },
    {
      "cell_type": "markdown",
      "source": [
        "### **Heart disease and Stroke**"
      ],
      "metadata": {
        "id": "wCrT_0SgEFP5"
      }
    },
    {
      "cell_type": "code",
      "source": [
        "# Creating a contingency table\n",
        "contingency_table = pd.crosstab(df['heart_disease'], df['stroke'])\n",
        "\n",
        "# Performing chi-squared test\n",
        "chi2, p, _, _ = chi2_contingency(contingency_table)\n",
        "\n",
        "print(f'Chi-squared statistic: {chi2}')\n",
        "print(f'P-value: {p}')\n",
        "\n",
        "alpha = 0.05\n",
        "\n",
        "if p < alpha:\n",
        "    print('Reject the null hypothesis. There is a significant association between heart disease and stroke.')\n",
        "else:\n",
        "    print('Fail to reject the null hypothesis. There is no significant association between heart disease and stroke.')\n"
      ],
      "metadata": {
        "colab": {
          "base_uri": "https://localhost:8080/"
        },
        "id": "paokaRdkXQoI",
        "outputId": "ba1700fc-e659-4deb-c732-5a36ff2fa6a2"
      },
      "execution_count": 40,
      "outputs": [
        {
          "output_type": "stream",
          "name": "stdout",
          "text": [
            "Chi-squared statistic: 90.25956125843324\n",
            "P-value: 2.0887845685229236e-21\n",
            "Reject the null hypothesis. There is a significant association between heart disease and stroke.\n"
          ]
        }
      ]
    },
    {
      "cell_type": "markdown",
      "source": [
        "### **Gender and Stroke**"
      ],
      "metadata": {
        "id": "ZspSPECoEaFl"
      }
    },
    {
      "cell_type": "code",
      "source": [
        "# Creating a contingency table\n",
        "contingency_table = pd.crosstab(df['gender'], df['stroke'])\n",
        "\n",
        "# Performing chi-squared test\n",
        "chi2, p, _, _ = chi2_contingency(contingency_table)\n",
        "\n",
        "print(f'Chi-squared statistic: {chi2}')\n",
        "print(f'P-value: {p}')\n",
        "\n",
        "alpha = 0.05\n",
        "\n",
        "if p < alpha:\n",
        "    print('Reject the null hypothesis. There is a significant association between gender and stroke.')\n",
        "else:\n",
        "    print('Fail to reject the null hypothesis. There is no significant association between gender and stroke.')\n"
      ],
      "metadata": {
        "colab": {
          "base_uri": "https://localhost:8080/"
        },
        "id": "n7_GDFUVXjgb",
        "outputId": "32475674-d518-4ce1-83d5-ec37399c5372"
      },
      "execution_count": 41,
      "outputs": [
        {
          "output_type": "stream",
          "name": "stdout",
          "text": [
            "Chi-squared statistic: 0.47258662884530234\n",
            "P-value: 0.7895490538408245\n",
            "Fail to reject the null hypothesis. There is no significant association between gender and stroke.\n"
          ]
        }
      ]
    },
    {
      "cell_type": "markdown",
      "source": [
        "### **Ever married and Stroke**"
      ],
      "metadata": {
        "id": "GdaJ1N7fEmDK"
      }
    },
    {
      "cell_type": "code",
      "source": [
        "# Creating a contingency table\n",
        "contingency_table = pd.crosstab(df['ever_married'], df['stroke'])\n",
        "\n",
        "# Perform the chi-square test\n",
        "chi2, p, _, _ = chi2_contingency(contingency_table)\n",
        "\n",
        "print(f\"Chi-Square Value: {chi2}\")\n",
        "print(f\"P-Value: {p}\")\n",
        "\n",
        "alpha = 0.05\n",
        "\n",
        "if p < alpha:\n",
        "    print(\"Reject the null hypothesis. There is a significant association between 'ever_married' and 'stroke'.\")\n",
        "else:\n",
        "    print(\"Fail to reject the null hypothesis. There is no significant association between 'ever_married' and 'stroke'.\")\n"
      ],
      "metadata": {
        "colab": {
          "base_uri": "https://localhost:8080/"
        },
        "id": "rdS1J12eo56I",
        "outputId": "08588c9e-d459-4fc5-f3d7-bbf44b393112"
      },
      "execution_count": 42,
      "outputs": [
        {
          "output_type": "stream",
          "name": "stdout",
          "text": [
            "Chi-Square Value: 58.923890259034195\n",
            "P-Value: 1.6389021142314745e-14\n",
            "Reject the null hypothesis. There is a significant association between 'ever_married' and 'stroke'.\n"
          ]
        }
      ]
    },
    {
      "cell_type": "markdown",
      "source": [
        "### **Work type and Stroke**"
      ],
      "metadata": {
        "id": "NKOMLbOdEuW2"
      }
    },
    {
      "cell_type": "code",
      "source": [
        "# Creating a contingency table\n",
        "contingency_table = pd.crosstab(df['work_type'], df['stroke'])\n",
        "\n",
        "# Performing the chi-square test\n",
        "chi2, p, _, _ = chi2_contingency(contingency_table)\n",
        "\n",
        "print(f\"Chi-Square Value: {chi2}\")\n",
        "print(f\"P-Value: {p}\")\n",
        "\n",
        "alpha = 0.05\n",
        "\n",
        "if p < alpha:\n",
        "    print(\"Reject the null hypothesis. There is a significant association between 'work_type' and 'stroke'.\")\n",
        "else:\n",
        "    print(\"Fail to reject the null hypothesis. There is no significant association between 'work_type' and 'stroke'.\")\n"
      ],
      "metadata": {
        "colab": {
          "base_uri": "https://localhost:8080/"
        },
        "id": "youz22yOpXo0",
        "outputId": "42869e95-51e5-49df-fb99-d8774563f0e0"
      },
      "execution_count": 43,
      "outputs": [
        {
          "output_type": "stream",
          "name": "stdout",
          "text": [
            "Chi-Square Value: 49.163511976675295\n",
            "P-Value: 5.397707801896119e-10\n",
            "Reject the null hypothesis. There is a significant association between 'work_type' and 'stroke'.\n"
          ]
        }
      ]
    },
    {
      "cell_type": "markdown",
      "source": [
        "### **Average glucose level and Stroke**"
      ],
      "metadata": {
        "id": "huRbETyXE5Y6"
      }
    },
    {
      "cell_type": "code",
      "source": [
        "stroke_group = df[df['stroke'] == 1]['avg_glucose_level']\n",
        "no_stroke_group = df[df['stroke'] == 0]['avg_glucose_level']\n",
        "\n",
        "# Performing independent samples t-test\n",
        "t_stat, p_value = ttest_ind(stroke_group, no_stroke_group, equal_var=False)\n",
        "\n",
        "print(f\"T-Statistic: {t_stat}\")\n",
        "print(f\"P-Value: {p_value}\")\n",
        "\n",
        "alpha = 0.05\n",
        "\n",
        "if p_value < alpha:\n",
        "    print(\"Reject the null hypothesis. There is a significant difference in 'avg_glucose_level' between stroke and no stroke groups.\")\n",
        "else:\n",
        "    print(\"Fail to reject the null hypothesis. There is no significant difference in 'avg_glucose_level' between stroke and no stroke groups.\")\n"
      ],
      "metadata": {
        "colab": {
          "base_uri": "https://localhost:8080/"
        },
        "id": "UCZjQqutplSc",
        "outputId": "f8e1138e-1620-4ce3-8fcd-a1579f9b9f05"
      },
      "execution_count": 44,
      "outputs": [
        {
          "output_type": "stream",
          "name": "stdout",
          "text": [
            "T-Statistic: 6.982411744792963\n",
            "P-Value: 2.4014366563697676e-11\n",
            "Reject the null hypothesis. There is a significant difference in 'avg_glucose_level' between stroke and no stroke groups.\n"
          ]
        }
      ]
    },
    {
      "cell_type": "markdown",
      "source": [
        "### **BMI and Stroke**"
      ],
      "metadata": {
        "id": "_Skxmk9QFEtr"
      }
    },
    {
      "cell_type": "code",
      "source": [
        "# Separating data into two groups based on stroke status\n",
        "stroke_group = df[df['stroke'] == 1]['bmi'].dropna()\n",
        "no_stroke_group = df[df['stroke'] == 0]['bmi'].dropna()\n",
        "\n",
        "# Performing t-test\n",
        "t_stat, p_value = ttest_ind(stroke_group, no_stroke_group, equal_var=False)\n",
        "\n",
        "print(f\"T-Statistic: {t_stat}\")\n",
        "print(f\"P-Value: {p_value}\")\n",
        "\n",
        "alpha = 0.05\n",
        "\n",
        "if p_value < alpha:\n",
        "    print(\"Reject the null hypothesis. There is a significant difference in 'bmi' between stroke and no stroke groups.\")\n",
        "else:\n",
        "    print(\"Fail to reject the null hypothesis. There is no significant difference in 'bmi' between stroke and no stroke groups.\")\n"
      ],
      "metadata": {
        "colab": {
          "base_uri": "https://localhost:8080/"
        },
        "id": "SXtAp1kuqJ2h",
        "outputId": "1b37f2cf-9aad-475e-835d-15dcebabf144"
      },
      "execution_count": 45,
      "outputs": [
        {
          "output_type": "stream",
          "name": "stdout",
          "text": [
            "T-Statistic: 3.6404100561556993\n",
            "P-Value: 0.0003339710013121601\n",
            "Reject the null hypothesis. There is a significant difference in 'bmi' between stroke and no stroke groups.\n"
          ]
        }
      ]
    },
    {
      "cell_type": "markdown",
      "source": [
        "### **Smoking status and Stroke**"
      ],
      "metadata": {
        "id": "ZG3bU3QkFO1o"
      }
    },
    {
      "cell_type": "code",
      "source": [
        "# Creating a contingency table\n",
        "contingency_table = pd.crosstab(df['smoking_status'], df['stroke'])\n",
        "\n",
        "# Performing chi-squared test\n",
        "chi2_stat, p_value, _, _ = chi2_contingency(contingency_table)\n",
        "\n",
        "print(f\"Chi-Squared Statistic: {chi2_stat}\")\n",
        "print(f\"P-Value: {p_value}\")\n",
        "\n",
        "alpha = 0.05\n",
        "\n",
        "if p_value < alpha:\n",
        "    print(\"Reject the null hypothesis. There is a significant association between 'smoking_status' and 'stroke'.\")\n",
        "else:\n",
        "    print(\"Fail to reject the null hypothesis. There is no significant association between 'smoking_status' and 'stroke'.\")\n"
      ],
      "metadata": {
        "colab": {
          "base_uri": "https://localhost:8080/"
        },
        "id": "_iY4risrqlsC",
        "outputId": "8b41498f-6ce1-430b-8d7a-fafbd26b32a9"
      },
      "execution_count": 46,
      "outputs": [
        {
          "output_type": "stream",
          "name": "stdout",
          "text": [
            "Chi-Squared Statistic: 29.147269191399264\n",
            "P-Value: 2.0853997025008455e-06\n",
            "Reject the null hypothesis. There is a significant association between 'smoking_status' and 'stroke'.\n"
          ]
        }
      ]
    },
    {
      "cell_type": "markdown",
      "source": [
        "## **Data Pre-processing**"
      ],
      "metadata": {
        "id": "6JhmMOsYFdia"
      }
    },
    {
      "cell_type": "markdown",
      "source": [
        "### **Handling Gender data column**\n",
        "As we saw earlier in EDA, we have 3 categories of gender: male, female and other. The other only has 1 observation, so it would be better for our model to generalize over only two categories. I am randomly assigning the 'other' observation to any of the other two choices."
      ],
      "metadata": {
        "id": "XOY7_syYF085"
      }
    },
    {
      "cell_type": "code",
      "source": [
        "# Finding indices where gender is 'other'\n",
        "other_indices = df[df['gender'] == 'Other'].index\n",
        "\n",
        "# Replacing 'Other' with a random value from the existing sample\n",
        "df.loc[other_indices, 'gender'] = np.random.choice(df['gender'].unique(), size=len(other_indices))"
      ],
      "metadata": {
        "id": "eZWPJLmyu4dC"
      },
      "execution_count": 90,
      "outputs": []
    },
    {
      "cell_type": "code",
      "source": [
        "df.describe(include = \"object\")"
      ],
      "metadata": {
        "colab": {
          "base_uri": "https://localhost:8080/",
          "height": 175
        },
        "id": "-SfF8P6pvPGv",
        "outputId": "06f677e8-7eb7-4882-cf52-b92740272f27"
      },
      "execution_count": 50,
      "outputs": [
        {
          "output_type": "execute_result",
          "data": {
            "text/plain": [
              "        gender ever_married work_type Residence_type smoking_status\n",
              "count     5110         5110      5110           5110           5110\n",
              "unique       2            2         5              2              4\n",
              "top     Female          Yes   Private          Urban   never smoked\n",
              "freq      2995         3353      2925           2596           1892"
            ],
            "text/html": [
              "\n",
              "  <div id=\"df-60406472-2064-4087-b2c3-33ecd67e5edc\" class=\"colab-df-container\">\n",
              "    <div>\n",
              "<style scoped>\n",
              "    .dataframe tbody tr th:only-of-type {\n",
              "        vertical-align: middle;\n",
              "    }\n",
              "\n",
              "    .dataframe tbody tr th {\n",
              "        vertical-align: top;\n",
              "    }\n",
              "\n",
              "    .dataframe thead th {\n",
              "        text-align: right;\n",
              "    }\n",
              "</style>\n",
              "<table border=\"1\" class=\"dataframe\">\n",
              "  <thead>\n",
              "    <tr style=\"text-align: right;\">\n",
              "      <th></th>\n",
              "      <th>gender</th>\n",
              "      <th>ever_married</th>\n",
              "      <th>work_type</th>\n",
              "      <th>Residence_type</th>\n",
              "      <th>smoking_status</th>\n",
              "    </tr>\n",
              "  </thead>\n",
              "  <tbody>\n",
              "    <tr>\n",
              "      <th>count</th>\n",
              "      <td>5110</td>\n",
              "      <td>5110</td>\n",
              "      <td>5110</td>\n",
              "      <td>5110</td>\n",
              "      <td>5110</td>\n",
              "    </tr>\n",
              "    <tr>\n",
              "      <th>unique</th>\n",
              "      <td>2</td>\n",
              "      <td>2</td>\n",
              "      <td>5</td>\n",
              "      <td>2</td>\n",
              "      <td>4</td>\n",
              "    </tr>\n",
              "    <tr>\n",
              "      <th>top</th>\n",
              "      <td>Female</td>\n",
              "      <td>Yes</td>\n",
              "      <td>Private</td>\n",
              "      <td>Urban</td>\n",
              "      <td>never smoked</td>\n",
              "    </tr>\n",
              "    <tr>\n",
              "      <th>freq</th>\n",
              "      <td>2995</td>\n",
              "      <td>3353</td>\n",
              "      <td>2925</td>\n",
              "      <td>2596</td>\n",
              "      <td>1892</td>\n",
              "    </tr>\n",
              "  </tbody>\n",
              "</table>\n",
              "</div>\n",
              "    <div class=\"colab-df-buttons\">\n",
              "\n",
              "  <div class=\"colab-df-container\">\n",
              "    <button class=\"colab-df-convert\" onclick=\"convertToInteractive('df-60406472-2064-4087-b2c3-33ecd67e5edc')\"\n",
              "            title=\"Convert this dataframe to an interactive table.\"\n",
              "            style=\"display:none;\">\n",
              "\n",
              "  <svg xmlns=\"http://www.w3.org/2000/svg\" height=\"24px\" viewBox=\"0 -960 960 960\">\n",
              "    <path d=\"M120-120v-720h720v720H120Zm60-500h600v-160H180v160Zm220 220h160v-160H400v160Zm0 220h160v-160H400v160ZM180-400h160v-160H180v160Zm440 0h160v-160H620v160ZM180-180h160v-160H180v160Zm440 0h160v-160H620v160Z\"/>\n",
              "  </svg>\n",
              "    </button>\n",
              "\n",
              "  <style>\n",
              "    .colab-df-container {\n",
              "      display:flex;\n",
              "      gap: 12px;\n",
              "    }\n",
              "\n",
              "    .colab-df-convert {\n",
              "      background-color: #E8F0FE;\n",
              "      border: none;\n",
              "      border-radius: 50%;\n",
              "      cursor: pointer;\n",
              "      display: none;\n",
              "      fill: #1967D2;\n",
              "      height: 32px;\n",
              "      padding: 0 0 0 0;\n",
              "      width: 32px;\n",
              "    }\n",
              "\n",
              "    .colab-df-convert:hover {\n",
              "      background-color: #E2EBFA;\n",
              "      box-shadow: 0px 1px 2px rgba(60, 64, 67, 0.3), 0px 1px 3px 1px rgba(60, 64, 67, 0.15);\n",
              "      fill: #174EA6;\n",
              "    }\n",
              "\n",
              "    .colab-df-buttons div {\n",
              "      margin-bottom: 4px;\n",
              "    }\n",
              "\n",
              "    [theme=dark] .colab-df-convert {\n",
              "      background-color: #3B4455;\n",
              "      fill: #D2E3FC;\n",
              "    }\n",
              "\n",
              "    [theme=dark] .colab-df-convert:hover {\n",
              "      background-color: #434B5C;\n",
              "      box-shadow: 0px 1px 3px 1px rgba(0, 0, 0, 0.15);\n",
              "      filter: drop-shadow(0px 1px 2px rgba(0, 0, 0, 0.3));\n",
              "      fill: #FFFFFF;\n",
              "    }\n",
              "  </style>\n",
              "\n",
              "    <script>\n",
              "      const buttonEl =\n",
              "        document.querySelector('#df-60406472-2064-4087-b2c3-33ecd67e5edc button.colab-df-convert');\n",
              "      buttonEl.style.display =\n",
              "        google.colab.kernel.accessAllowed ? 'block' : 'none';\n",
              "\n",
              "      async function convertToInteractive(key) {\n",
              "        const element = document.querySelector('#df-60406472-2064-4087-b2c3-33ecd67e5edc');\n",
              "        const dataTable =\n",
              "          await google.colab.kernel.invokeFunction('convertToInteractive',\n",
              "                                                    [key], {});\n",
              "        if (!dataTable) return;\n",
              "\n",
              "        const docLinkHtml = 'Like what you see? Visit the ' +\n",
              "          '<a target=\"_blank\" href=https://colab.research.google.com/notebooks/data_table.ipynb>data table notebook</a>'\n",
              "          + ' to learn more about interactive tables.';\n",
              "        element.innerHTML = '';\n",
              "        dataTable['output_type'] = 'display_data';\n",
              "        await google.colab.output.renderOutput(dataTable, element);\n",
              "        const docLink = document.createElement('div');\n",
              "        docLink.innerHTML = docLinkHtml;\n",
              "        element.appendChild(docLink);\n",
              "      }\n",
              "    </script>\n",
              "  </div>\n",
              "\n",
              "\n",
              "<div id=\"df-2e51712c-9e91-4fc2-8b93-914af9756cba\">\n",
              "  <button class=\"colab-df-quickchart\" onclick=\"quickchart('df-2e51712c-9e91-4fc2-8b93-914af9756cba')\"\n",
              "            title=\"Suggest charts\"\n",
              "            style=\"display:none;\">\n",
              "\n",
              "<svg xmlns=\"http://www.w3.org/2000/svg\" height=\"24px\"viewBox=\"0 0 24 24\"\n",
              "     width=\"24px\">\n",
              "    <g>\n",
              "        <path d=\"M19 3H5c-1.1 0-2 .9-2 2v14c0 1.1.9 2 2 2h14c1.1 0 2-.9 2-2V5c0-1.1-.9-2-2-2zM9 17H7v-7h2v7zm4 0h-2V7h2v10zm4 0h-2v-4h2v4z\"/>\n",
              "    </g>\n",
              "</svg>\n",
              "  </button>\n",
              "\n",
              "<style>\n",
              "  .colab-df-quickchart {\n",
              "      --bg-color: #E8F0FE;\n",
              "      --fill-color: #1967D2;\n",
              "      --hover-bg-color: #E2EBFA;\n",
              "      --hover-fill-color: #174EA6;\n",
              "      --disabled-fill-color: #AAA;\n",
              "      --disabled-bg-color: #DDD;\n",
              "  }\n",
              "\n",
              "  [theme=dark] .colab-df-quickchart {\n",
              "      --bg-color: #3B4455;\n",
              "      --fill-color: #D2E3FC;\n",
              "      --hover-bg-color: #434B5C;\n",
              "      --hover-fill-color: #FFFFFF;\n",
              "      --disabled-bg-color: #3B4455;\n",
              "      --disabled-fill-color: #666;\n",
              "  }\n",
              "\n",
              "  .colab-df-quickchart {\n",
              "    background-color: var(--bg-color);\n",
              "    border: none;\n",
              "    border-radius: 50%;\n",
              "    cursor: pointer;\n",
              "    display: none;\n",
              "    fill: var(--fill-color);\n",
              "    height: 32px;\n",
              "    padding: 0;\n",
              "    width: 32px;\n",
              "  }\n",
              "\n",
              "  .colab-df-quickchart:hover {\n",
              "    background-color: var(--hover-bg-color);\n",
              "    box-shadow: 0 1px 2px rgba(60, 64, 67, 0.3), 0 1px 3px 1px rgba(60, 64, 67, 0.15);\n",
              "    fill: var(--button-hover-fill-color);\n",
              "  }\n",
              "\n",
              "  .colab-df-quickchart-complete:disabled,\n",
              "  .colab-df-quickchart-complete:disabled:hover {\n",
              "    background-color: var(--disabled-bg-color);\n",
              "    fill: var(--disabled-fill-color);\n",
              "    box-shadow: none;\n",
              "  }\n",
              "\n",
              "  .colab-df-spinner {\n",
              "    border: 2px solid var(--fill-color);\n",
              "    border-color: transparent;\n",
              "    border-bottom-color: var(--fill-color);\n",
              "    animation:\n",
              "      spin 1s steps(1) infinite;\n",
              "  }\n",
              "\n",
              "  @keyframes spin {\n",
              "    0% {\n",
              "      border-color: transparent;\n",
              "      border-bottom-color: var(--fill-color);\n",
              "      border-left-color: var(--fill-color);\n",
              "    }\n",
              "    20% {\n",
              "      border-color: transparent;\n",
              "      border-left-color: var(--fill-color);\n",
              "      border-top-color: var(--fill-color);\n",
              "    }\n",
              "    30% {\n",
              "      border-color: transparent;\n",
              "      border-left-color: var(--fill-color);\n",
              "      border-top-color: var(--fill-color);\n",
              "      border-right-color: var(--fill-color);\n",
              "    }\n",
              "    40% {\n",
              "      border-color: transparent;\n",
              "      border-right-color: var(--fill-color);\n",
              "      border-top-color: var(--fill-color);\n",
              "    }\n",
              "    60% {\n",
              "      border-color: transparent;\n",
              "      border-right-color: var(--fill-color);\n",
              "    }\n",
              "    80% {\n",
              "      border-color: transparent;\n",
              "      border-right-color: var(--fill-color);\n",
              "      border-bottom-color: var(--fill-color);\n",
              "    }\n",
              "    90% {\n",
              "      border-color: transparent;\n",
              "      border-bottom-color: var(--fill-color);\n",
              "    }\n",
              "  }\n",
              "</style>\n",
              "\n",
              "  <script>\n",
              "    async function quickchart(key) {\n",
              "      const quickchartButtonEl =\n",
              "        document.querySelector('#' + key + ' button');\n",
              "      quickchartButtonEl.disabled = true;  // To prevent multiple clicks.\n",
              "      quickchartButtonEl.classList.add('colab-df-spinner');\n",
              "      try {\n",
              "        const charts = await google.colab.kernel.invokeFunction(\n",
              "            'suggestCharts', [key], {});\n",
              "      } catch (error) {\n",
              "        console.error('Error during call to suggestCharts:', error);\n",
              "      }\n",
              "      quickchartButtonEl.classList.remove('colab-df-spinner');\n",
              "      quickchartButtonEl.classList.add('colab-df-quickchart-complete');\n",
              "    }\n",
              "    (() => {\n",
              "      let quickchartButtonEl =\n",
              "        document.querySelector('#df-2e51712c-9e91-4fc2-8b93-914af9756cba button');\n",
              "      quickchartButtonEl.style.display =\n",
              "        google.colab.kernel.accessAllowed ? 'block' : 'none';\n",
              "    })();\n",
              "  </script>\n",
              "</div>\n",
              "    </div>\n",
              "  </div>\n"
            ]
          },
          "metadata": {},
          "execution_count": 50
        }
      ]
    },
    {
      "cell_type": "markdown",
      "source": [
        "As we can see, now the gender column has only 2 categories."
      ],
      "metadata": {
        "id": "by9IfczrLOHC"
      }
    },
    {
      "cell_type": "markdown",
      "source": [
        "### **Handling the missing values in the BMI data column**"
      ],
      "metadata": {
        "id": "hkuO9xwHLyE8"
      }
    },
    {
      "cell_type": "markdown",
      "source": [
        "Since, there were 201 missing values in the BMI data column, I will randomly fill those missing values with randomly chosen values from the existing data."
      ],
      "metadata": {
        "id": "KR4NzGK2L8Yz"
      }
    },
    {
      "cell_type": "code",
      "source": [
        "# Generating random indices for missing 'bmi' values\n",
        "missing_bmi_indices = df[df['bmi'].isnull()].index\n",
        "\n",
        "# Replacing missing 'bmi' values with random values from the existing data\n",
        "df.loc[missing_bmi_indices, 'bmi'] = np.random.choice(df['bmi'].dropna(), size=len(missing_bmi_indices))"
      ],
      "metadata": {
        "id": "s_v6jkszLkEx"
      },
      "execution_count": 91,
      "outputs": []
    },
    {
      "cell_type": "markdown",
      "source": [
        "Visualizing the resampled BMI data column that comprises the existing data as well as the newly filled missing values."
      ],
      "metadata": {
        "id": "QlwAa0JqLqvJ"
      }
    },
    {
      "cell_type": "code",
      "source": [
        "df['stroke'] = df['stroke'].astype('category')\n",
        "\n",
        "# Defining BMI bins and labels\n",
        "bmi_bins = [10, 18.5, 24.9, 29.9, 34.9, 39.9, 50, float('inf')]\n",
        "bmi_labels = ['Underweight', 'Normal', 'Overweight', 'Obese Class I', 'Obese Class II', 'Obese Class III', 'Extreme Obesity']\n",
        "\n",
        "bmi_stroke_counts = df.groupby([pd.cut(df['bmi'], bins=bmi_bins, labels=bmi_labels, right=False), 'stroke']).size().reset_index(name='Count')\n",
        "\n",
        "fig = px.bar(bmi_stroke_counts, x='bmi', y='Count', color='stroke',\n",
        "             title='Distribution of Strokes by BMI Group',\n",
        "             labels={'bmi': 'BMI Group', 'Count': 'Count', 'stroke': 'Stroke'},\n",
        "             color_discrete_sequence=['darkseagreen','slateblue'],\n",
        "             text='Count')  # Specify 'Count' as the text to be displayed on each bar\n",
        "\n",
        "fig.update_layout(xaxis_title='BMI Group', yaxis_title='Count', legend_title='Stroke')\n",
        "\n",
        "fig.show()\n"
      ],
      "metadata": {
        "colab": {
          "base_uri": "https://localhost:8080/",
          "height": 542
        },
        "outputId": "b2dff2bc-fba3-4881-8022-a0f5f8454c87",
        "id": "bfwxlEZoLq2i"
      },
      "execution_count": 92,
      "outputs": [
        {
          "output_type": "display_data",
          "data": {
            "text/html": [
              "<html>\n",
              "<head><meta charset=\"utf-8\" /></head>\n",
              "<body>\n",
              "    <div>            <script src=\"https://cdnjs.cloudflare.com/ajax/libs/mathjax/2.7.5/MathJax.js?config=TeX-AMS-MML_SVG\"></script><script type=\"text/javascript\">if (window.MathJax && window.MathJax.Hub && window.MathJax.Hub.Config) {window.MathJax.Hub.Config({SVG: {font: \"STIX-Web\"}});}</script>                <script type=\"text/javascript\">window.PlotlyConfig = {MathJaxConfig: 'local'};</script>\n",
              "        <script charset=\"utf-8\" src=\"https://cdn.plot.ly/plotly-2.24.1.min.js\"></script>                <div id=\"393c4536-4723-413f-87a1-d9ff9d1c56b8\" class=\"plotly-graph-div\" style=\"height:525px; width:100%;\"></div>            <script type=\"text/javascript\">                                    window.PLOTLYENV=window.PLOTLYENV || {};                                    if (document.getElementById(\"393c4536-4723-413f-87a1-d9ff9d1c56b8\")) {                    Plotly.newPlot(                        \"393c4536-4723-413f-87a1-d9ff9d1c56b8\",                        [{\"alignmentgroup\":\"True\",\"hovertemplate\":\"Stroke=0\\u003cbr\\u003eBMI Group=%{x}\\u003cbr\\u003eCount=%{text}\\u003cextra\\u003e\\u003c\\u002fextra\\u003e\",\"legendgroup\":\"0\",\"marker\":{\"color\":\"darkseagreen\",\"pattern\":{\"shape\":\"\"}},\"name\":\"0\",\"offsetgroup\":\"0\",\"orientation\":\"v\",\"showlegend\":true,\"text\":[345.0,1210.0,1384.0,996.0,507.0,339.0,80.0],\"textposition\":\"auto\",\"x\":[\"Underweight\",\"Normal\",\"Overweight\",\"Obese Class I\",\"Obese Class II\",\"Obese Class III\",\"Extreme Obesity\"],\"xaxis\":\"x\",\"y\":[345,1210,1384,996,507,339,80],\"yaxis\":\"y\",\"type\":\"bar\"},{\"alignmentgroup\":\"True\",\"hovertemplate\":\"Stroke=1\\u003cbr\\u003eBMI Group=%{x}\\u003cbr\\u003eCount=%{text}\\u003cextra\\u003e\\u003c\\u002fextra\\u003e\",\"legendgroup\":\"1\",\"marker\":{\"color\":\"slateblue\",\"pattern\":{\"shape\":\"\"}},\"name\":\"1\",\"offsetgroup\":\"1\",\"orientation\":\"v\",\"showlegend\":true,\"text\":[3.0,43.0,87.0,63.0,30.0,21.0,2.0],\"textposition\":\"auto\",\"x\":[\"Underweight\",\"Normal\",\"Overweight\",\"Obese Class I\",\"Obese Class II\",\"Obese Class III\",\"Extreme Obesity\"],\"xaxis\":\"x\",\"y\":[3,43,87,63,30,21,2],\"yaxis\":\"y\",\"type\":\"bar\"}],                        {\"template\":{\"data\":{\"histogram2dcontour\":[{\"type\":\"histogram2dcontour\",\"colorbar\":{\"outlinewidth\":0,\"ticks\":\"\"},\"colorscale\":[[0.0,\"#0d0887\"],[0.1111111111111111,\"#46039f\"],[0.2222222222222222,\"#7201a8\"],[0.3333333333333333,\"#9c179e\"],[0.4444444444444444,\"#bd3786\"],[0.5555555555555556,\"#d8576b\"],[0.6666666666666666,\"#ed7953\"],[0.7777777777777778,\"#fb9f3a\"],[0.8888888888888888,\"#fdca26\"],[1.0,\"#f0f921\"]]}],\"choropleth\":[{\"type\":\"choropleth\",\"colorbar\":{\"outlinewidth\":0,\"ticks\":\"\"}}],\"histogram2d\":[{\"type\":\"histogram2d\",\"colorbar\":{\"outlinewidth\":0,\"ticks\":\"\"},\"colorscale\":[[0.0,\"#0d0887\"],[0.1111111111111111,\"#46039f\"],[0.2222222222222222,\"#7201a8\"],[0.3333333333333333,\"#9c179e\"],[0.4444444444444444,\"#bd3786\"],[0.5555555555555556,\"#d8576b\"],[0.6666666666666666,\"#ed7953\"],[0.7777777777777778,\"#fb9f3a\"],[0.8888888888888888,\"#fdca26\"],[1.0,\"#f0f921\"]]}],\"heatmap\":[{\"type\":\"heatmap\",\"colorbar\":{\"outlinewidth\":0,\"ticks\":\"\"},\"colorscale\":[[0.0,\"#0d0887\"],[0.1111111111111111,\"#46039f\"],[0.2222222222222222,\"#7201a8\"],[0.3333333333333333,\"#9c179e\"],[0.4444444444444444,\"#bd3786\"],[0.5555555555555556,\"#d8576b\"],[0.6666666666666666,\"#ed7953\"],[0.7777777777777778,\"#fb9f3a\"],[0.8888888888888888,\"#fdca26\"],[1.0,\"#f0f921\"]]}],\"heatmapgl\":[{\"type\":\"heatmapgl\",\"colorbar\":{\"outlinewidth\":0,\"ticks\":\"\"},\"colorscale\":[[0.0,\"#0d0887\"],[0.1111111111111111,\"#46039f\"],[0.2222222222222222,\"#7201a8\"],[0.3333333333333333,\"#9c179e\"],[0.4444444444444444,\"#bd3786\"],[0.5555555555555556,\"#d8576b\"],[0.6666666666666666,\"#ed7953\"],[0.7777777777777778,\"#fb9f3a\"],[0.8888888888888888,\"#fdca26\"],[1.0,\"#f0f921\"]]}],\"contourcarpet\":[{\"type\":\"contourcarpet\",\"colorbar\":{\"outlinewidth\":0,\"ticks\":\"\"}}],\"contour\":[{\"type\":\"contour\",\"colorbar\":{\"outlinewidth\":0,\"ticks\":\"\"},\"colorscale\":[[0.0,\"#0d0887\"],[0.1111111111111111,\"#46039f\"],[0.2222222222222222,\"#7201a8\"],[0.3333333333333333,\"#9c179e\"],[0.4444444444444444,\"#bd3786\"],[0.5555555555555556,\"#d8576b\"],[0.6666666666666666,\"#ed7953\"],[0.7777777777777778,\"#fb9f3a\"],[0.8888888888888888,\"#fdca26\"],[1.0,\"#f0f921\"]]}],\"surface\":[{\"type\":\"surface\",\"colorbar\":{\"outlinewidth\":0,\"ticks\":\"\"},\"colorscale\":[[0.0,\"#0d0887\"],[0.1111111111111111,\"#46039f\"],[0.2222222222222222,\"#7201a8\"],[0.3333333333333333,\"#9c179e\"],[0.4444444444444444,\"#bd3786\"],[0.5555555555555556,\"#d8576b\"],[0.6666666666666666,\"#ed7953\"],[0.7777777777777778,\"#fb9f3a\"],[0.8888888888888888,\"#fdca26\"],[1.0,\"#f0f921\"]]}],\"mesh3d\":[{\"type\":\"mesh3d\",\"colorbar\":{\"outlinewidth\":0,\"ticks\":\"\"}}],\"scatter\":[{\"fillpattern\":{\"fillmode\":\"overlay\",\"size\":10,\"solidity\":0.2},\"type\":\"scatter\"}],\"parcoords\":[{\"type\":\"parcoords\",\"line\":{\"colorbar\":{\"outlinewidth\":0,\"ticks\":\"\"}}}],\"scatterpolargl\":[{\"type\":\"scatterpolargl\",\"marker\":{\"colorbar\":{\"outlinewidth\":0,\"ticks\":\"\"}}}],\"bar\":[{\"error_x\":{\"color\":\"#2a3f5f\"},\"error_y\":{\"color\":\"#2a3f5f\"},\"marker\":{\"line\":{\"color\":\"#E5ECF6\",\"width\":0.5},\"pattern\":{\"fillmode\":\"overlay\",\"size\":10,\"solidity\":0.2}},\"type\":\"bar\"}],\"scattergeo\":[{\"type\":\"scattergeo\",\"marker\":{\"colorbar\":{\"outlinewidth\":0,\"ticks\":\"\"}}}],\"scatterpolar\":[{\"type\":\"scatterpolar\",\"marker\":{\"colorbar\":{\"outlinewidth\":0,\"ticks\":\"\"}}}],\"histogram\":[{\"marker\":{\"pattern\":{\"fillmode\":\"overlay\",\"size\":10,\"solidity\":0.2}},\"type\":\"histogram\"}],\"scattergl\":[{\"type\":\"scattergl\",\"marker\":{\"colorbar\":{\"outlinewidth\":0,\"ticks\":\"\"}}}],\"scatter3d\":[{\"type\":\"scatter3d\",\"line\":{\"colorbar\":{\"outlinewidth\":0,\"ticks\":\"\"}},\"marker\":{\"colorbar\":{\"outlinewidth\":0,\"ticks\":\"\"}}}],\"scattermapbox\":[{\"type\":\"scattermapbox\",\"marker\":{\"colorbar\":{\"outlinewidth\":0,\"ticks\":\"\"}}}],\"scatterternary\":[{\"type\":\"scatterternary\",\"marker\":{\"colorbar\":{\"outlinewidth\":0,\"ticks\":\"\"}}}],\"scattercarpet\":[{\"type\":\"scattercarpet\",\"marker\":{\"colorbar\":{\"outlinewidth\":0,\"ticks\":\"\"}}}],\"carpet\":[{\"aaxis\":{\"endlinecolor\":\"#2a3f5f\",\"gridcolor\":\"white\",\"linecolor\":\"white\",\"minorgridcolor\":\"white\",\"startlinecolor\":\"#2a3f5f\"},\"baxis\":{\"endlinecolor\":\"#2a3f5f\",\"gridcolor\":\"white\",\"linecolor\":\"white\",\"minorgridcolor\":\"white\",\"startlinecolor\":\"#2a3f5f\"},\"type\":\"carpet\"}],\"table\":[{\"cells\":{\"fill\":{\"color\":\"#EBF0F8\"},\"line\":{\"color\":\"white\"}},\"header\":{\"fill\":{\"color\":\"#C8D4E3\"},\"line\":{\"color\":\"white\"}},\"type\":\"table\"}],\"barpolar\":[{\"marker\":{\"line\":{\"color\":\"#E5ECF6\",\"width\":0.5},\"pattern\":{\"fillmode\":\"overlay\",\"size\":10,\"solidity\":0.2}},\"type\":\"barpolar\"}],\"pie\":[{\"automargin\":true,\"type\":\"pie\"}]},\"layout\":{\"autotypenumbers\":\"strict\",\"colorway\":[\"#636efa\",\"#EF553B\",\"#00cc96\",\"#ab63fa\",\"#FFA15A\",\"#19d3f3\",\"#FF6692\",\"#B6E880\",\"#FF97FF\",\"#FECB52\"],\"font\":{\"color\":\"#2a3f5f\"},\"hovermode\":\"closest\",\"hoverlabel\":{\"align\":\"left\"},\"paper_bgcolor\":\"white\",\"plot_bgcolor\":\"#E5ECF6\",\"polar\":{\"bgcolor\":\"#E5ECF6\",\"angularaxis\":{\"gridcolor\":\"white\",\"linecolor\":\"white\",\"ticks\":\"\"},\"radialaxis\":{\"gridcolor\":\"white\",\"linecolor\":\"white\",\"ticks\":\"\"}},\"ternary\":{\"bgcolor\":\"#E5ECF6\",\"aaxis\":{\"gridcolor\":\"white\",\"linecolor\":\"white\",\"ticks\":\"\"},\"baxis\":{\"gridcolor\":\"white\",\"linecolor\":\"white\",\"ticks\":\"\"},\"caxis\":{\"gridcolor\":\"white\",\"linecolor\":\"white\",\"ticks\":\"\"}},\"coloraxis\":{\"colorbar\":{\"outlinewidth\":0,\"ticks\":\"\"}},\"colorscale\":{\"sequential\":[[0.0,\"#0d0887\"],[0.1111111111111111,\"#46039f\"],[0.2222222222222222,\"#7201a8\"],[0.3333333333333333,\"#9c179e\"],[0.4444444444444444,\"#bd3786\"],[0.5555555555555556,\"#d8576b\"],[0.6666666666666666,\"#ed7953\"],[0.7777777777777778,\"#fb9f3a\"],[0.8888888888888888,\"#fdca26\"],[1.0,\"#f0f921\"]],\"sequentialminus\":[[0.0,\"#0d0887\"],[0.1111111111111111,\"#46039f\"],[0.2222222222222222,\"#7201a8\"],[0.3333333333333333,\"#9c179e\"],[0.4444444444444444,\"#bd3786\"],[0.5555555555555556,\"#d8576b\"],[0.6666666666666666,\"#ed7953\"],[0.7777777777777778,\"#fb9f3a\"],[0.8888888888888888,\"#fdca26\"],[1.0,\"#f0f921\"]],\"diverging\":[[0,\"#8e0152\"],[0.1,\"#c51b7d\"],[0.2,\"#de77ae\"],[0.3,\"#f1b6da\"],[0.4,\"#fde0ef\"],[0.5,\"#f7f7f7\"],[0.6,\"#e6f5d0\"],[0.7,\"#b8e186\"],[0.8,\"#7fbc41\"],[0.9,\"#4d9221\"],[1,\"#276419\"]]},\"xaxis\":{\"gridcolor\":\"white\",\"linecolor\":\"white\",\"ticks\":\"\",\"title\":{\"standoff\":15},\"zerolinecolor\":\"white\",\"automargin\":true,\"zerolinewidth\":2},\"yaxis\":{\"gridcolor\":\"white\",\"linecolor\":\"white\",\"ticks\":\"\",\"title\":{\"standoff\":15},\"zerolinecolor\":\"white\",\"automargin\":true,\"zerolinewidth\":2},\"scene\":{\"xaxis\":{\"backgroundcolor\":\"#E5ECF6\",\"gridcolor\":\"white\",\"linecolor\":\"white\",\"showbackground\":true,\"ticks\":\"\",\"zerolinecolor\":\"white\",\"gridwidth\":2},\"yaxis\":{\"backgroundcolor\":\"#E5ECF6\",\"gridcolor\":\"white\",\"linecolor\":\"white\",\"showbackground\":true,\"ticks\":\"\",\"zerolinecolor\":\"white\",\"gridwidth\":2},\"zaxis\":{\"backgroundcolor\":\"#E5ECF6\",\"gridcolor\":\"white\",\"linecolor\":\"white\",\"showbackground\":true,\"ticks\":\"\",\"zerolinecolor\":\"white\",\"gridwidth\":2}},\"shapedefaults\":{\"line\":{\"color\":\"#2a3f5f\"}},\"annotationdefaults\":{\"arrowcolor\":\"#2a3f5f\",\"arrowhead\":0,\"arrowwidth\":1},\"geo\":{\"bgcolor\":\"white\",\"landcolor\":\"#E5ECF6\",\"subunitcolor\":\"white\",\"showland\":true,\"showlakes\":true,\"lakecolor\":\"white\"},\"title\":{\"x\":0.05},\"mapbox\":{\"style\":\"light\"}}},\"xaxis\":{\"anchor\":\"y\",\"domain\":[0.0,1.0],\"title\":{\"text\":\"BMI Group\"}},\"yaxis\":{\"anchor\":\"x\",\"domain\":[0.0,1.0],\"title\":{\"text\":\"Count\"}},\"legend\":{\"title\":{\"text\":\"Stroke\"},\"tracegroupgap\":0},\"title\":{\"text\":\"Distribution of Strokes by BMI Group\"},\"barmode\":\"relative\"},                        {\"responsive\": true}                    ).then(function(){\n",
              "                            \n",
              "var gd = document.getElementById('393c4536-4723-413f-87a1-d9ff9d1c56b8');\n",
              "var x = new MutationObserver(function (mutations, observer) {{\n",
              "        var display = window.getComputedStyle(gd).display;\n",
              "        if (!display || display === 'none') {{\n",
              "            console.log([gd, 'removed!']);\n",
              "            Plotly.purge(gd);\n",
              "            observer.disconnect();\n",
              "        }}\n",
              "}});\n",
              "\n",
              "// Listen for the removal of the full notebook cells\n",
              "var notebookContainer = gd.closest('#notebook-container');\n",
              "if (notebookContainer) {{\n",
              "    x.observe(notebookContainer, {childList: true});\n",
              "}}\n",
              "\n",
              "// Listen for the clearing of the current output cell\n",
              "var outputEl = gd.closest('.output');\n",
              "if (outputEl) {{\n",
              "    x.observe(outputEl, {childList: true});\n",
              "}}\n",
              "\n",
              "                        })                };                            </script>        </div>\n",
              "</body>\n",
              "</html>"
            ]
          },
          "metadata": {}
        }
      ]
    },
    {
      "cell_type": "markdown",
      "source": [
        "### **Handling the categorical variables**\n",
        "Based on the p-value, we will not be considering the 'gender' and 'residence_type' variables for our modeling. Hence, I will remove them.\n",
        "\n",
        "Further, the 'ever_married' variable has binary categories, hence I will label encode it. The 'work_type' and 'smoking_status' have more than two categories, hence, it would be best to use one-hot encoding for them."
      ],
      "metadata": {
        "id": "u5eeSPmOLa6N"
      }
    },
    {
      "cell_type": "code",
      "source": [
        "df = df.drop(['gender', 'Residence_type'], axis=1)"
      ],
      "metadata": {
        "id": "wXEbPlDAOoJV"
      },
      "execution_count": 93,
      "outputs": []
    },
    {
      "cell_type": "code",
      "source": [
        "# Label encoding for 'ever_married'\n",
        "\n",
        "label_encoder = LabelEncoder()\n",
        "\n",
        "df['ever_married'] = label_encoder.fit_transform(df['ever_married'])"
      ],
      "metadata": {
        "id": "OW6u0oZyOrlZ"
      },
      "execution_count": 94,
      "outputs": []
    },
    {
      "cell_type": "code",
      "source": [
        "# One-hot encoding for 'work_type' and 'smoking_status'\n",
        "\n",
        "df = pd.get_dummies(df, columns=['work_type', 'smoking_status'], drop_first=True)\n",
        "\n",
        "df.head()"
      ],
      "metadata": {
        "colab": {
          "base_uri": "https://localhost:8080/",
          "height": 244
        },
        "id": "HXyD3YTNrCzK",
        "outputId": "ffdb4e0a-39de-482f-9a0b-a367e9a92051"
      },
      "execution_count": 95,
      "outputs": [
        {
          "output_type": "execute_result",
          "data": {
            "text/plain": [
              "    age  hypertension  heart_disease  ever_married  avg_glucose_level   bmi  \\\n",
              "0  67.0             0              1             1             228.69  36.6   \n",
              "1  61.0             0              0             1             202.21  26.1   \n",
              "2  80.0             0              1             1             105.92  32.5   \n",
              "3  49.0             0              0             1             171.23  34.4   \n",
              "4  79.0             1              0             1             174.12  24.0   \n",
              "\n",
              "  stroke  work_type_Never_worked  work_type_Private  work_type_Self-employed  \\\n",
              "0      1                       0                  1                        0   \n",
              "1      1                       0                  0                        1   \n",
              "2      1                       0                  1                        0   \n",
              "3      1                       0                  1                        0   \n",
              "4      1                       0                  0                        1   \n",
              "\n",
              "   work_type_children  smoking_status_formerly smoked  \\\n",
              "0                   0                               1   \n",
              "1                   0                               0   \n",
              "2                   0                               0   \n",
              "3                   0                               0   \n",
              "4                   0                               0   \n",
              "\n",
              "   smoking_status_never smoked  smoking_status_smokes  \n",
              "0                            0                      0  \n",
              "1                            1                      0  \n",
              "2                            1                      0  \n",
              "3                            0                      1  \n",
              "4                            1                      0  "
            ],
            "text/html": [
              "\n",
              "  <div id=\"df-0409684b-8826-42e2-8320-1f6243d7dca8\" class=\"colab-df-container\">\n",
              "    <div>\n",
              "<style scoped>\n",
              "    .dataframe tbody tr th:only-of-type {\n",
              "        vertical-align: middle;\n",
              "    }\n",
              "\n",
              "    .dataframe tbody tr th {\n",
              "        vertical-align: top;\n",
              "    }\n",
              "\n",
              "    .dataframe thead th {\n",
              "        text-align: right;\n",
              "    }\n",
              "</style>\n",
              "<table border=\"1\" class=\"dataframe\">\n",
              "  <thead>\n",
              "    <tr style=\"text-align: right;\">\n",
              "      <th></th>\n",
              "      <th>age</th>\n",
              "      <th>hypertension</th>\n",
              "      <th>heart_disease</th>\n",
              "      <th>ever_married</th>\n",
              "      <th>avg_glucose_level</th>\n",
              "      <th>bmi</th>\n",
              "      <th>stroke</th>\n",
              "      <th>work_type_Never_worked</th>\n",
              "      <th>work_type_Private</th>\n",
              "      <th>work_type_Self-employed</th>\n",
              "      <th>work_type_children</th>\n",
              "      <th>smoking_status_formerly smoked</th>\n",
              "      <th>smoking_status_never smoked</th>\n",
              "      <th>smoking_status_smokes</th>\n",
              "    </tr>\n",
              "  </thead>\n",
              "  <tbody>\n",
              "    <tr>\n",
              "      <th>0</th>\n",
              "      <td>67.0</td>\n",
              "      <td>0</td>\n",
              "      <td>1</td>\n",
              "      <td>1</td>\n",
              "      <td>228.69</td>\n",
              "      <td>36.6</td>\n",
              "      <td>1</td>\n",
              "      <td>0</td>\n",
              "      <td>1</td>\n",
              "      <td>0</td>\n",
              "      <td>0</td>\n",
              "      <td>1</td>\n",
              "      <td>0</td>\n",
              "      <td>0</td>\n",
              "    </tr>\n",
              "    <tr>\n",
              "      <th>1</th>\n",
              "      <td>61.0</td>\n",
              "      <td>0</td>\n",
              "      <td>0</td>\n",
              "      <td>1</td>\n",
              "      <td>202.21</td>\n",
              "      <td>26.1</td>\n",
              "      <td>1</td>\n",
              "      <td>0</td>\n",
              "      <td>0</td>\n",
              "      <td>1</td>\n",
              "      <td>0</td>\n",
              "      <td>0</td>\n",
              "      <td>1</td>\n",
              "      <td>0</td>\n",
              "    </tr>\n",
              "    <tr>\n",
              "      <th>2</th>\n",
              "      <td>80.0</td>\n",
              "      <td>0</td>\n",
              "      <td>1</td>\n",
              "      <td>1</td>\n",
              "      <td>105.92</td>\n",
              "      <td>32.5</td>\n",
              "      <td>1</td>\n",
              "      <td>0</td>\n",
              "      <td>1</td>\n",
              "      <td>0</td>\n",
              "      <td>0</td>\n",
              "      <td>0</td>\n",
              "      <td>1</td>\n",
              "      <td>0</td>\n",
              "    </tr>\n",
              "    <tr>\n",
              "      <th>3</th>\n",
              "      <td>49.0</td>\n",
              "      <td>0</td>\n",
              "      <td>0</td>\n",
              "      <td>1</td>\n",
              "      <td>171.23</td>\n",
              "      <td>34.4</td>\n",
              "      <td>1</td>\n",
              "      <td>0</td>\n",
              "      <td>1</td>\n",
              "      <td>0</td>\n",
              "      <td>0</td>\n",
              "      <td>0</td>\n",
              "      <td>0</td>\n",
              "      <td>1</td>\n",
              "    </tr>\n",
              "    <tr>\n",
              "      <th>4</th>\n",
              "      <td>79.0</td>\n",
              "      <td>1</td>\n",
              "      <td>0</td>\n",
              "      <td>1</td>\n",
              "      <td>174.12</td>\n",
              "      <td>24.0</td>\n",
              "      <td>1</td>\n",
              "      <td>0</td>\n",
              "      <td>0</td>\n",
              "      <td>1</td>\n",
              "      <td>0</td>\n",
              "      <td>0</td>\n",
              "      <td>1</td>\n",
              "      <td>0</td>\n",
              "    </tr>\n",
              "  </tbody>\n",
              "</table>\n",
              "</div>\n",
              "    <div class=\"colab-df-buttons\">\n",
              "\n",
              "  <div class=\"colab-df-container\">\n",
              "    <button class=\"colab-df-convert\" onclick=\"convertToInteractive('df-0409684b-8826-42e2-8320-1f6243d7dca8')\"\n",
              "            title=\"Convert this dataframe to an interactive table.\"\n",
              "            style=\"display:none;\">\n",
              "\n",
              "  <svg xmlns=\"http://www.w3.org/2000/svg\" height=\"24px\" viewBox=\"0 -960 960 960\">\n",
              "    <path d=\"M120-120v-720h720v720H120Zm60-500h600v-160H180v160Zm220 220h160v-160H400v160Zm0 220h160v-160H400v160ZM180-400h160v-160H180v160Zm440 0h160v-160H620v160ZM180-180h160v-160H180v160Zm440 0h160v-160H620v160Z\"/>\n",
              "  </svg>\n",
              "    </button>\n",
              "\n",
              "  <style>\n",
              "    .colab-df-container {\n",
              "      display:flex;\n",
              "      gap: 12px;\n",
              "    }\n",
              "\n",
              "    .colab-df-convert {\n",
              "      background-color: #E8F0FE;\n",
              "      border: none;\n",
              "      border-radius: 50%;\n",
              "      cursor: pointer;\n",
              "      display: none;\n",
              "      fill: #1967D2;\n",
              "      height: 32px;\n",
              "      padding: 0 0 0 0;\n",
              "      width: 32px;\n",
              "    }\n",
              "\n",
              "    .colab-df-convert:hover {\n",
              "      background-color: #E2EBFA;\n",
              "      box-shadow: 0px 1px 2px rgba(60, 64, 67, 0.3), 0px 1px 3px 1px rgba(60, 64, 67, 0.15);\n",
              "      fill: #174EA6;\n",
              "    }\n",
              "\n",
              "    .colab-df-buttons div {\n",
              "      margin-bottom: 4px;\n",
              "    }\n",
              "\n",
              "    [theme=dark] .colab-df-convert {\n",
              "      background-color: #3B4455;\n",
              "      fill: #D2E3FC;\n",
              "    }\n",
              "\n",
              "    [theme=dark] .colab-df-convert:hover {\n",
              "      background-color: #434B5C;\n",
              "      box-shadow: 0px 1px 3px 1px rgba(0, 0, 0, 0.15);\n",
              "      filter: drop-shadow(0px 1px 2px rgba(0, 0, 0, 0.3));\n",
              "      fill: #FFFFFF;\n",
              "    }\n",
              "  </style>\n",
              "\n",
              "    <script>\n",
              "      const buttonEl =\n",
              "        document.querySelector('#df-0409684b-8826-42e2-8320-1f6243d7dca8 button.colab-df-convert');\n",
              "      buttonEl.style.display =\n",
              "        google.colab.kernel.accessAllowed ? 'block' : 'none';\n",
              "\n",
              "      async function convertToInteractive(key) {\n",
              "        const element = document.querySelector('#df-0409684b-8826-42e2-8320-1f6243d7dca8');\n",
              "        const dataTable =\n",
              "          await google.colab.kernel.invokeFunction('convertToInteractive',\n",
              "                                                    [key], {});\n",
              "        if (!dataTable) return;\n",
              "\n",
              "        const docLinkHtml = 'Like what you see? Visit the ' +\n",
              "          '<a target=\"_blank\" href=https://colab.research.google.com/notebooks/data_table.ipynb>data table notebook</a>'\n",
              "          + ' to learn more about interactive tables.';\n",
              "        element.innerHTML = '';\n",
              "        dataTable['output_type'] = 'display_data';\n",
              "        await google.colab.output.renderOutput(dataTable, element);\n",
              "        const docLink = document.createElement('div');\n",
              "        docLink.innerHTML = docLinkHtml;\n",
              "        element.appendChild(docLink);\n",
              "      }\n",
              "    </script>\n",
              "  </div>\n",
              "\n",
              "\n",
              "<div id=\"df-aa209f33-4b9b-4b9a-b6de-3b555f0bc420\">\n",
              "  <button class=\"colab-df-quickchart\" onclick=\"quickchart('df-aa209f33-4b9b-4b9a-b6de-3b555f0bc420')\"\n",
              "            title=\"Suggest charts\"\n",
              "            style=\"display:none;\">\n",
              "\n",
              "<svg xmlns=\"http://www.w3.org/2000/svg\" height=\"24px\"viewBox=\"0 0 24 24\"\n",
              "     width=\"24px\">\n",
              "    <g>\n",
              "        <path d=\"M19 3H5c-1.1 0-2 .9-2 2v14c0 1.1.9 2 2 2h14c1.1 0 2-.9 2-2V5c0-1.1-.9-2-2-2zM9 17H7v-7h2v7zm4 0h-2V7h2v10zm4 0h-2v-4h2v4z\"/>\n",
              "    </g>\n",
              "</svg>\n",
              "  </button>\n",
              "\n",
              "<style>\n",
              "  .colab-df-quickchart {\n",
              "      --bg-color: #E8F0FE;\n",
              "      --fill-color: #1967D2;\n",
              "      --hover-bg-color: #E2EBFA;\n",
              "      --hover-fill-color: #174EA6;\n",
              "      --disabled-fill-color: #AAA;\n",
              "      --disabled-bg-color: #DDD;\n",
              "  }\n",
              "\n",
              "  [theme=dark] .colab-df-quickchart {\n",
              "      --bg-color: #3B4455;\n",
              "      --fill-color: #D2E3FC;\n",
              "      --hover-bg-color: #434B5C;\n",
              "      --hover-fill-color: #FFFFFF;\n",
              "      --disabled-bg-color: #3B4455;\n",
              "      --disabled-fill-color: #666;\n",
              "  }\n",
              "\n",
              "  .colab-df-quickchart {\n",
              "    background-color: var(--bg-color);\n",
              "    border: none;\n",
              "    border-radius: 50%;\n",
              "    cursor: pointer;\n",
              "    display: none;\n",
              "    fill: var(--fill-color);\n",
              "    height: 32px;\n",
              "    padding: 0;\n",
              "    width: 32px;\n",
              "  }\n",
              "\n",
              "  .colab-df-quickchart:hover {\n",
              "    background-color: var(--hover-bg-color);\n",
              "    box-shadow: 0 1px 2px rgba(60, 64, 67, 0.3), 0 1px 3px 1px rgba(60, 64, 67, 0.15);\n",
              "    fill: var(--button-hover-fill-color);\n",
              "  }\n",
              "\n",
              "  .colab-df-quickchart-complete:disabled,\n",
              "  .colab-df-quickchart-complete:disabled:hover {\n",
              "    background-color: var(--disabled-bg-color);\n",
              "    fill: var(--disabled-fill-color);\n",
              "    box-shadow: none;\n",
              "  }\n",
              "\n",
              "  .colab-df-spinner {\n",
              "    border: 2px solid var(--fill-color);\n",
              "    border-color: transparent;\n",
              "    border-bottom-color: var(--fill-color);\n",
              "    animation:\n",
              "      spin 1s steps(1) infinite;\n",
              "  }\n",
              "\n",
              "  @keyframes spin {\n",
              "    0% {\n",
              "      border-color: transparent;\n",
              "      border-bottom-color: var(--fill-color);\n",
              "      border-left-color: var(--fill-color);\n",
              "    }\n",
              "    20% {\n",
              "      border-color: transparent;\n",
              "      border-left-color: var(--fill-color);\n",
              "      border-top-color: var(--fill-color);\n",
              "    }\n",
              "    30% {\n",
              "      border-color: transparent;\n",
              "      border-left-color: var(--fill-color);\n",
              "      border-top-color: var(--fill-color);\n",
              "      border-right-color: var(--fill-color);\n",
              "    }\n",
              "    40% {\n",
              "      border-color: transparent;\n",
              "      border-right-color: var(--fill-color);\n",
              "      border-top-color: var(--fill-color);\n",
              "    }\n",
              "    60% {\n",
              "      border-color: transparent;\n",
              "      border-right-color: var(--fill-color);\n",
              "    }\n",
              "    80% {\n",
              "      border-color: transparent;\n",
              "      border-right-color: var(--fill-color);\n",
              "      border-bottom-color: var(--fill-color);\n",
              "    }\n",
              "    90% {\n",
              "      border-color: transparent;\n",
              "      border-bottom-color: var(--fill-color);\n",
              "    }\n",
              "  }\n",
              "</style>\n",
              "\n",
              "  <script>\n",
              "    async function quickchart(key) {\n",
              "      const quickchartButtonEl =\n",
              "        document.querySelector('#' + key + ' button');\n",
              "      quickchartButtonEl.disabled = true;  // To prevent multiple clicks.\n",
              "      quickchartButtonEl.classList.add('colab-df-spinner');\n",
              "      try {\n",
              "        const charts = await google.colab.kernel.invokeFunction(\n",
              "            'suggestCharts', [key], {});\n",
              "      } catch (error) {\n",
              "        console.error('Error during call to suggestCharts:', error);\n",
              "      }\n",
              "      quickchartButtonEl.classList.remove('colab-df-spinner');\n",
              "      quickchartButtonEl.classList.add('colab-df-quickchart-complete');\n",
              "    }\n",
              "    (() => {\n",
              "      let quickchartButtonEl =\n",
              "        document.querySelector('#df-aa209f33-4b9b-4b9a-b6de-3b555f0bc420 button');\n",
              "      quickchartButtonEl.style.display =\n",
              "        google.colab.kernel.accessAllowed ? 'block' : 'none';\n",
              "    })();\n",
              "  </script>\n",
              "</div>\n",
              "    </div>\n",
              "  </div>\n"
            ]
          },
          "metadata": {},
          "execution_count": 95
        }
      ]
    },
    {
      "cell_type": "markdown",
      "source": [
        "## **Data Modeling using Logistic Regression**\n",
        "\n",
        "I will use the Synthetic Minority Over-sampling Technique (SMOTE) to address the class imbalance in the target variable, 'stroke'.\n",
        "\n",
        "*   I will separate the features (X) and the target variable (y).\n",
        "*   Then, split the data into training and testing sets to assess the model's performance on unseen data.\n",
        "*   The SMOTE technique is then to be applied to the training data (X_train, y_train). This oversamples the minority class ('stroke' = 1) by generating synthetic examples.\n",
        "*  Now, we have a new set of resampled data (X_resampled, y_resampled) that addresses the class imbalance issue.\n",
        "\n",
        "\n",
        "\n",
        "\n",
        "\n",
        "\n",
        "\n",
        "\n",
        "\n",
        "\n"
      ],
      "metadata": {
        "id": "tT9nyCqoQr3T"
      }
    },
    {
      "cell_type": "markdown",
      "source": [
        "### **SMOTE resampling**"
      ],
      "metadata": {
        "id": "Bac8QHXVXugy"
      }
    },
    {
      "cell_type": "code",
      "source": [
        "X = df.drop('stroke', axis=1)  # Features\n",
        "y = df['stroke']  # Target variable\n",
        "\n",
        "# Split the data into training and testing sets\n",
        "X_train, X_test, y_train, y_test = train_test_split(X, y, test_size=0.2, random_state=42)\n",
        "\n",
        "# Apply SMOTE to the training data\n",
        "smote = SMOTE(random_state=42)\n",
        "X_resampled, y_resampled = smote.fit_resample(X_train, y_train)"
      ],
      "metadata": {
        "id": "jybEeFKzwGD_"
      },
      "execution_count": 104,
      "outputs": []
    },
    {
      "cell_type": "markdown",
      "source": [
        "The new number of training samples is now 7802."
      ],
      "metadata": {
        "id": "MT92hFycS548"
      }
    },
    {
      "cell_type": "code",
      "source": [
        "len(y_resampled)"
      ],
      "metadata": {
        "colab": {
          "base_uri": "https://localhost:8080/"
        },
        "id": "afaNRKFC85-P",
        "outputId": "b9d29549-eef4-420a-c4af-c4d3e399cc40"
      },
      "execution_count": 67,
      "outputs": [
        {
          "output_type": "execute_result",
          "data": {
            "text/plain": [
              "7802"
            ]
          },
          "metadata": {},
          "execution_count": 67
        }
      ]
    },
    {
      "cell_type": "markdown",
      "source": [
        "Below is a visualization of the stroke categories after applying SMOTE."
      ],
      "metadata": {
        "id": "s2hKkpZNTpUV"
      }
    },
    {
      "cell_type": "code",
      "source": [
        "resampled_df = pd.concat([pd.DataFrame(X_resampled, columns=X.columns), pd.Series(y_resampled, name='stroke')], axis=1)\n",
        "\n",
        "stroke_distribution_after_smote = resampled_df['stroke'].value_counts().reset_index()\n",
        "stroke_distribution_after_smote.columns = ['Stroke', 'Count']\n",
        "\n",
        "stroke_distribution_after_smote['Stroke'] = stroke_distribution_after_smote['Stroke'].map({0: 'No Stroke', 1: 'Stroke'})\n",
        "\n",
        "plt.figure(figsize=(8, 8))\n",
        "plt.pie(stroke_distribution_after_smote['Count'], labels=stroke_distribution_after_smote['Stroke'], autopct='%1.1f%%',\n",
        "        colors=['darkturquoise', 'gold'], startangle = 90.0)\n",
        "plt.title('Class Distribution After SMOTE')\n",
        "plt.show()"
      ],
      "metadata": {
        "colab": {
          "base_uri": "https://localhost:8080/",
          "height": 675
        },
        "id": "iwZRXUhXzOCv",
        "outputId": "e068da2a-8e20-4f70-cbef-8ca42b589d57"
      },
      "execution_count": 69,
      "outputs": [
        {
          "output_type": "display_data",
          "data": {
            "text/plain": [
              "<Figure size 800x800 with 1 Axes>"
            ],
            "image/png": "[encoded data removed]"
          },
          "metadata": {}
        }
      ]
    },
    {
      "cell_type": "markdown",
      "source": [
        "### **Logistic Regression**"
      ],
      "metadata": {
        "id": "WlH9y6sDXlPS"
      }
    },
    {
      "cell_type": "code",
      "source": [
        "# Initializing and fitting the logistic regression model\n",
        "\n",
        "logreg = LogisticRegression(class_weight='balanced', max_iter=1000)\n",
        "logreg.fit(X_train, y_train)\n",
        "\n",
        "# Making predictions on the test set\n",
        "y_pred = logreg.predict(X_test)\n",
        "\n",
        "# Evaluating the model\n",
        "print(\"Accuracy:\", accuracy_score(y_test, y_pred))\n",
        "print(\"\\nClassification Report:\\n\", classification_report(y_test, y_pred))"
      ],
      "metadata": {
        "colab": {
          "base_uri": "https://localhost:8080/"
        },
        "id": "6PazrIJJwZAv",
        "outputId": "bde162cc-47d5-4183-c31d-6152767b0c38"
      },
      "execution_count": 118,
      "outputs": [
        {
          "output_type": "stream",
          "name": "stdout",
          "text": [
            "Accuracy: 0.7465753424657534\n",
            "\n",
            "Classification Report:\n",
            "               precision    recall  f1-score   support\n",
            "\n",
            "           0       0.98      0.74      0.85       960\n",
            "           1       0.17      0.81      0.28        62\n",
            "\n",
            "    accuracy                           0.75      1022\n",
            "   macro avg       0.58      0.77      0.56      1022\n",
            "weighted avg       0.93      0.75      0.81      1022\n",
            "\n"
          ]
        }
      ]
    },
    {
      "cell_type": "markdown",
      "source": [
        "The overall accuracy of the model is 74.6%.\n",
        "\n",
        "The precision for the positive class is 17%. Thus, when the model predicts a positive case, it is correct only 17% of the time.\n",
        "\n",
        "The precision for the negative class is 98%. Thus, the model is very good at correctly identifying instances that do not have a stroke.\n",
        "\n",
        "Recall for the positive class is 81%. This implies that the model is capturing 81% of the actual stroke cases.\n",
        "\n",
        "Recall for the negative class is 74%. This indicates that the model is capturing 74% of the instances correctly identified as not having a stroke.\n",
        "\n",
        "We can also see a comprehensive summary in the below confusion matrix."
      ],
      "metadata": {
        "id": "kE7e-3ipXyRI"
      }
    },
    {
      "cell_type": "code",
      "source": [
        "cm = confusion_matrix(y_test, y_pred)\n",
        "\n",
        "# Create a heatmap\n",
        "plt.figure(figsize=(8, 6))\n",
        "sns.heatmap(cm, annot=True, fmt=\"d\", cmap=\"Blues\", linewidths=.5, cbar=False)\n",
        "plt.title('Confusion Matrix')\n",
        "plt.xlabel('Predicted Label')\n",
        "plt.ylabel('True Label')\n",
        "plt.show()"
      ],
      "metadata": {
        "colab": {
          "base_uri": "https://localhost:8080/",
          "height": 564
        },
        "id": "7trDNhGd3IWf",
        "outputId": "36a1d4a8-953f-4d1c-e832-413d90577621"
      },
      "execution_count": 119,
      "outputs": [
        {
          "output_type": "display_data",
          "data": {
            "text/plain": [
              "<Figure size 800x600 with 1 Axes>"
            ],
            "image/png": "[encoded data removed]"
          },
          "metadata": {}
        }
      ]
    },
    {
      "cell_type": "markdown",
      "source": [
        "Below are the top predictive features based on the absolute magnitude of the logistic regression coefficients."
      ],
      "metadata": {
        "id": "RB5VBdXDYu2b"
      }
    },
    {
      "cell_type": "code",
      "source": [
        "coefficients = logreg.coef_[0]\n",
        "feature_names = X.columns\n",
        "\n",
        "coef_df = pd.DataFrame({'Feature': feature_names, 'Coefficient': coefficients})\n",
        "\n",
        "top_features = coef_df.reindex(coef_df['Coefficient'].abs().sort_values(ascending=False).index)\n",
        "\n",
        "print(\"Top Predictive Features:\")\n",
        "print(top_features)\n"
      ],
      "metadata": {
        "colab": {
          "base_uri": "https://localhost:8080/"
        },
        "id": "Tqi9pHElXZVK",
        "outputId": "7beeaf05-50ce-408a-ae51-0f8f96fcd1be"
      },
      "execution_count": 120,
      "outputs": [
        {
          "output_type": "stream",
          "name": "stdout",
          "text": [
            "Top Predictive Features:\n",
            "                           Feature  Coefficient\n",
            "9               work_type_children     1.638920\n",
            "1                     hypertension     0.511268\n",
            "12           smoking_status_smokes     0.309842\n",
            "3                     ever_married    -0.224313\n",
            "2                    heart_disease     0.215532\n",
            "11     smoking_status_never smoked    -0.180507\n",
            "6           work_type_Never_worked    -0.180217\n",
            "8          work_type_Self-employed    -0.148566\n",
            "7                work_type_Private     0.146806\n",
            "0                              age     0.081124\n",
            "10  smoking_status_formerly smoked    -0.024189\n",
            "5                              bmi     0.013605\n",
            "4                avg_glucose_level     0.003974\n"
          ]
        }
      ]
    }
  ]
}